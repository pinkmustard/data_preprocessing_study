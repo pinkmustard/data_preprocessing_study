{
  "cells": [
    {
      "cell_type": "markdown",
      "metadata": {
        "id": "-uyZnljmfPU0"
      },
      "source": [
        "# 작업형2\n",
        "\n",
        "## [가격 예측] 중고 자동차\n",
        "- 자동차 가격을 예측해주세요!\n",
        "\n",
        "\n",
        "- 예측할 값(y): price\n",
        "- 평가: RMSE (Root Mean Squared Error)\n",
        "- data: train.csv, test.csv\n",
        "- 제출 형식: result.csv파일을 아래와 같은 형식(수치형)으로 제출\n",
        "~~~\n",
        "pred\n",
        "11000\n",
        "20500\n",
        "19610\n",
        "...\n",
        "11995\n",
        "~~~\n",
        "\n",
        "### 답안 제출 참고\n",
        "- pd.read_csv('result.csv') 로 제출 코드 확인"
      ]
    },
    {
      "cell_type": "code",
      "execution_count": 52,
      "metadata": {
        "id": "30wq46-FfSt_"
      },
      "outputs": [
        {
          "name": "stdout",
          "output_type": "stream",
          "text": [
            "RMSE:  1244.2510087245782\n"
          ]
        }
      ],
      "source": [
        "# 데이터 불러오기\n",
        "import pandas as pd\n",
        "\n",
        "train = pd.read_csv(\"train.csv\")\n",
        "test = pd.read_csv(\"test.csv\")\n",
        "# print(train.shape, test.shape)\n",
        "# (3759, 9) (1617, 8)\n",
        "\n",
        "# print(train.head())\n",
        "#        model  year  price transmission  mileage fuelType  tax   mpg  \\\n",
        "# 0   EcoSport  2017  10298       Manual    25013   Petrol  150  53.3   \n",
        "# 1      Focus  2016  10491       Manual    30970   Diesel    0  74.3   \n",
        "# 2      S-MAX  2017  13498       Manual    60200   Diesel  150  56.5   \n",
        "# 3     Fiesta  2018  10600       Manual    27380   Petrol  145  56.5   \n",
        "# 4     Fiesta  2018  11000       Manual     7724   Petrol  145  65.7   \n",
        "\n",
        "#    engineSize  \n",
        "# 0         1.0  \n",
        "# 1         1.5  \n",
        "# 2         2.0  \n",
        "# 3         1.0  \n",
        "# 4         1.0  \n",
        "# print(test.head())\n",
        "#      model  year transmission  mileage fuelType  tax   mpg  engineSize\n",
        "# 0    S-MAX  2016       Manual    23905   Diesel  125  56.5         2.0\n",
        "# 1   Fiesta  2018       Manual    16895   Petrol  145  40.3         1.5\n",
        "# 2     Kuga  2017       Manual    12109   Petrol  165  45.6         1.5\n",
        "# 3     Kuga  2018    Semi-Auto    13940   Diesel  145  58.9         1.5\n",
        "# 4   Fiesta  2013       Manual    31690   Petrol   30  54.3         1.2\n",
        "\n",
        "# print(train.describe())\n",
        "#               year         price        mileage          tax          mpg  \\\n",
        "# count  3759.000000   3759.000000    3759.000000  3759.000000  3759.000000   \n",
        "# mean   2016.887736  12353.321362   23191.786379   114.444001    57.793083   \n",
        "# std       2.151811   4750.338051   19223.258713    61.713682    10.099221   \n",
        "# min    2002.000000   1095.000000       5.000000     0.000000    20.900000   \n",
        "# 25%    2016.000000   9000.000000    9997.500000    75.000000    52.300000   \n",
        "# 50%    2017.000000  11495.000000   18180.000000   145.000000    58.900000   \n",
        "# 75%    2018.000000  15310.000000   31000.000000   145.000000    65.700000   \n",
        "# max    2060.000000  48000.000000  144000.000000   570.000000   201.800000   \n",
        "\n",
        "#         engineSize  \n",
        "# count  3759.000000  \n",
        "# mean      1.352807  \n",
        "# std       0.437130  \n",
        "# min       0.000000  \n",
        "# 25%       1.000000  \n",
        "# 50%       1.200000  \n",
        "# 75%       1.500000  \n",
        "# max       5.000000  \n",
        "\n",
        "# print(train.describe(include=\"O\"))\n",
        "#           model transmission fuelType\n",
        "# count      3759         3759     3759\n",
        "# unique       19            3        3\n",
        "# top      Fiesta       Manual   Petrol\n",
        "# freq       1372         3234     2541\n",
        "# print(test.describe(include=\"O\"))\n",
        "#           model transmission fuelType\n",
        "# count      1617         1617     1617\n",
        "# unique       19            3        3\n",
        "# top      Fiesta       Manual   Petrol\n",
        "# freq        591         1385     1085\n",
        "\n",
        "# print(test.isnull().sum()) # 없음\n",
        "\n",
        "# 0. 타겟값 분리\n",
        "target = train.pop('price')\n",
        "# print(train.shape, test.shape) #(3759, 8) (1617, 8)\n",
        "# print(target)\n",
        "\n",
        "# 1. base라인 RMSE:  1543.7584595763765\n",
        "n_cols = train.select_dtypes(exclude=\"O\").columns\n",
        "\n",
        "# 2. 문자열 변환 + 인코딩 + 정규화 RMSE:  1319.9210856805942\n",
        "o_cols = train.select_dtypes(include=\"O\").columns\n",
        "\n",
        "from sklearn.preprocessing import LabelEncoder, StandardScaler\n",
        "\n",
        "for col in o_cols:\n",
        "    le = LabelEncoder()\n",
        "    train[col] = le.fit_transform(train[col])\n",
        "    test[col] = le.transform(test[col])\n",
        "\n",
        "scaler = StandardScaler()\n",
        "train[n_cols] = scaler.fit_transform(train[n_cols])\n",
        "test[n_cols] = scaler.transform(test[n_cols])\n",
        "\n",
        "from sklearn.model_selection import train_test_split\n",
        "X_tr, X_val, y_tr, y_val = train_test_split(train, target, test_size=0.2, random_state=2022)\n",
        "\n",
        "\n",
        "from sklearn.metrics import mean_squared_error\n",
        "def rmse(y_val, pred):\n",
        "    return(mean_squared_error(y_val, pred)**0.5)\n",
        "\n",
        "# 3. 모델 선택\n",
        "# RF: RMSE:  1319.9210856805942\n",
        "# XGB: RMSE:  1269.7677864640748\n",
        "# light: RMSE:  1263.5790505420978 \n",
        "\n",
        "# from sklearn.ensemble import RandomForestRegressor\n",
        "# model = RandomForestRegressor(random_state=2022)\n",
        "# from xgboost import XGBRegressor\n",
        "# model = XGBRegressor(random_state=2022)\n",
        "\n",
        "# 4. 하이퍼 파라미터 튜닝: n_estimators = 200, RMSE:  1244.2510087245782\n",
        "from lightgbm import LGBMRegressor\n",
        "model = LGBMRegressor(n_estimators = 200, random_state=2022, verbose=-1)\n",
        "model.fit(X_tr, y_tr)\n",
        "pred = model.predict(X_val)\n",
        "print(\"RMSE: \", rmse(y_val, pred))\n",
        "pred = model.predict(test)\n",
        "submit = pd.DataFrame({\n",
        "    'pred': pred\n",
        "})\n",
        "submit.to_csv('작업형2제출.csv', index=False)"
      ]
    },
    {
      "cell_type": "code",
      "execution_count": 53,
      "metadata": {},
      "outputs": [
        {
          "data": {
            "text/plain": [
              "1365.2827536351276"
            ]
          },
          "execution_count": 53,
          "metadata": {},
          "output_type": "execute_result"
        }
      ],
      "source": [
        "y = pd.read_csv(\"y.csv\")\n",
        "pred = pd.read_csv('작업형2제출.csv')\n",
        "rmse(y, pred)"
      ]
    },
    {
      "cell_type": "code",
      "execution_count": null,
      "metadata": {},
      "outputs": [],
      "source": []
    }
  ],
  "metadata": {
    "colab": {
      "provenance": []
    },
    "kernelspec": {
      "display_name": "Python 3",
      "name": "python3"
    },
    "language_info": {
      "codemirror_mode": {
        "name": "ipython",
        "version": 3
      },
      "file_extension": ".py",
      "mimetype": "text/x-python",
      "name": "python",
      "nbconvert_exporter": "python",
      "pygments_lexer": "ipython3",
      "version": "3.8.18"
    }
  },
  "nbformat": 4,
  "nbformat_minor": 0
}
