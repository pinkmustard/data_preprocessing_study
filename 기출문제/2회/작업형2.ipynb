{
  "cells": [
    {
      "cell_type": "markdown",
      "metadata": {
        "id": "yOX8hBk5gKrW"
      },
      "source": [
        "# 작업형2\n",
        "- 빅데이터 분석기사 2회 실기\n",
        "- 데이터 다운로드 : https://www.kaggle.com/prachi13/customer-analytics\n",
        "- 데이터 파일 명 : Train.csv (파일명이 다를 경우 파일명을 수정해주세요)\n",
        "- (데이터가 삭제될 시 수업노트에 유사 데이터 셋을 올려두겠습니다)\n",
        "\n",
        "\n",
        "## 제품 배송 시간에 맞춰 배송되었는지 예측모델 만들기\n",
        "- 제공된 데이터\n",
        "    - X_train.csv\n",
        "    - y_train.csv\n",
        "    - X_test.csv\n",
        "\n",
        "- 학습용 데이터 (X_train, y_train)을 이용하여 배송 예측 모형을 만든 후, 이를 평가용 데이터(X_test)에 적용하여 얻은 예측(시간에 맞춰 도착하지 않을 확률)값을 다음과 같은 형식의 CSV파일로 생성하시오(제출한 모델의 성능은 ROC-AUC 평가지표에 따라 채점)\n",
        "- 0 정시 도착, 1 정시 도착하지 않음\n",
        "\n",
        "```\n",
        "ID,Reached.on.Time_Y.N\n",
        "3500,0.267\n",
        "3501,0.578\n",
        "3502,0.123\n",
        "\n",
        "```\n",
        "\n",
        "- 출력을 원하실 경우 print() 함수 활용\n",
        "- 예시) print(df.head())\n",
        "- getcwd(), chdir() 등 작업 폴더 설정 불필요\n",
        "- 파일 경로 상 내부 드라이브 경로(C: 등) 접근 불가\n",
        "\n",
        "- 데이터 파일 읽기 예제\n",
        "\n",
        "```\n",
        "# 데이터 불러오기\n",
        "import pandas as pd\n",
        "X_test = pd.read_csv(\"data/X_test.csv\")\n",
        "X_train = pd.read_csv(\"data/X_train.csv\")\n",
        "y_train = pd.read_csv(\"data/y_train.csv\")\n",
        "```\n",
        "\n",
        "- csv파일 생성 예시\n",
        "\n",
        "```\n",
        "pd.DataFrame({'ID': X_test['cust_id'], 'Reached.on.Time_Y.N': pred}).to_csv('003000000.csv', index=False)\n",
        "```\n"
      ]
    },
    {
      "cell_type": "code",
      "execution_count": 25,
      "metadata": {
        "id": "hyw3NhLlgN0f"
      },
      "outputs": [],
      "source": [
        "# 시험환경 세팅 3개 파일 생성 (코드 변경 X)\n",
        "import pandas as pd\n",
        "import numpy as np\n",
        "from sklearn.model_selection import train_test_split\n",
        "\n",
        "def exam_data_load(df, target, id_name=\"\", null_name=\"\"):\n",
        "    if id_name == \"\":\n",
        "        df = df.reset_index().rename(columns={\"index\": \"id\"})\n",
        "        id_name = 'id'\n",
        "    else:\n",
        "        id_name = id_name\n",
        "\n",
        "    if null_name != \"\":\n",
        "        df[df == null_name] = np.nan\n",
        "\n",
        "    X_train, X_test = train_test_split(df, test_size=0.2, random_state=2022)\n",
        "    y_train = X_train[[id_name, target]]\n",
        "    X_train = X_train.drop(columns=[target])\n",
        "\n",
        "    y_test = X_test[[id_name, target]]\n",
        "    X_test = X_test.drop(columns=[target])\n",
        "    return X_train, X_test, y_train, y_test\n",
        "\n",
        "df = pd.read_csv(\"Train.csv\") # 파일명이 다를 경우 파일명을 수정해주세요\n",
        "X_train, X_test, y_train, y_test = exam_data_load(df, target='Reached.on.Time_Y.N', id_name='ID')\n",
        "X_train.to_csv(\"X_train.csv\", index=False)\n",
        "y_train.to_csv(\"y_train.csv\", index=False)\n",
        "X_test.to_csv(\"X_test.csv\", index=False)"
      ]
    },
    {
      "cell_type": "code",
      "execution_count": 26,
      "metadata": {
        "id": "hZ0y7BQRXkyK"
      },
      "outputs": [
        {
          "data": {
            "text/plain": [
              "((8799, 11), (8799, 2), (2200, 11))"
            ]
          },
          "execution_count": 26,
          "metadata": {},
          "output_type": "execute_result"
        }
      ],
      "source": [
        "# 데이터 불러오기\n",
        "import pandas as pd\n",
        "X_test = pd.read_csv(\"X_test.csv\")\n",
        "X_train = pd.read_csv(\"X_train.csv\")\n",
        "y_train = pd.read_csv(\"y_train.csv\")\n",
        "\n",
        "X_train.shape, y_train.shape, X_test.shape"
      ]
    },
    {
      "cell_type": "markdown",
      "metadata": {
        "id": "-dVefrwPjPFJ"
      },
      "source": [
        "## EDA"
      ]
    },
    {
      "cell_type": "code",
      "execution_count": 27,
      "metadata": {
        "id": "PWyD54YKgo2W"
      },
      "outputs": [
        {
          "data": {
            "text/html": [
              "<div>\n",
              "<style scoped>\n",
              "    .dataframe tbody tr th:only-of-type {\n",
              "        vertical-align: middle;\n",
              "    }\n",
              "\n",
              "    .dataframe tbody tr th {\n",
              "        vertical-align: top;\n",
              "    }\n",
              "\n",
              "    .dataframe thead th {\n",
              "        text-align: right;\n",
              "    }\n",
              "</style>\n",
              "<table border=\"1\" class=\"dataframe\">\n",
              "  <thead>\n",
              "    <tr style=\"text-align: right;\">\n",
              "      <th></th>\n",
              "      <th>ID</th>\n",
              "      <th>Warehouse_block</th>\n",
              "      <th>Mode_of_Shipment</th>\n",
              "      <th>Customer_care_calls</th>\n",
              "      <th>Customer_rating</th>\n",
              "      <th>Cost_of_the_Product</th>\n",
              "      <th>Prior_purchases</th>\n",
              "      <th>Product_importance</th>\n",
              "      <th>Gender</th>\n",
              "      <th>Discount_offered</th>\n",
              "      <th>Weight_in_gms</th>\n",
              "    </tr>\n",
              "  </thead>\n",
              "  <tbody>\n",
              "    <tr>\n",
              "      <th>0</th>\n",
              "      <td>8440</td>\n",
              "      <td>B</td>\n",
              "      <td>Ship</td>\n",
              "      <td>4</td>\n",
              "      <td>1</td>\n",
              "      <td>284</td>\n",
              "      <td>4</td>\n",
              "      <td>low</td>\n",
              "      <td>F</td>\n",
              "      <td>4</td>\n",
              "      <td>4795</td>\n",
              "    </tr>\n",
              "    <tr>\n",
              "      <th>1</th>\n",
              "      <td>10849</td>\n",
              "      <td>D</td>\n",
              "      <td>Ship</td>\n",
              "      <td>3</td>\n",
              "      <td>2</td>\n",
              "      <td>201</td>\n",
              "      <td>4</td>\n",
              "      <td>medium</td>\n",
              "      <td>M</td>\n",
              "      <td>10</td>\n",
              "      <td>5565</td>\n",
              "    </tr>\n",
              "    <tr>\n",
              "      <th>2</th>\n",
              "      <td>9478</td>\n",
              "      <td>B</td>\n",
              "      <td>Ship</td>\n",
              "      <td>4</td>\n",
              "      <td>4</td>\n",
              "      <td>181</td>\n",
              "      <td>3</td>\n",
              "      <td>medium</td>\n",
              "      <td>F</td>\n",
              "      <td>9</td>\n",
              "      <td>4425</td>\n",
              "    </tr>\n",
              "    <tr>\n",
              "      <th>3</th>\n",
              "      <td>2968</td>\n",
              "      <td>B</td>\n",
              "      <td>Ship</td>\n",
              "      <td>6</td>\n",
              "      <td>2</td>\n",
              "      <td>236</td>\n",
              "      <td>4</td>\n",
              "      <td>low</td>\n",
              "      <td>F</td>\n",
              "      <td>61</td>\n",
              "      <td>3140</td>\n",
              "    </tr>\n",
              "    <tr>\n",
              "      <th>4</th>\n",
              "      <td>6964</td>\n",
              "      <td>B</td>\n",
              "      <td>Road</td>\n",
              "      <td>5</td>\n",
              "      <td>1</td>\n",
              "      <td>282</td>\n",
              "      <td>4</td>\n",
              "      <td>low</td>\n",
              "      <td>F</td>\n",
              "      <td>9</td>\n",
              "      <td>4766</td>\n",
              "    </tr>\n",
              "  </tbody>\n",
              "</table>\n",
              "</div>"
            ],
            "text/plain": [
              "      ID Warehouse_block Mode_of_Shipment  Customer_care_calls  \\\n",
              "0   8440               B             Ship                    4   \n",
              "1  10849               D             Ship                    3   \n",
              "2   9478               B             Ship                    4   \n",
              "3   2968               B             Ship                    6   \n",
              "4   6964               B             Road                    5   \n",
              "\n",
              "   Customer_rating  Cost_of_the_Product  Prior_purchases Product_importance  \\\n",
              "0                1                  284                4                low   \n",
              "1                2                  201                4             medium   \n",
              "2                4                  181                3             medium   \n",
              "3                2                  236                4                low   \n",
              "4                1                  282                4                low   \n",
              "\n",
              "  Gender  Discount_offered  Weight_in_gms  \n",
              "0      F                 4           4795  \n",
              "1      M                10           5565  \n",
              "2      F                 9           4425  \n",
              "3      F                61           3140  \n",
              "4      F                 9           4766  "
            ]
          },
          "execution_count": 27,
          "metadata": {},
          "output_type": "execute_result"
        }
      ],
      "source": [
        "# 데이터 확인(X_train)\n",
        "X_train.head(5)"
      ]
    },
    {
      "cell_type": "code",
      "execution_count": 28,
      "metadata": {
        "id": "_ds65WrHhuL0"
      },
      "outputs": [
        {
          "data": {
            "text/html": [
              "<div>\n",
              "<style scoped>\n",
              "    .dataframe tbody tr th:only-of-type {\n",
              "        vertical-align: middle;\n",
              "    }\n",
              "\n",
              "    .dataframe tbody tr th {\n",
              "        vertical-align: top;\n",
              "    }\n",
              "\n",
              "    .dataframe thead th {\n",
              "        text-align: right;\n",
              "    }\n",
              "</style>\n",
              "<table border=\"1\" class=\"dataframe\">\n",
              "  <thead>\n",
              "    <tr style=\"text-align: right;\">\n",
              "      <th></th>\n",
              "      <th>ID</th>\n",
              "      <th>Reached.on.Time_Y.N</th>\n",
              "    </tr>\n",
              "  </thead>\n",
              "  <tbody>\n",
              "    <tr>\n",
              "      <th>0</th>\n",
              "      <td>8440</td>\n",
              "      <td>1</td>\n",
              "    </tr>\n",
              "    <tr>\n",
              "      <th>1</th>\n",
              "      <td>10849</td>\n",
              "      <td>0</td>\n",
              "    </tr>\n",
              "  </tbody>\n",
              "</table>\n",
              "</div>"
            ],
            "text/plain": [
              "      ID  Reached.on.Time_Y.N\n",
              "0   8440                    1\n",
              "1  10849                    0"
            ]
          },
          "execution_count": 28,
          "metadata": {},
          "output_type": "execute_result"
        }
      ],
      "source": [
        "# 데이터 확인(y_train)\n",
        "y_train.head(2)"
      ]
    },
    {
      "cell_type": "code",
      "execution_count": 29,
      "metadata": {},
      "outputs": [
        {
          "data": {
            "text/html": [
              "<div>\n",
              "<style scoped>\n",
              "    .dataframe tbody tr th:only-of-type {\n",
              "        vertical-align: middle;\n",
              "    }\n",
              "\n",
              "    .dataframe tbody tr th {\n",
              "        vertical-align: top;\n",
              "    }\n",
              "\n",
              "    .dataframe thead th {\n",
              "        text-align: right;\n",
              "    }\n",
              "</style>\n",
              "<table border=\"1\" class=\"dataframe\">\n",
              "  <thead>\n",
              "    <tr style=\"text-align: right;\">\n",
              "      <th></th>\n",
              "      <th>ID</th>\n",
              "      <th>Warehouse_block</th>\n",
              "      <th>Mode_of_Shipment</th>\n",
              "      <th>Customer_care_calls</th>\n",
              "      <th>Customer_rating</th>\n",
              "      <th>Cost_of_the_Product</th>\n",
              "      <th>Prior_purchases</th>\n",
              "      <th>Product_importance</th>\n",
              "      <th>Gender</th>\n",
              "      <th>Discount_offered</th>\n",
              "      <th>Weight_in_gms</th>\n",
              "    </tr>\n",
              "  </thead>\n",
              "  <tbody>\n",
              "    <tr>\n",
              "      <th>0</th>\n",
              "      <td>8285</td>\n",
              "      <td>C</td>\n",
              "      <td>Ship</td>\n",
              "      <td>6</td>\n",
              "      <td>5</td>\n",
              "      <td>229</td>\n",
              "      <td>8</td>\n",
              "      <td>medium</td>\n",
              "      <td>F</td>\n",
              "      <td>2</td>\n",
              "      <td>4271</td>\n",
              "    </tr>\n",
              "    <tr>\n",
              "      <th>1</th>\n",
              "      <td>10192</td>\n",
              "      <td>B</td>\n",
              "      <td>Ship</td>\n",
              "      <td>7</td>\n",
              "      <td>3</td>\n",
              "      <td>306</td>\n",
              "      <td>4</td>\n",
              "      <td>low</td>\n",
              "      <td>F</td>\n",
              "      <td>4</td>\n",
              "      <td>1630</td>\n",
              "    </tr>\n",
              "    <tr>\n",
              "      <th>2</th>\n",
              "      <td>8675</td>\n",
              "      <td>C</td>\n",
              "      <td>Ship</td>\n",
              "      <td>4</td>\n",
              "      <td>5</td>\n",
              "      <td>148</td>\n",
              "      <td>3</td>\n",
              "      <td>medium</td>\n",
              "      <td>F</td>\n",
              "      <td>5</td>\n",
              "      <td>5216</td>\n",
              "    </tr>\n",
              "    <tr>\n",
              "      <th>3</th>\n",
              "      <td>5753</td>\n",
              "      <td>C</td>\n",
              "      <td>Flight</td>\n",
              "      <td>4</td>\n",
              "      <td>4</td>\n",
              "      <td>236</td>\n",
              "      <td>3</td>\n",
              "      <td>low</td>\n",
              "      <td>M</td>\n",
              "      <td>10</td>\n",
              "      <td>4347</td>\n",
              "    </tr>\n",
              "    <tr>\n",
              "      <th>4</th>\n",
              "      <td>448</td>\n",
              "      <td>B</td>\n",
              "      <td>Ship</td>\n",
              "      <td>3</td>\n",
              "      <td>4</td>\n",
              "      <td>194</td>\n",
              "      <td>3</td>\n",
              "      <td>medium</td>\n",
              "      <td>M</td>\n",
              "      <td>3</td>\n",
              "      <td>2169</td>\n",
              "    </tr>\n",
              "  </tbody>\n",
              "</table>\n",
              "</div>"
            ],
            "text/plain": [
              "      ID Warehouse_block Mode_of_Shipment  Customer_care_calls  \\\n",
              "0   8285               C             Ship                    6   \n",
              "1  10192               B             Ship                    7   \n",
              "2   8675               C             Ship                    4   \n",
              "3   5753               C           Flight                    4   \n",
              "4    448               B             Ship                    3   \n",
              "\n",
              "   Customer_rating  Cost_of_the_Product  Prior_purchases Product_importance  \\\n",
              "0                5                  229                8             medium   \n",
              "1                3                  306                4                low   \n",
              "2                5                  148                3             medium   \n",
              "3                4                  236                3                low   \n",
              "4                4                  194                3             medium   \n",
              "\n",
              "  Gender  Discount_offered  Weight_in_gms  \n",
              "0      F                 2           4271  \n",
              "1      F                 4           1630  \n",
              "2      F                 5           5216  \n",
              "3      M                10           4347  \n",
              "4      M                 3           2169  "
            ]
          },
          "execution_count": 29,
          "metadata": {},
          "output_type": "execute_result"
        }
      ],
      "source": [
        "X_test.head(5)"
      ]
    },
    {
      "cell_type": "code",
      "execution_count": 30,
      "metadata": {
        "id": "A1b58WRMhwcv"
      },
      "outputs": [
        {
          "data": {
            "text/plain": [
              "ID                     0\n",
              "Warehouse_block        0\n",
              "Mode_of_Shipment       0\n",
              "Customer_care_calls    0\n",
              "Customer_rating        0\n",
              "Cost_of_the_Product    0\n",
              "Prior_purchases        0\n",
              "Product_importance     0\n",
              "Gender                 0\n",
              "Discount_offered       0\n",
              "Weight_in_gms          0\n",
              "dtype: int64"
            ]
          },
          "execution_count": 30,
          "metadata": {},
          "output_type": "execute_result"
        }
      ],
      "source": [
        "# 결측치 확인 train\n",
        "X_train.isnull().sum()"
      ]
    },
    {
      "cell_type": "code",
      "execution_count": 31,
      "metadata": {
        "id": "AqBK3RjVjdML"
      },
      "outputs": [
        {
          "data": {
            "text/plain": [
              "ID                     0\n",
              "Warehouse_block        0\n",
              "Mode_of_Shipment       0\n",
              "Customer_care_calls    0\n",
              "Customer_rating        0\n",
              "Cost_of_the_Product    0\n",
              "Prior_purchases        0\n",
              "Product_importance     0\n",
              "Gender                 0\n",
              "Discount_offered       0\n",
              "Weight_in_gms          0\n",
              "dtype: int64"
            ]
          },
          "execution_count": 31,
          "metadata": {},
          "output_type": "execute_result"
        }
      ],
      "source": [
        "# 결측치 확인 test\n",
        "X_test.isnull().sum()"
      ]
    },
    {
      "cell_type": "code",
      "execution_count": 32,
      "metadata": {
        "id": "2kppEcMPjVAE"
      },
      "outputs": [
        {
          "data": {
            "text/html": [
              "<div>\n",
              "<style scoped>\n",
              "    .dataframe tbody tr th:only-of-type {\n",
              "        vertical-align: middle;\n",
              "    }\n",
              "\n",
              "    .dataframe tbody tr th {\n",
              "        vertical-align: top;\n",
              "    }\n",
              "\n",
              "    .dataframe thead th {\n",
              "        text-align: right;\n",
              "    }\n",
              "</style>\n",
              "<table border=\"1\" class=\"dataframe\">\n",
              "  <thead>\n",
              "    <tr style=\"text-align: right;\">\n",
              "      <th></th>\n",
              "      <th>ID</th>\n",
              "      <th>Reached.on.Time_Y.N</th>\n",
              "    </tr>\n",
              "  </thead>\n",
              "  <tbody>\n",
              "    <tr>\n",
              "      <th>0</th>\n",
              "      <td>8440</td>\n",
              "      <td>1</td>\n",
              "    </tr>\n",
              "    <tr>\n",
              "      <th>1</th>\n",
              "      <td>10849</td>\n",
              "      <td>0</td>\n",
              "    </tr>\n",
              "    <tr>\n",
              "      <th>2</th>\n",
              "      <td>9478</td>\n",
              "      <td>1</td>\n",
              "    </tr>\n",
              "    <tr>\n",
              "      <th>3</th>\n",
              "      <td>2968</td>\n",
              "      <td>1</td>\n",
              "    </tr>\n",
              "    <tr>\n",
              "      <th>4</th>\n",
              "      <td>6964</td>\n",
              "      <td>0</td>\n",
              "    </tr>\n",
              "    <tr>\n",
              "      <th>...</th>\n",
              "      <td>...</td>\n",
              "      <td>...</td>\n",
              "    </tr>\n",
              "    <tr>\n",
              "      <th>8794</th>\n",
              "      <td>6385</td>\n",
              "      <td>1</td>\n",
              "    </tr>\n",
              "    <tr>\n",
              "      <th>8795</th>\n",
              "      <td>4721</td>\n",
              "      <td>0</td>\n",
              "    </tr>\n",
              "    <tr>\n",
              "      <th>8796</th>\n",
              "      <td>174</td>\n",
              "      <td>1</td>\n",
              "    </tr>\n",
              "    <tr>\n",
              "      <th>8797</th>\n",
              "      <td>1245</td>\n",
              "      <td>1</td>\n",
              "    </tr>\n",
              "    <tr>\n",
              "      <th>8798</th>\n",
              "      <td>4990</td>\n",
              "      <td>0</td>\n",
              "    </tr>\n",
              "  </tbody>\n",
              "</table>\n",
              "<p>8799 rows × 2 columns</p>\n",
              "</div>"
            ],
            "text/plain": [
              "         ID  Reached.on.Time_Y.N\n",
              "0      8440                    1\n",
              "1     10849                    0\n",
              "2      9478                    1\n",
              "3      2968                    1\n",
              "4      6964                    0\n",
              "...     ...                  ...\n",
              "8794   6385                    1\n",
              "8795   4721                    0\n",
              "8796    174                    1\n",
              "8797   1245                    1\n",
              "8798   4990                    0\n",
              "\n",
              "[8799 rows x 2 columns]"
            ]
          },
          "execution_count": 32,
          "metadata": {},
          "output_type": "execute_result"
        }
      ],
      "source": [
        "# 타겟(레이블) 확인 0 정시 도착, 1 정시 도착하지 않음\n",
        "y_train"
      ]
    },
    {
      "cell_type": "code",
      "execution_count": 33,
      "metadata": {
        "id": "f_NXrYdojgAa"
      },
      "outputs": [
        {
          "name": "stdout",
          "output_type": "stream",
          "text": [
            "<class 'pandas.core.frame.DataFrame'>\n",
            "RangeIndex: 8799 entries, 0 to 8798\n",
            "Data columns (total 11 columns):\n",
            " #   Column               Non-Null Count  Dtype \n",
            "---  ------               --------------  ----- \n",
            " 0   ID                   8799 non-null   int64 \n",
            " 1   Warehouse_block      8799 non-null   object\n",
            " 2   Mode_of_Shipment     8799 non-null   object\n",
            " 3   Customer_care_calls  8799 non-null   int64 \n",
            " 4   Customer_rating      8799 non-null   int64 \n",
            " 5   Cost_of_the_Product  8799 non-null   int64 \n",
            " 6   Prior_purchases      8799 non-null   int64 \n",
            " 7   Product_importance   8799 non-null   object\n",
            " 8   Gender               8799 non-null   object\n",
            " 9   Discount_offered     8799 non-null   int64 \n",
            " 10  Weight_in_gms        8799 non-null   int64 \n",
            "dtypes: int64(7), object(4)\n",
            "memory usage: 756.3+ KB\n"
          ]
        }
      ],
      "source": [
        "# 데이터 타입 확인\n",
        "X_train.info()"
      ]
    },
    {
      "cell_type": "code",
      "execution_count": 34,
      "metadata": {
        "id": "CJXwbNUnjkFN"
      },
      "outputs": [
        {
          "data": {
            "text/html": [
              "<div>\n",
              "<style scoped>\n",
              "    .dataframe tbody tr th:only-of-type {\n",
              "        vertical-align: middle;\n",
              "    }\n",
              "\n",
              "    .dataframe tbody tr th {\n",
              "        vertical-align: top;\n",
              "    }\n",
              "\n",
              "    .dataframe thead th {\n",
              "        text-align: right;\n",
              "    }\n",
              "</style>\n",
              "<table border=\"1\" class=\"dataframe\">\n",
              "  <thead>\n",
              "    <tr style=\"text-align: right;\">\n",
              "      <th></th>\n",
              "      <th>ID</th>\n",
              "      <th>Customer_care_calls</th>\n",
              "      <th>Customer_rating</th>\n",
              "      <th>Cost_of_the_Product</th>\n",
              "      <th>Prior_purchases</th>\n",
              "      <th>Discount_offered</th>\n",
              "      <th>Weight_in_gms</th>\n",
              "    </tr>\n",
              "  </thead>\n",
              "  <tbody>\n",
              "    <tr>\n",
              "      <th>count</th>\n",
              "      <td>8799.000000</td>\n",
              "      <td>8799.000000</td>\n",
              "      <td>8799.000000</td>\n",
              "      <td>8799.000000</td>\n",
              "      <td>8799.000000</td>\n",
              "      <td>8799.000000</td>\n",
              "      <td>8799.000000</td>\n",
              "    </tr>\n",
              "    <tr>\n",
              "      <th>mean</th>\n",
              "      <td>5514.696556</td>\n",
              "      <td>4.051369</td>\n",
              "      <td>2.991817</td>\n",
              "      <td>209.800318</td>\n",
              "      <td>3.561882</td>\n",
              "      <td>13.293215</td>\n",
              "      <td>3633.145130</td>\n",
              "    </tr>\n",
              "    <tr>\n",
              "      <th>std</th>\n",
              "      <td>3175.107399</td>\n",
              "      <td>1.141739</td>\n",
              "      <td>1.411938</td>\n",
              "      <td>48.186779</td>\n",
              "      <td>1.518472</td>\n",
              "      <td>16.112977</td>\n",
              "      <td>1637.717073</td>\n",
              "    </tr>\n",
              "    <tr>\n",
              "      <th>min</th>\n",
              "      <td>1.000000</td>\n",
              "      <td>2.000000</td>\n",
              "      <td>1.000000</td>\n",
              "      <td>96.000000</td>\n",
              "      <td>2.000000</td>\n",
              "      <td>1.000000</td>\n",
              "      <td>1001.000000</td>\n",
              "    </tr>\n",
              "    <tr>\n",
              "      <th>25%</th>\n",
              "      <td>2749.500000</td>\n",
              "      <td>3.000000</td>\n",
              "      <td>2.000000</td>\n",
              "      <td>169.000000</td>\n",
              "      <td>3.000000</td>\n",
              "      <td>4.000000</td>\n",
              "      <td>1837.000000</td>\n",
              "    </tr>\n",
              "    <tr>\n",
              "      <th>50%</th>\n",
              "      <td>5519.000000</td>\n",
              "      <td>4.000000</td>\n",
              "      <td>3.000000</td>\n",
              "      <td>213.000000</td>\n",
              "      <td>3.000000</td>\n",
              "      <td>7.000000</td>\n",
              "      <td>4152.000000</td>\n",
              "    </tr>\n",
              "    <tr>\n",
              "      <th>75%</th>\n",
              "      <td>8253.000000</td>\n",
              "      <td>5.000000</td>\n",
              "      <td>4.000000</td>\n",
              "      <td>250.000000</td>\n",
              "      <td>4.000000</td>\n",
              "      <td>10.000000</td>\n",
              "      <td>5055.000000</td>\n",
              "    </tr>\n",
              "    <tr>\n",
              "      <th>max</th>\n",
              "      <td>10999.000000</td>\n",
              "      <td>7.000000</td>\n",
              "      <td>5.000000</td>\n",
              "      <td>310.000000</td>\n",
              "      <td>10.000000</td>\n",
              "      <td>65.000000</td>\n",
              "      <td>7846.000000</td>\n",
              "    </tr>\n",
              "  </tbody>\n",
              "</table>\n",
              "</div>"
            ],
            "text/plain": [
              "                 ID  Customer_care_calls  Customer_rating  \\\n",
              "count   8799.000000          8799.000000      8799.000000   \n",
              "mean    5514.696556             4.051369         2.991817   \n",
              "std     3175.107399             1.141739         1.411938   \n",
              "min        1.000000             2.000000         1.000000   \n",
              "25%     2749.500000             3.000000         2.000000   \n",
              "50%     5519.000000             4.000000         3.000000   \n",
              "75%     8253.000000             5.000000         4.000000   \n",
              "max    10999.000000             7.000000         5.000000   \n",
              "\n",
              "       Cost_of_the_Product  Prior_purchases  Discount_offered  Weight_in_gms  \n",
              "count          8799.000000      8799.000000       8799.000000    8799.000000  \n",
              "mean            209.800318         3.561882         13.293215    3633.145130  \n",
              "std              48.186779         1.518472         16.112977    1637.717073  \n",
              "min              96.000000         2.000000          1.000000    1001.000000  \n",
              "25%             169.000000         3.000000          4.000000    1837.000000  \n",
              "50%             213.000000         3.000000          7.000000    4152.000000  \n",
              "75%             250.000000         4.000000         10.000000    5055.000000  \n",
              "max             310.000000        10.000000         65.000000    7846.000000  "
            ]
          },
          "execution_count": 34,
          "metadata": {},
          "output_type": "execute_result"
        }
      ],
      "source": [
        "# 기초 통계 획인\n",
        "X_train.describe()"
      ]
    },
    {
      "cell_type": "code",
      "execution_count": 35,
      "metadata": {
        "id": "MHCAKNAEjqGq"
      },
      "outputs": [
        {
          "data": {
            "text/html": [
              "<div>\n",
              "<style scoped>\n",
              "    .dataframe tbody tr th:only-of-type {\n",
              "        vertical-align: middle;\n",
              "    }\n",
              "\n",
              "    .dataframe tbody tr th {\n",
              "        vertical-align: top;\n",
              "    }\n",
              "\n",
              "    .dataframe thead th {\n",
              "        text-align: right;\n",
              "    }\n",
              "</style>\n",
              "<table border=\"1\" class=\"dataframe\">\n",
              "  <thead>\n",
              "    <tr style=\"text-align: right;\">\n",
              "      <th></th>\n",
              "      <th>Warehouse_block</th>\n",
              "      <th>Mode_of_Shipment</th>\n",
              "      <th>Product_importance</th>\n",
              "      <th>Gender</th>\n",
              "    </tr>\n",
              "  </thead>\n",
              "  <tbody>\n",
              "    <tr>\n",
              "      <th>count</th>\n",
              "      <td>8799</td>\n",
              "      <td>8799</td>\n",
              "      <td>8799</td>\n",
              "      <td>8799</td>\n",
              "    </tr>\n",
              "    <tr>\n",
              "      <th>unique</th>\n",
              "      <td>5</td>\n",
              "      <td>3</td>\n",
              "      <td>3</td>\n",
              "      <td>2</td>\n",
              "    </tr>\n",
              "    <tr>\n",
              "      <th>top</th>\n",
              "      <td>F</td>\n",
              "      <td>Ship</td>\n",
              "      <td>low</td>\n",
              "      <td>F</td>\n",
              "    </tr>\n",
              "    <tr>\n",
              "      <th>freq</th>\n",
              "      <td>2929</td>\n",
              "      <td>5972</td>\n",
              "      <td>4225</td>\n",
              "      <td>4450</td>\n",
              "    </tr>\n",
              "  </tbody>\n",
              "</table>\n",
              "</div>"
            ],
            "text/plain": [
              "       Warehouse_block Mode_of_Shipment Product_importance Gender\n",
              "count             8799             8799               8799   8799\n",
              "unique               5                3                  3      2\n",
              "top                  F             Ship                low      F\n",
              "freq              2929             5972               4225   4450"
            ]
          },
          "execution_count": 35,
          "metadata": {},
          "output_type": "execute_result"
        }
      ],
      "source": [
        "# 기초 통계 획인 object\n",
        "X_train.describe(include=\"O\")"
      ]
    },
    {
      "cell_type": "code",
      "execution_count": 36,
      "metadata": {
        "id": "kcFQ7RAuji01"
      },
      "outputs": [
        {
          "data": {
            "text/html": [
              "<div>\n",
              "<style scoped>\n",
              "    .dataframe tbody tr th:only-of-type {\n",
              "        vertical-align: middle;\n",
              "    }\n",
              "\n",
              "    .dataframe tbody tr th {\n",
              "        vertical-align: top;\n",
              "    }\n",
              "\n",
              "    .dataframe thead th {\n",
              "        text-align: right;\n",
              "    }\n",
              "</style>\n",
              "<table border=\"1\" class=\"dataframe\">\n",
              "  <thead>\n",
              "    <tr style=\"text-align: right;\">\n",
              "      <th></th>\n",
              "      <th>Warehouse_block</th>\n",
              "      <th>Mode_of_Shipment</th>\n",
              "      <th>Product_importance</th>\n",
              "      <th>Gender</th>\n",
              "    </tr>\n",
              "  </thead>\n",
              "  <tbody>\n",
              "    <tr>\n",
              "      <th>count</th>\n",
              "      <td>2200</td>\n",
              "      <td>2200</td>\n",
              "      <td>2200</td>\n",
              "      <td>2200</td>\n",
              "    </tr>\n",
              "    <tr>\n",
              "      <th>unique</th>\n",
              "      <td>5</td>\n",
              "      <td>3</td>\n",
              "      <td>3</td>\n",
              "      <td>2</td>\n",
              "    </tr>\n",
              "    <tr>\n",
              "      <th>top</th>\n",
              "      <td>F</td>\n",
              "      <td>Ship</td>\n",
              "      <td>low</td>\n",
              "      <td>M</td>\n",
              "    </tr>\n",
              "    <tr>\n",
              "      <th>freq</th>\n",
              "      <td>737</td>\n",
              "      <td>1490</td>\n",
              "      <td>1072</td>\n",
              "      <td>1105</td>\n",
              "    </tr>\n",
              "  </tbody>\n",
              "</table>\n",
              "</div>"
            ],
            "text/plain": [
              "       Warehouse_block Mode_of_Shipment Product_importance Gender\n",
              "count             2200             2200               2200   2200\n",
              "unique               5                3                  3      2\n",
              "top                  F             Ship                low      M\n",
              "freq               737             1490               1072   1105"
            ]
          },
          "execution_count": 36,
          "metadata": {},
          "output_type": "execute_result"
        }
      ],
      "source": [
        "# 기초 통계 획인 object\n",
        "X_test.describe(include=\"O\")"
      ]
    },
    {
      "cell_type": "code",
      "execution_count": 37,
      "metadata": {
        "id": "L5uphwRaj078"
      },
      "outputs": [
        {
          "data": {
            "text/plain": [
              "ID                     8799\n",
              "Warehouse_block           5\n",
              "Mode_of_Shipment          3\n",
              "Customer_care_calls       6\n",
              "Customer_rating           5\n",
              "Cost_of_the_Product     215\n",
              "Prior_purchases           8\n",
              "Product_importance        3\n",
              "Gender                    2\n",
              "Discount_offered         65\n",
              "Weight_in_gms          3761\n",
              "dtype: int64"
            ]
          },
          "execution_count": 37,
          "metadata": {},
          "output_type": "execute_result"
        }
      ],
      "source": [
        "# [Tip] object 타입 고유값 개수 확인\n",
        "X_train.nunique()"
      ]
    },
    {
      "cell_type": "markdown",
      "metadata": {
        "id": "KnNu9bH3kJfD"
      },
      "source": [
        "## 데이터 전처리 및 피처엔지니어링"
      ]
    },
    {
      "cell_type": "code",
      "execution_count": 38,
      "metadata": {
        "id": "Q5n67S9isN2r"
      },
      "outputs": [],
      "source": [
        "# trainID 삭제, testID 값만 옮겨둠\n",
        "X_train.pop('ID')\n",
        "X_test.pop('ID')\n",
        "y_train = y_train.pop('Reached.on.Time_Y.N')"
      ]
    },
    {
      "cell_type": "code",
      "execution_count": 39,
      "metadata": {},
      "outputs": [
        {
          "data": {
            "text/plain": [
              "((8799, 10), (8799,), (2200, 10))"
            ]
          },
          "execution_count": 39,
          "metadata": {},
          "output_type": "execute_result"
        }
      ],
      "source": [
        "X_train.shape, y_train.shape, X_test.shape"
      ]
    },
    {
      "cell_type": "code",
      "execution_count": 40,
      "metadata": {
        "id": "JAglZ4dipalH"
      },
      "outputs": [],
      "source": [
        "# 라벨 인코딩\n",
        "from sklearn.preprocessing import LabelEncoder\n",
        "cols = X_train.select_dtypes(include=\"O\")\n",
        "for col in cols:\n",
        "    le = LabelEncoder()\n",
        "    X_train[col] = le.fit_transform(X_train[col])\n",
        "    X_test[col] = le.transform(X_test[col])"
      ]
    },
    {
      "cell_type": "code",
      "execution_count": 41,
      "metadata": {},
      "outputs": [
        {
          "name": "stdout",
          "output_type": "stream",
          "text": [
            "<class 'pandas.core.frame.DataFrame'>\n",
            "RangeIndex: 8799 entries, 0 to 8798\n",
            "Data columns (total 10 columns):\n",
            " #   Column               Non-Null Count  Dtype\n",
            "---  ------               --------------  -----\n",
            " 0   Warehouse_block      8799 non-null   int64\n",
            " 1   Mode_of_Shipment     8799 non-null   int64\n",
            " 2   Customer_care_calls  8799 non-null   int64\n",
            " 3   Customer_rating      8799 non-null   int64\n",
            " 4   Cost_of_the_Product  8799 non-null   int64\n",
            " 5   Prior_purchases      8799 non-null   int64\n",
            " 6   Product_importance   8799 non-null   int64\n",
            " 7   Gender               8799 non-null   int64\n",
            " 8   Discount_offered     8799 non-null   int64\n",
            " 9   Weight_in_gms        8799 non-null   int64\n",
            "dtypes: int64(10)\n",
            "memory usage: 687.5 KB\n",
            "<class 'pandas.core.frame.DataFrame'>\n",
            "RangeIndex: 2200 entries, 0 to 2199\n",
            "Data columns (total 10 columns):\n",
            " #   Column               Non-Null Count  Dtype\n",
            "---  ------               --------------  -----\n",
            " 0   Warehouse_block      2200 non-null   int64\n",
            " 1   Mode_of_Shipment     2200 non-null   int64\n",
            " 2   Customer_care_calls  2200 non-null   int64\n",
            " 3   Customer_rating      2200 non-null   int64\n",
            " 4   Cost_of_the_Product  2200 non-null   int64\n",
            " 5   Prior_purchases      2200 non-null   int64\n",
            " 6   Product_importance   2200 non-null   int64\n",
            " 7   Gender               2200 non-null   int64\n",
            " 8   Discount_offered     2200 non-null   int64\n",
            " 9   Weight_in_gms        2200 non-null   int64\n",
            "dtypes: int64(10)\n",
            "memory usage: 172.0 KB\n"
          ]
        }
      ],
      "source": [
        "X_train.info()\n",
        "X_test.info()"
      ]
    },
    {
      "cell_type": "code",
      "execution_count": 42,
      "metadata": {},
      "outputs": [
        {
          "data": {
            "text/plain": [
              "((8799, 10), (8799,), (2200, 10))"
            ]
          },
          "execution_count": 42,
          "metadata": {},
          "output_type": "execute_result"
        }
      ],
      "source": [
        "X_train.shape, y_train.shape, X_test.shape"
      ]
    },
    {
      "cell_type": "markdown",
      "metadata": {
        "id": "5qWDuz3CsL24"
      },
      "source": [
        "## 모델 및 평가"
      ]
    },
    {
      "cell_type": "code",
      "execution_count": 43,
      "metadata": {
        "id": "TVwkW7ieshgh"
      },
      "outputs": [],
      "source": [
        "# 검증 데이터 분리\n",
        "from sklearn.model_selection import train_test_split\n",
        "X_tr, X_val, y_tr, y_val = train_test_split(X_train, y_train, test_size = 0.2, random_state=2022)"
      ]
    },
    {
      "cell_type": "code",
      "execution_count": 49,
      "metadata": {
        "id": "LKr8enMmshix"
      },
      "outputs": [
        {
          "name": "stdout",
          "output_type": "stream",
          "text": [
            "정확도:  0.6420454545454546\n",
            "F1:  0.6950629235237173\n",
            "ROC:  0.7297546090137466\n"
          ]
        }
      ],
      "source": [
        "# 로지스틱 회귀\n",
        "from sklearn.linear_model import LogisticRegression\n",
        "from sklearn.metrics import accuracy_score, f1_score, roc_auc_score\n",
        "model = LogisticRegression()\n",
        "model.fit(X_tr, y_tr)\n",
        "pred = model.predict(X_val)\n",
        "pred_proba = model.predict_proba(X_val)\n",
        "print(\"정확도: \", accuracy_score(y_val, pred))\n",
        "print(\"F1: \", f1_score(y_val, pred))\n",
        "print(\"ROC: \", roc_auc_score(y_val, pred_proba[:, 1]))"
      ]
    },
    {
      "cell_type": "code",
      "execution_count": 50,
      "metadata": {
        "id": "57TlpkCCtxzf"
      },
      "outputs": [
        {
          "name": "stdout",
          "output_type": "stream",
          "text": [
            "정확도:  0.6482954545454546\n",
            "F1:  0.6999515269025691\n",
            "ROC:  0.638158852820186\n"
          ]
        }
      ],
      "source": [
        "# 의사결정나무\n",
        "from sklearn.tree import DecisionTreeClassifier\n",
        "from sklearn.metrics import accuracy_score, f1_score, roc_auc_score\n",
        "\n",
        "model = DecisionTreeClassifier()\n",
        "model.fit(X_tr, y_tr)\n",
        "pred = model.predict(X_val)\n",
        "pred_proba = model.predict_proba(X_val)\n",
        "print(\"정확도: \", accuracy_score(y_val, pred))\n",
        "print(\"F1: \", f1_score(y_val, pred))\n",
        "print(\"ROC: \", roc_auc_score(y_val, pred_proba[:, 1]))"
      ]
    },
    {
      "cell_type": "code",
      "execution_count": 56,
      "metadata": {
        "id": "ltqmZffYt0KN"
      },
      "outputs": [
        {
          "name": "stdout",
          "output_type": "stream",
          "text": [
            "정확도:  0.6698863636363637\n",
            "F1:  0.704626334519573\n",
            "ROC:  0.7554981502487046\n"
          ]
        }
      ],
      "source": [
        "# 랜덤포레스트\n",
        "from sklearn.ensemble import RandomForestClassifier\n",
        "from sklearn.metrics import accuracy_score, f1_score, roc_auc_score\n",
        "\n",
        "model = RandomForestClassifier(random_state=2022)\n",
        "model.fit(X_tr, y_tr)\n",
        "pred = model.predict(X_val)\n",
        "pred_proba = model.predict_proba(X_val)\n",
        "print(\"정확도: \", accuracy_score(y_val, pred))\n",
        "print(\"F1: \", f1_score(y_val, pred))\n",
        "print(\"ROC: \", roc_auc_score(y_val, pred_proba[:, 1]))\n",
        "\n",
        "# 정확도:  0.6886363636363636\n",
        "# F1:  0.717234262125903\n",
        "# ROC:  0.7642478947305135"
      ]
    },
    {
      "cell_type": "code",
      "execution_count": 52,
      "metadata": {
        "id": "9t-aywy_t6U2"
      },
      "outputs": [
        {
          "name": "stdout",
          "output_type": "stream",
          "text": [
            "정확도:  0.6488636363636363\n",
            "F1:  0.6979472140762464\n",
            "ROC:  0.7435679558143916\n"
          ]
        }
      ],
      "source": [
        "# XGBOOST\n",
        "from xgboost import XGBClassifier\n",
        "from sklearn.metrics import accuracy_score, f1_score, roc_auc_score\n",
        "\n",
        "model = XGBClassifier(max_depth=5, n_estimators=400, random_state=2022)\n",
        "model.fit(X_tr, y_tr)\n",
        "pred = model.predict(X_val)\n",
        "pred_proba = model.predict_proba(X_val)\n",
        "print(\"정확도: \", accuracy_score(y_val, pred))\n",
        "print(\"F1: \", f1_score(y_val, pred))\n",
        "print(\"ROC: \", roc_auc_score(y_val, pred_proba[:, 1]))\n",
        "\n",
        "# 정확도:  0.6670454545454545\n",
        "# F1:  0.7087475149105368\n",
        "# ROC:  0.7529336160399958"
      ]
    },
    {
      "cell_type": "code",
      "execution_count": 53,
      "metadata": {},
      "outputs": [
        {
          "name": "stdout",
          "output_type": "stream",
          "text": [
            "정확도:  0.6732954545454546\n",
            "F1:  0.7082699137493658\n",
            "ROC:  0.7477070164961208\n"
          ]
        }
      ],
      "source": [
        "# LightGBM\n",
        "from lightgbm import LGBMClassifier\n",
        "from sklearn.metrics import accuracy_score, f1_score, roc_auc_score\n",
        "\n",
        "model = LGBMClassifier(max_depth=5, n_estimators=400, random_state=2022, verbose=-1)\n",
        "model.fit(X_tr, y_tr)\n",
        "pred = model.predict(X_val)\n",
        "pred_proba = model.predict_proba(X_val)\n",
        "print(\"정확도: \", accuracy_score(y_val, pred))\n",
        "print(\"F1: \", f1_score(y_val, pred))\n",
        "print(\"ROC: \", roc_auc_score(y_val, pred_proba[:, 1]))\n",
        "\n",
        "# 정확도:  0.6772727272727272\n",
        "# F1:  0.7010526315789474\n",
        "# ROC:  0.7510391073096239"
      ]
    },
    {
      "cell_type": "markdown",
      "metadata": {
        "id": "kmKX6ciHuqeG"
      },
      "source": [
        "## 예측 및 제출"
      ]
    },
    {
      "cell_type": "code",
      "execution_count": 57,
      "metadata": {
        "id": "zOcAH8FzurjJ"
      },
      "outputs": [],
      "source": [
        "# 예측\n",
        "pred = model.predict(X_test)\n",
        "pred_proba = model.predict_proba(X_test)"
      ]
    },
    {
      "cell_type": "code",
      "execution_count": 58,
      "metadata": {
        "id": "DEksB9kUuyRX"
      },
      "outputs": [],
      "source": [
        "# 데이터프레임 만들기\n",
        "submit = pd.DataFrame({\n",
        "    'pred' : pred_proba[:, 1]\n",
        "})"
      ]
    },
    {
      "cell_type": "code",
      "execution_count": 61,
      "metadata": {
        "id": "xdzs-Go0vAhu"
      },
      "outputs": [
        {
          "data": {
            "text/html": [
              "<div>\n",
              "<style scoped>\n",
              "    .dataframe tbody tr th:only-of-type {\n",
              "        vertical-align: middle;\n",
              "    }\n",
              "\n",
              "    .dataframe tbody tr th {\n",
              "        vertical-align: top;\n",
              "    }\n",
              "\n",
              "    .dataframe thead th {\n",
              "        text-align: right;\n",
              "    }\n",
              "</style>\n",
              "<table border=\"1\" class=\"dataframe\">\n",
              "  <thead>\n",
              "    <tr style=\"text-align: right;\">\n",
              "      <th></th>\n",
              "      <th>pred</th>\n",
              "    </tr>\n",
              "  </thead>\n",
              "  <tbody>\n",
              "    <tr>\n",
              "      <th>0</th>\n",
              "      <td>0.40</td>\n",
              "    </tr>\n",
              "    <tr>\n",
              "      <th>1</th>\n",
              "      <td>0.54</td>\n",
              "    </tr>\n",
              "    <tr>\n",
              "      <th>2</th>\n",
              "      <td>0.30</td>\n",
              "    </tr>\n",
              "    <tr>\n",
              "      <th>3</th>\n",
              "      <td>0.41</td>\n",
              "    </tr>\n",
              "    <tr>\n",
              "      <th>4</th>\n",
              "      <td>0.93</td>\n",
              "    </tr>\n",
              "    <tr>\n",
              "      <th>...</th>\n",
              "      <td>...</td>\n",
              "    </tr>\n",
              "    <tr>\n",
              "      <th>2195</th>\n",
              "      <td>0.45</td>\n",
              "    </tr>\n",
              "    <tr>\n",
              "      <th>2196</th>\n",
              "      <td>0.32</td>\n",
              "    </tr>\n",
              "    <tr>\n",
              "      <th>2197</th>\n",
              "      <td>0.53</td>\n",
              "    </tr>\n",
              "    <tr>\n",
              "      <th>2198</th>\n",
              "      <td>0.28</td>\n",
              "    </tr>\n",
              "    <tr>\n",
              "      <th>2199</th>\n",
              "      <td>0.55</td>\n",
              "    </tr>\n",
              "  </tbody>\n",
              "</table>\n",
              "<p>2200 rows × 1 columns</p>\n",
              "</div>"
            ],
            "text/plain": [
              "      pred\n",
              "0     0.40\n",
              "1     0.54\n",
              "2     0.30\n",
              "3     0.41\n",
              "4     0.93\n",
              "...    ...\n",
              "2195  0.45\n",
              "2196  0.32\n",
              "2197  0.53\n",
              "2198  0.28\n",
              "2199  0.55\n",
              "\n",
              "[2200 rows x 1 columns]"
            ]
          },
          "execution_count": 61,
          "metadata": {},
          "output_type": "execute_result"
        }
      ],
      "source": [
        "# 데이터 확인\n",
        "submit"
      ]
    },
    {
      "cell_type": "code",
      "execution_count": null,
      "metadata": {
        "id": "p_a6WSnLvEmn"
      },
      "outputs": [],
      "source": [
        "# CSV파일 만들기\n",
        "submit.to_csv('작업형1제출.csv', index=False)"
      ]
    },
    {
      "cell_type": "markdown",
      "metadata": {
        "id": "ldW0N_MBvMfp"
      },
      "source": [
        "##  제대로 제출 되었는지 확인"
      ]
    },
    {
      "cell_type": "code",
      "execution_count": 62,
      "metadata": {
        "id": "bB-4P_EfvOlD"
      },
      "outputs": [
        {
          "name": "stdout",
          "output_type": "stream",
          "text": [
            "(2200, 10)\n",
            "(2200, 1)\n"
          ]
        }
      ],
      "source": [
        "print(X_test.shape)\n",
        "print(submit.shape)"
      ]
    },
    {
      "cell_type": "markdown",
      "metadata": {
        "id": "9-zAKxt2uzFa"
      },
      "source": [
        "## 체점\n",
        "- 수험자는 알 수 없는 부분임"
      ]
    },
    {
      "cell_type": "code",
      "execution_count": null,
      "metadata": {
        "id": "ofAnKoNVu0At"
      },
      "outputs": [],
      "source": [
        "# you = pd.read_csv(\"수험번호.csv\")\n",
        "# print(\"당신의 score는?:\",roc_auc_score(y_test['Reached.on.Time_Y.N'], you['Reached.on.Time_Y.N']))"
      ]
    },
    {
      "cell_type": "code",
      "execution_count": null,
      "metadata": {
        "id": "r-L5ToHOvqWX"
      },
      "outputs": [],
      "source": [
        "# 당신의 score는?: 0.7396611568179091"
      ]
    },
    {
      "cell_type": "code",
      "execution_count": null,
      "metadata": {
        "id": "UDfrJpnBx5ww"
      },
      "outputs": [],
      "source": []
    }
  ],
  "metadata": {
    "colab": {
      "provenance": []
    },
    "kernelspec": {
      "display_name": "Python 3",
      "name": "python3"
    },
    "language_info": {
      "codemirror_mode": {
        "name": "ipython",
        "version": 3
      },
      "file_extension": ".py",
      "mimetype": "text/x-python",
      "name": "python",
      "nbconvert_exporter": "python",
      "pygments_lexer": "ipython3",
      "version": "3.8.18"
    }
  },
  "nbformat": 4,
  "nbformat_minor": 0
}
