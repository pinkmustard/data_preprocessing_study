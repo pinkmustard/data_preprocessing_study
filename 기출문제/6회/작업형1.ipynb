{
  "cells": [
    {
      "cell_type": "markdown",
      "metadata": {
        "id": "C352FXmlMvvS"
      },
      "source": [
        "1. 주어진 데이터는 각 소방서의 출동/도착 시간데이터이다.\n",
        "출동시간과 도착시간 차이가 평균적으로 가장 오래 걸린 소방서의 시간을 분으로 변환해 출력하시오. (반올림 후 정수 출력)"
      ]
    },
    {
      "cell_type": "code",
      "execution_count": 77,
      "metadata": {
        "id": "PtrSDVWgMp07"
      },
      "outputs": [
        {
          "name": "stdout",
          "output_type": "stream",
          "text": [
            "81\n"
          ]
        }
      ],
      "source": [
        "import pandas as pd\n",
        "df = pd.read_csv(\"data6-1-1.csv\")\n",
        "# print(df)\n",
        "#      소방서                 출동시간                 도착시간\n",
        "# 0   소방서1  2023-09-16 06:12:29  2023-09-16 07:51:55\n",
        "# 1   소방서5  2023-09-19 06:11:41  2023-09-19 08:08:36\n",
        "# 2   소방서1  2023-09-14 06:12:00  2023-09-14 07:24:21\n",
        "\n",
        "# print(df.info())\n",
        "#  0   소방서     100 non-null    object\n",
        "#  1   출동시간    100 non-null    object -> datetime64[ns]\n",
        "#  2   도착시간    100 non-null    object -> datetime64[ns]\n",
        "df['출동시간'] = pd.to_datetime(df['출동시간'])\n",
        "df['도착시간'] = pd.to_datetime(df['도착시간'])\n",
        "df['걸린시간'] = df['도착시간'] - df['출동시간']\n",
        "df['걸린시간'] = df['걸린시간'].dt.seconds\n",
        "\n",
        "# print(help(pd.DataFrame.groupby))\n",
        "print(round(df.groupby(by='소방서')['걸린시간'].mean().sort_values(ascending=False).iloc[0]/60))\n",
        "\n"
      ]
    },
    {
      "cell_type": "markdown",
      "metadata": {
        "id": "WHPehQIr2G0R"
      },
      "source": [
        "2. 학교에서 교사 한 명당 맡은 학생 수가 가장 많은 학교를 찾고, 그 학교의 전체 교사 수를 구하시오. (정수 출력)"
      ]
    },
    {
      "cell_type": "code",
      "execution_count": 46,
      "metadata": {
        "id": "n-_CJh6-2K-g"
      },
      "outputs": [
        {
          "name": "stdout",
          "output_type": "stream",
          "text": [
            "19\n"
          ]
        }
      ],
      "source": [
        "import pandas as pd\n",
        "df = pd.read_csv(\"data6-1-2.csv\")\n",
        "# df['맡은학생비'] = (df['1학년'] + df['2학년'] + df['3학년'] + df['4학년'] + df['5학년'] + df['6학년'])/df['교사수']\n",
        "df['맡은학생비'] = df.iloc[:,2:].sum(axis=1)/df.iloc[:,1]\n",
        "df = df.sort_values(by = '맡은학생비', ascending=False)\n",
        "print(df.iloc[0, 1])"
      ]
    },
    {
      "cell_type": "markdown",
      "metadata": {
        "id": "ur3vOFxy72jV"
      },
      "source": [
        "3. 연도별로 총 범죄 건수(범죄유형의 총합)의 월평균 값을 구한 후 그 값이 가장 큰 연도를 찾아, 해당 연도의 총 범죄 건수의 월평균 값을 출력하시오. (반올림하여 정수로 출력)"
      ]
    },
    {
      "cell_type": "code",
      "execution_count": 96,
      "metadata": {
        "id": "pcfb-167794O"
      },
      "outputs": [
        {
          "name": "stdout",
          "output_type": "stream",
          "text": [
            "531\n"
          ]
        }
      ],
      "source": [
        "import pandas as pd\n",
        "df = pd.read_csv(\"data6-1-3.csv\")\n",
        "# 강력범죄  절도범죄  폭력범죄  지능범죄  풍속범죄  교통범죄\n",
        "df['총범죄'] = df.iloc[:, 1:7].sum(axis=1)\n",
        "df['날짜'] = pd.to_datetime(df['날짜'], format='%Y년 %m월')\n",
        "df['년도'] = df['날짜'].dt.year\n",
        "df['월'] = df['날짜'].dt.month\n",
        "# df['년도'] = df['날짜'][:3]\n",
        "# df['월'] = df['날짜'][6:8]\n",
        "a_year = df.groupby(by='년도')['월'].mean().sort_values(ascending=False).idxmax()\n",
        "cond = df['년도'] == a_year\n",
        "print(round(df[cond]['총범죄'].mean()))\n"
      ]
    },
    {
      "cell_type": "code",
      "execution_count": 106,
      "metadata": {},
      "outputs": [
        {
          "name": "stdout",
          "output_type": "stream",
          "text": [
            "531\n"
          ]
        }
      ],
      "source": [
        "import pandas as pd\n",
        "df = pd.read_csv(\"data6-1-3.csv\")\n",
        "# 강력범죄  절도범죄  폭력범죄  지능범죄  풍속범죄  교통범죄\n",
        "df['총범죄'] = df.iloc[:, 1:7].sum(axis=1)\n",
        "\n",
        "df['년도'] = df['날짜'].str[:4].astype(int)\n",
        "df['월'] = df['날짜'].str[6:8].astype(int)\n",
        "a_year = df.groupby(by='년도')['월'].mean().sort_values(ascending=False).idxmax()\n",
        "cond = df['년도'] == a_year\n",
        "print(round(df[cond]['총범죄'].mean()))\n"
      ]
    },
    {
      "cell_type": "code",
      "execution_count": null,
      "metadata": {},
      "outputs": [],
      "source": []
    }
  ],
  "metadata": {
    "colab": {
      "provenance": []
    },
    "kernelspec": {
      "display_name": "Python 3",
      "name": "python3"
    },
    "language_info": {
      "codemirror_mode": {
        "name": "ipython",
        "version": 3
      },
      "file_extension": ".py",
      "mimetype": "text/x-python",
      "name": "python",
      "nbconvert_exporter": "python",
      "pygments_lexer": "ipython3",
      "version": "3.8.18"
    }
  },
  "nbformat": 4,
  "nbformat_minor": 0
}
