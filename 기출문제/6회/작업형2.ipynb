{
  "nbformat": 4,
  "nbformat_minor": 0,
  "metadata": {
    "colab": {
      "provenance": []
    },
    "kernelspec": {
      "name": "python3",
      "display_name": "Python 3"
    },
    "language_info": {
      "name": "python"
    }
  },
  "cells": [
    {
      "cell_type": "markdown",
      "source": [
        "## 다중 분류 문제\n",
        "- 난방 부하 단계를 예측해주세요!\n",
        "\n",
        "- 예측할 값(y): Heat_Load (Very Low, Low, Medium, High, Very High)\n",
        "- 평가: f1-macro\n",
        "- data: train.csv, test.csv\n",
        "- 제출 형식: result.csv파일을 아래와 같은 형식으로 제출\n",
        "~~~\n",
        "pred\n",
        "Very Low\n",
        "Low\n",
        "High\n",
        "...\n",
        "Very High\n",
        "~~~\n",
        "\n",
        "### 답안 제출 참고\n",
        "- pd.read_csv('result.csv') 로 제출 코드 확인"
      ],
      "metadata": {
        "id": "JiFc-11Gk38n"
      }
    },
    {
      "cell_type": "code",
      "source": [],
      "metadata": {
        "id": "DO-sHoMUL7mN"
      },
      "execution_count": null,
      "outputs": []
    },
    {
      "cell_type": "code",
      "source": [],
      "metadata": {
        "id": "il2i1B8YnZI3"
      },
      "execution_count": null,
      "outputs": []
    },
    {
      "cell_type": "code",
      "source": [],
      "metadata": {
        "id": "_kkLqKabnZLW"
      },
      "execution_count": null,
      "outputs": []
    },
    {
      "cell_type": "code",
      "source": [],
      "metadata": {
        "id": "ZAj62-qxnZNn"
      },
      "execution_count": null,
      "outputs": []
    },
    {
      "cell_type": "code",
      "source": [],
      "metadata": {
        "id": "Rwt-0srlnZQj"
      },
      "execution_count": null,
      "outputs": []
    }
  ]
}