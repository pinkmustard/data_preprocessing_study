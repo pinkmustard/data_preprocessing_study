{
  "cells": [
    {
      "cell_type": "markdown",
      "metadata": {
        "id": "xcmkuNKkYZyN"
      },
      "source": [
        "### Q1. 항암약 위약을 투여 받은 환자의 부작용은 감기약 위약을 투여 받은 환자의 부작용 분포와 차이가 있는가?"
      ]
    },
    {
      "cell_type": "markdown",
      "metadata": {
        "id": "RpO9RfeNvvN3"
      },
      "source": [
        "항암약(위약)을 투여 받은 환자 그룹의 관찰된 부작용"
      ]
    },
    {
      "cell_type": "code",
      "execution_count": 31,
      "metadata": {
        "id": "h3JLqTc6upep"
      },
      "outputs": [],
      "source": [
        "import pandas as pd\n",
        "df = pd.DataFrame({ \"항암약\":[4,4,3,4,1,4,1,4,1,4,4,2,1,4,2,3,2,4,4,4] })\n",
        "# 1: '아픔', 2: '조금 아픔', 3: '속쓰림', 4: '무증상'"
      ]
    },
    {
      "cell_type": "markdown",
      "metadata": {
        "id": "UW3ECD7Ju3t4"
      },
      "source": [
        "감기약(위약)을 투여받은 환자들 중의 알려진 부작용 발생 비율\n"
      ]
    },
    {
      "cell_type": "code",
      "execution_count": 32,
      "metadata": {
        "id": "PS9rTPvty31D"
      },
      "outputs": [],
      "source": [
        "# 1. 아픔: 10%\n",
        "# 2. 조금 아픔 5%\n",
        "# 3. 속 쓰림 15%\n",
        "# 4. 무증상: 70%"
      ]
    },
    {
      "cell_type": "markdown",
      "metadata": {
        "id": "VeTeYxDYxzPw"
      },
      "source": [
        "-\t귀무가설(H0): 감기약(위약)의 부작용과 항암약(위약)의 부작용은 동일하다.\n",
        "- \t대립가설(H1): 감기약(위약)의 부작용과 항암약(위약)의 부작용은 다르다."
      ]
    },
    {
      "cell_type": "markdown",
      "metadata": {
        "id": "2LjbHGCOzPLb"
      },
      "source": [
        " ### 1-1. 항암약을 투여 받은 환자 중 '무증상'의 비율을 0과 1사이로 구하시오."
      ]
    },
    {
      "cell_type": "code",
      "execution_count": 36,
      "metadata": {},
      "outputs": [
        {
          "name": "stdout",
          "output_type": "stream",
          "text": [
            "0.55\n"
          ]
        }
      ],
      "source": [
        "cond = df['항암약'] == 4\n",
        "a = len(df[cond])\n",
        "total = len(df['항암약'])\n",
        "print(a/total)"
      ]
    },
    {
      "cell_type": "markdown",
      "metadata": {
        "id": "DAtV-bFQzZPW"
      },
      "source": [
        "### 1-2. 감기약의 예상 부작용 비율과 항암약의 부작용 관찰값이 통계적으로 유의미하게 차이가 있는지 확인하려 한다. 카이 제곱 검정을 사용하여 검정 통계량을 구하시오."
      ]
    },
    {
      "cell_type": "code",
      "execution_count": 45,
      "metadata": {},
      "outputs": [
        {
          "name": "stdout",
          "output_type": "stream",
          "text": [
            "6.976190476190476\n"
          ]
        }
      ],
      "source": [
        "# print(df['항암약'].value_counts())\n",
        "from scipy import stats\n",
        "ob = [4, 3, 2, 11]\n",
        "ex = [0.1 * 20 , 0.05 * 20 , 0.15 * 20 , 0.7 * 20]\n",
        "print(stats.chisquare(ob, ex)[0])\n"
      ]
    },
    {
      "cell_type": "markdown",
      "metadata": {
        "id": "PdyzwHKLzsJF"
      },
      "source": [
        "### 1-3. 위의 p-값을 구하시오"
      ]
    },
    {
      "cell_type": "code",
      "execution_count": null,
      "metadata": {},
      "outputs": [],
      "source": [
        "print(stats.chisquare(ob, ex)[1])"
      ]
    },
    {
      "cell_type": "markdown",
      "metadata": {
        "id": "t6IB5WUEq-SI"
      },
      "source": [
        "### Q2. 다중 선형 회귀 문제"
      ]
    },
    {
      "cell_type": "code",
      "execution_count": 26,
      "metadata": {
        "colab": {
          "base_uri": "https://localhost:8080/",
          "height": 111
        },
        "id": "lWNTYD4-ZXg3",
        "outputId": "fcd62680-a815-4010-9397-06526a94d5db"
      },
      "outputs": [
        {
          "data": {
            "text/html": [
              "<div>\n",
              "<style scoped>\n",
              "    .dataframe tbody tr th:only-of-type {\n",
              "        vertical-align: middle;\n",
              "    }\n",
              "\n",
              "    .dataframe tbody tr th {\n",
              "        vertical-align: top;\n",
              "    }\n",
              "\n",
              "    .dataframe thead th {\n",
              "        text-align: right;\n",
              "    }\n",
              "</style>\n",
              "<table border=\"1\" class=\"dataframe\">\n",
              "  <thead>\n",
              "    <tr style=\"text-align: right;\">\n",
              "      <th></th>\n",
              "      <th>solar</th>\n",
              "      <th>wind</th>\n",
              "      <th>o3</th>\n",
              "      <th>temperature</th>\n",
              "    </tr>\n",
              "  </thead>\n",
              "  <tbody>\n",
              "    <tr>\n",
              "      <th>0</th>\n",
              "      <td>89.14</td>\n",
              "      <td>6.28</td>\n",
              "      <td>33.52</td>\n",
              "      <td>23.0</td>\n",
              "    </tr>\n",
              "    <tr>\n",
              "      <th>1</th>\n",
              "      <td>109.97</td>\n",
              "      <td>1.04</td>\n",
              "      <td>27.01</td>\n",
              "      <td>20.7</td>\n",
              "    </tr>\n",
              "  </tbody>\n",
              "</table>\n",
              "</div>"
            ],
            "text/plain": [
              "    solar  wind     o3  temperature\n",
              "0   89.14  6.28  33.52         23.0\n",
              "1  109.97  1.04  27.01         20.7"
            ]
          },
          "execution_count": 26,
          "metadata": {},
          "output_type": "execute_result"
        }
      ],
      "source": [
        "import pandas as pd\n",
        "df = pd.read_csv(\"data6-3-2.csv\")\n",
        "df.head(2)"
      ]
    },
    {
      "cell_type": "markdown",
      "metadata": {
        "id": "7KjxkwaVY6NX"
      },
      "source": [
        "1. 다중 선형 회귀 모델을 구축하고, 독립변수 o3의 회귀계수를 구하시오.\n",
        "- 독립변수: solar(태양 에너지), wind(바람의 세기), o3(오존 농도)\n",
        "- 종속변수: temperature(온도)\n"
      ]
    },
    {
      "cell_type": "code",
      "execution_count": 27,
      "metadata": {},
      "outputs": [
        {
          "name": "stdout",
          "output_type": "stream",
          "text": [
            "0.07493854378136586\n"
          ]
        }
      ],
      "source": [
        "from statsmodels.formula.api import ols\n",
        "model = ols(\"temperature ~ solar + wind + o3\", data=df).fit()\n",
        "# print(model.summary())\n",
        "print(model.params['o3'])"
      ]
    },
    {
      "cell_type": "markdown",
      "metadata": {
        "id": "G8VM1_CAZEcg"
      },
      "source": [
        "2. 데이터에서 'solar'와 'o3' 값을 고정한 상태에서, 'wind'의 세기가 증가함에 따라 'temperature'가 감소하는지를 검증하기 위해 다중 선형 회귀 분석을 수행하고, 이 때'wind'의 회귀 계수에 대한 p-value 값을 구하시오. (유의수준: 0.05)"
      ]
    },
    {
      "cell_type": "code",
      "execution_count": 29,
      "metadata": {},
      "outputs": [
        {
          "name": "stdout",
          "output_type": "stream",
          "text": [
            "0.779717720207168\n"
          ]
        }
      ],
      "source": [
        "\n",
        "print(model.pvalues['wind'])"
      ]
    },
    {
      "cell_type": "markdown",
      "metadata": {
        "id": "n4quUS-mZMsG"
      },
      "source": [
        "3. solar:100, wind:5, o3:30일 때 예측값과 그에 대한 95% 신뢰구간을 구하시오."
      ]
    },
    {
      "cell_type": "code",
      "execution_count": null,
      "metadata": {
        "id": "f_S8Y3wJZSuJ"
      },
      "outputs": [],
      "source": [
        "# 예측값 21.56163\n",
        "# 예측값에 대한 95% 신뢰구간 21.213737      21.909524"
      ]
    },
    {
      "cell_type": "code",
      "execution_count": 30,
      "metadata": {
        "id": "oG1tIKdoj5ih"
      },
      "outputs": [
        {
          "data": {
            "text/html": [
              "<div>\n",
              "<style scoped>\n",
              "    .dataframe tbody tr th:only-of-type {\n",
              "        vertical-align: middle;\n",
              "    }\n",
              "\n",
              "    .dataframe tbody tr th {\n",
              "        vertical-align: top;\n",
              "    }\n",
              "\n",
              "    .dataframe thead th {\n",
              "        text-align: right;\n",
              "    }\n",
              "</style>\n",
              "<table border=\"1\" class=\"dataframe\">\n",
              "  <thead>\n",
              "    <tr style=\"text-align: right;\">\n",
              "      <th></th>\n",
              "      <th>mean</th>\n",
              "      <th>mean_se</th>\n",
              "      <th>mean_ci_lower</th>\n",
              "      <th>mean_ci_upper</th>\n",
              "      <th>obs_ci_lower</th>\n",
              "      <th>obs_ci_upper</th>\n",
              "    </tr>\n",
              "  </thead>\n",
              "  <tbody>\n",
              "    <tr>\n",
              "      <th>0</th>\n",
              "      <td>21.56163</td>\n",
              "      <td>0.175263</td>\n",
              "      <td>21.213737</td>\n",
              "      <td>21.909524</td>\n",
              "      <td>18.082985</td>\n",
              "      <td>25.040276</td>\n",
              "    </tr>\n",
              "  </tbody>\n",
              "</table>\n",
              "</div>"
            ],
            "text/plain": [
              "       mean   mean_se  mean_ci_lower  mean_ci_upper  obs_ci_lower  \\\n",
              "0  21.56163  0.175263      21.213737      21.909524     18.082985   \n",
              "\n",
              "   obs_ci_upper  \n",
              "0     25.040276  "
            ]
          },
          "execution_count": 30,
          "metadata": {},
          "output_type": "execute_result"
        }
      ],
      "source": [
        "from statsmodels.formula.api import ols\n",
        "model = ols(\"temperature ~ solar + wind + o3\", data=df).fit()\n",
        "pred_df = pd.DataFrame({\n",
        "    'solar': [100],\n",
        "    'wind': [5],\n",
        "    'o3': [30]\n",
        "})\n",
        "pred = model.get_prediction(pred_df)\n",
        "pred.summary_frame(alpha=0.05)\n",
        "# 21.176971\t21.877376"
      ]
    },
    {
      "cell_type": "code",
      "execution_count": null,
      "metadata": {},
      "outputs": [],
      "source": []
    }
  ],
  "metadata": {
    "colab": {
      "provenance": []
    },
    "kernelspec": {
      "display_name": "Python 3",
      "name": "python3"
    },
    "language_info": {
      "codemirror_mode": {
        "name": "ipython",
        "version": 3
      },
      "file_extension": ".py",
      "mimetype": "text/x-python",
      "name": "python",
      "nbconvert_exporter": "python",
      "pygments_lexer": "ipython3",
      "version": "3.8.18"
    }
  },
  "nbformat": 4,
  "nbformat_minor": 0
}
