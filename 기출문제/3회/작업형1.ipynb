{
  "cells": [
    {
      "cell_type": "markdown",
      "metadata": {
        "id": "47HsBjEbBBPA"
      },
      "source": [
        "# 작업형1\n",
        "- 빅데이터 분석기사 3회 실기\n",
        "- 데이터: members.csv 또는 임의 데이터 생성"
      ]
    },
    {
      "cell_type": "markdown",
      "metadata": {
        "id": "WaSPmIHXojbx"
      },
      "source": [
        "## 문제1\n",
        "- 결측치 데이터(행)을 제거하고, 앞에서부터 70% 데이터만 활용해, 'f1' 컬럼 1사분위 값을 구하시오\n",
        "- 데이터: members.csv"
      ]
    },
    {
      "cell_type": "code",
      "execution_count": 18,
      "metadata": {
        "id": "rX5s6Ujhojl-"
      },
      "outputs": [
        {
          "name": "stdout",
          "output_type": "stream",
          "text": [
            "57.0\n"
          ]
        }
      ],
      "source": [
        "import pandas as pd\n",
        "df = pd.read_csv('members.csv')\n",
        "df = df.dropna()\n",
        "cut_point = int(len(df) * 0.7) # 꼭 정수로 하기\n",
        "df = df.iloc[:cut_point]\n",
        "r1 = df['f1'].quantile(.25)\n",
        "print(r1)"
      ]
    },
    {
      "cell_type": "markdown",
      "metadata": {
        "id": "b1QCUZLFoj5k"
      },
      "source": [
        "## 문제2\n",
        "- index는 년도임. 2000년 데이터 중 2000년 평균보다 큰 값의 데이터 수\n",
        "- 데이터: 아래 셀 실행"
      ]
    },
    {
      "cell_type": "code",
      "execution_count": 9,
      "metadata": {
        "id": "Kb3gQAwPoqmV"
      },
      "outputs": [
        {
          "data": {
            "text/html": [
              "<div>\n",
              "<style scoped>\n",
              "    .dataframe tbody tr th:only-of-type {\n",
              "        vertical-align: middle;\n",
              "    }\n",
              "\n",
              "    .dataframe tbody tr th {\n",
              "        vertical-align: top;\n",
              "    }\n",
              "\n",
              "    .dataframe thead th {\n",
              "        text-align: right;\n",
              "    }\n",
              "</style>\n",
              "<table border=\"1\" class=\"dataframe\">\n",
              "  <thead>\n",
              "    <tr style=\"text-align: right;\">\n",
              "      <th></th>\n",
              "      <th>0</th>\n",
              "      <th>1</th>\n",
              "      <th>2</th>\n",
              "      <th>3</th>\n",
              "      <th>4</th>\n",
              "      <th>5</th>\n",
              "      <th>6</th>\n",
              "      <th>7</th>\n",
              "      <th>8</th>\n",
              "      <th>9</th>\n",
              "      <th>...</th>\n",
              "      <th>190</th>\n",
              "      <th>191</th>\n",
              "      <th>192</th>\n",
              "      <th>193</th>\n",
              "      <th>194</th>\n",
              "      <th>195</th>\n",
              "      <th>196</th>\n",
              "      <th>197</th>\n",
              "      <th>198</th>\n",
              "      <th>199</th>\n",
              "    </tr>\n",
              "  </thead>\n",
              "  <tbody>\n",
              "    <tr>\n",
              "      <th>1999</th>\n",
              "      <td>137</td>\n",
              "      <td>74</td>\n",
              "      <td>114</td>\n",
              "      <td>140</td>\n",
              "      <td>80</td>\n",
              "      <td>150</td>\n",
              "      <td>16</td>\n",
              "      <td>133</td>\n",
              "      <td>178</td>\n",
              "      <td>181</td>\n",
              "      <td>...</td>\n",
              "      <td>124</td>\n",
              "      <td>94</td>\n",
              "      <td>118</td>\n",
              "      <td>12</td>\n",
              "      <td>50</td>\n",
              "      <td>191</td>\n",
              "      <td>137</td>\n",
              "      <td>174</td>\n",
              "      <td>56</td>\n",
              "      <td>128</td>\n",
              "    </tr>\n",
              "    <tr>\n",
              "      <th>2000</th>\n",
              "      <td>176</td>\n",
              "      <td>87</td>\n",
              "      <td>64</td>\n",
              "      <td>110</td>\n",
              "      <td>128</td>\n",
              "      <td>16</td>\n",
              "      <td>8</td>\n",
              "      <td>4</td>\n",
              "      <td>123</td>\n",
              "      <td>87</td>\n",
              "      <td>...</td>\n",
              "      <td>59</td>\n",
              "      <td>22</td>\n",
              "      <td>3</td>\n",
              "      <td>108</td>\n",
              "      <td>17</td>\n",
              "      <td>104</td>\n",
              "      <td>101</td>\n",
              "      <td>161</td>\n",
              "      <td>156</td>\n",
              "      <td>43</td>\n",
              "    </tr>\n",
              "    <tr>\n",
              "      <th>2001</th>\n",
              "      <td>128</td>\n",
              "      <td>132</td>\n",
              "      <td>123</td>\n",
              "      <td>112</td>\n",
              "      <td>134</td>\n",
              "      <td>160</td>\n",
              "      <td>180</td>\n",
              "      <td>47</td>\n",
              "      <td>115</td>\n",
              "      <td>155</td>\n",
              "      <td>...</td>\n",
              "      <td>160</td>\n",
              "      <td>111</td>\n",
              "      <td>116</td>\n",
              "      <td>75</td>\n",
              "      <td>48</td>\n",
              "      <td>51</td>\n",
              "      <td>81</td>\n",
              "      <td>101</td>\n",
              "      <td>194</td>\n",
              "      <td>73</td>\n",
              "    </tr>\n",
              "  </tbody>\n",
              "</table>\n",
              "<p>3 rows × 200 columns</p>\n",
              "</div>"
            ],
            "text/plain": [
              "      0    1    2    3    4    5    6    7    8    9    ...  190  191  192  \\\n",
              "1999  137   74  114  140   80  150   16  133  178  181  ...  124   94  118   \n",
              "2000  176   87   64  110  128   16    8    4  123   87  ...   59   22    3   \n",
              "2001  128  132  123  112  134  160  180   47  115  155  ...  160  111  116   \n",
              "\n",
              "      193  194  195  196  197  198  199  \n",
              "1999   12   50  191  137  174   56  128  \n",
              "2000  108   17  104  101  161  156   43  \n",
              "2001   75   48   51   81  101  194   73  \n",
              "\n",
              "[3 rows x 200 columns]"
            ]
          },
          "execution_count": 9,
          "metadata": {},
          "output_type": "execute_result"
        }
      ],
      "source": [
        "# 데이터 생성(먼저 실행해 주세요)\n",
        "import pandas as pd\n",
        "import random\n",
        "random.seed(2022)\n",
        "df = pd.DataFrame()\n",
        "for i in range(0, 3):\n",
        "    list_box = []\n",
        "    for k in range(0, 200):\n",
        "        ran_num = random.randint(1,200)\n",
        "        list_box.append(ran_num)\n",
        "    df[i+1999] = list_box\n",
        "df = df.T\n",
        "df"
      ]
    },
    {
      "cell_type": "code",
      "execution_count": 14,
      "metadata": {
        "id": "HQvSFNkNokCN"
      },
      "outputs": [
        {
          "name": "stdout",
          "output_type": "stream",
          "text": [
            "100\n"
          ]
        }
      ],
      "source": [
        "mean_2000 = df.loc[2000].mean()\n",
        "cond1 = df.loc[2000] > mean_2000\n",
        "print(sum(cond1))"
      ]
    },
    {
      "cell_type": "markdown",
      "metadata": {
        "id": "B-At2JOqokPY"
      },
      "source": [
        "## 문제3\n",
        "- 결측치가 제일 많은 값의 컬럼명\n",
        "- 데이터: members.csv"
      ]
    },
    {
      "cell_type": "code",
      "execution_count": 33,
      "metadata": {
        "id": "L5JUMZMvokXo"
      },
      "outputs": [
        {
          "name": "stdout",
          "output_type": "stream",
          "text": [
            "f1\n"
          ]
        }
      ],
      "source": [
        "import pandas as pd\n",
        "df = pd.read_csv('members.csv')\n",
        "# print(df.isnull().sum().sort_values(ascending=False).idxmax())\n",
        "df = df.isnull().sum().sort_values(ascending=False)\n",
        "print(df.index[0])"
      ]
    },
    {
      "cell_type": "markdown",
      "metadata": {
        "id": "6E6EW3mooz47"
      },
      "source": [
        "# 풀이"
      ]
    },
    {
      "cell_type": "markdown",
      "metadata": {
        "id": "amC4XdUCNDz9"
      },
      "source": [
        "## 문제1\n",
        "- 결측치 데이터(행)을 제거하고, 앞에서부터 70% 데이터만 활용해, 'f1' 컬럼 1사분위 값을 구하시오\n",
        "- 데이터: members.csv"
      ]
    },
    {
      "cell_type": "code",
      "execution_count": 15,
      "metadata": {
        "colab": {
          "base_uri": "https://localhost:8080/"
        },
        "id": "hQiwbMwIHMqY",
        "outputId": "56ad3ef5-b98b-429d-ac40-8480bb5d8e7a"
      },
      "outputs": [
        {
          "name": "stdout",
          "output_type": "stream",
          "text": [
            "57.0\n"
          ]
        }
      ],
      "source": [
        "import pandas as pd\n",
        "df = pd.read_csv(\"members.csv\")\n",
        "# print(df.isnull().sum())\n",
        "# print(df.shape)\n",
        "df = df.dropna()\n",
        "# print(df.shape)\n",
        "\n",
        "# print(int(len(df)*0.7))\n",
        "df = df.iloc[:int(len(df)*0.7)]\n",
        "# print(df.shape)\n",
        "\n",
        "print(df['f1'].quantile(.25))"
      ]
    },
    {
      "cell_type": "markdown",
      "metadata": {
        "id": "cnkubHLYIvA_"
      },
      "source": [
        "## 문제2\n",
        "- index는 년도임. 2000년 데이터 중 2000년 평균보다 큰 값의 데이터 수\n",
        "- 데이터: 아래 셀 실행"
      ]
    },
    {
      "cell_type": "code",
      "execution_count": null,
      "metadata": {
        "colab": {
          "base_uri": "https://localhost:8080/",
          "height": 172
        },
        "id": "umbbaTFdI41o",
        "outputId": "ee6bdf5e-0cee-49ee-ae63-5255f65bba0f"
      },
      "outputs": [
        {
          "data": {
            "application/vnd.google.colaboratory.intrinsic+json": {
              "type": "dataframe",
              "variable_name": "df"
            },
            "text/html": [
              "\n",
              "  <div id=\"df-7c513b40-1c74-4f02-bbd6-3d83753215f5\" class=\"colab-df-container\">\n",
              "    <div>\n",
              "<style scoped>\n",
              "    .dataframe tbody tr th:only-of-type {\n",
              "        vertical-align: middle;\n",
              "    }\n",
              "\n",
              "    .dataframe tbody tr th {\n",
              "        vertical-align: top;\n",
              "    }\n",
              "\n",
              "    .dataframe thead th {\n",
              "        text-align: right;\n",
              "    }\n",
              "</style>\n",
              "<table border=\"1\" class=\"dataframe\">\n",
              "  <thead>\n",
              "    <tr style=\"text-align: right;\">\n",
              "      <th></th>\n",
              "      <th>0</th>\n",
              "      <th>1</th>\n",
              "      <th>2</th>\n",
              "      <th>3</th>\n",
              "      <th>4</th>\n",
              "      <th>5</th>\n",
              "      <th>6</th>\n",
              "      <th>7</th>\n",
              "      <th>8</th>\n",
              "      <th>9</th>\n",
              "      <th>...</th>\n",
              "      <th>190</th>\n",
              "      <th>191</th>\n",
              "      <th>192</th>\n",
              "      <th>193</th>\n",
              "      <th>194</th>\n",
              "      <th>195</th>\n",
              "      <th>196</th>\n",
              "      <th>197</th>\n",
              "      <th>198</th>\n",
              "      <th>199</th>\n",
              "    </tr>\n",
              "  </thead>\n",
              "  <tbody>\n",
              "    <tr>\n",
              "      <th>1999</th>\n",
              "      <td>137</td>\n",
              "      <td>74</td>\n",
              "      <td>114</td>\n",
              "      <td>140</td>\n",
              "      <td>80</td>\n",
              "      <td>150</td>\n",
              "      <td>16</td>\n",
              "      <td>133</td>\n",
              "      <td>178</td>\n",
              "      <td>181</td>\n",
              "      <td>...</td>\n",
              "      <td>124</td>\n",
              "      <td>94</td>\n",
              "      <td>118</td>\n",
              "      <td>12</td>\n",
              "      <td>50</td>\n",
              "      <td>191</td>\n",
              "      <td>137</td>\n",
              "      <td>174</td>\n",
              "      <td>56</td>\n",
              "      <td>128</td>\n",
              "    </tr>\n",
              "    <tr>\n",
              "      <th>2000</th>\n",
              "      <td>176</td>\n",
              "      <td>87</td>\n",
              "      <td>64</td>\n",
              "      <td>110</td>\n",
              "      <td>128</td>\n",
              "      <td>16</td>\n",
              "      <td>8</td>\n",
              "      <td>4</td>\n",
              "      <td>123</td>\n",
              "      <td>87</td>\n",
              "      <td>...</td>\n",
              "      <td>59</td>\n",
              "      <td>22</td>\n",
              "      <td>3</td>\n",
              "      <td>108</td>\n",
              "      <td>17</td>\n",
              "      <td>104</td>\n",
              "      <td>101</td>\n",
              "      <td>161</td>\n",
              "      <td>156</td>\n",
              "      <td>43</td>\n",
              "    </tr>\n",
              "    <tr>\n",
              "      <th>2001</th>\n",
              "      <td>128</td>\n",
              "      <td>132</td>\n",
              "      <td>123</td>\n",
              "      <td>112</td>\n",
              "      <td>134</td>\n",
              "      <td>160</td>\n",
              "      <td>180</td>\n",
              "      <td>47</td>\n",
              "      <td>115</td>\n",
              "      <td>155</td>\n",
              "      <td>...</td>\n",
              "      <td>160</td>\n",
              "      <td>111</td>\n",
              "      <td>116</td>\n",
              "      <td>75</td>\n",
              "      <td>48</td>\n",
              "      <td>51</td>\n",
              "      <td>81</td>\n",
              "      <td>101</td>\n",
              "      <td>194</td>\n",
              "      <td>73</td>\n",
              "    </tr>\n",
              "  </tbody>\n",
              "</table>\n",
              "<p>3 rows × 200 columns</p>\n",
              "</div>\n",
              "    <div class=\"colab-df-buttons\">\n",
              "\n",
              "  <div class=\"colab-df-container\">\n",
              "    <button class=\"colab-df-convert\" onclick=\"convertToInteractive('df-7c513b40-1c74-4f02-bbd6-3d83753215f5')\"\n",
              "            title=\"Convert this dataframe to an interactive table.\"\n",
              "            style=\"display:none;\">\n",
              "\n",
              "  <svg xmlns=\"http://www.w3.org/2000/svg\" height=\"24px\" viewBox=\"0 -960 960 960\">\n",
              "    <path d=\"M120-120v-720h720v720H120Zm60-500h600v-160H180v160Zm220 220h160v-160H400v160Zm0 220h160v-160H400v160ZM180-400h160v-160H180v160Zm440 0h160v-160H620v160ZM180-180h160v-160H180v160Zm440 0h160v-160H620v160Z\"/>\n",
              "  </svg>\n",
              "    </button>\n",
              "\n",
              "  <style>\n",
              "    .colab-df-container {\n",
              "      display:flex;\n",
              "      gap: 12px;\n",
              "    }\n",
              "\n",
              "    .colab-df-convert {\n",
              "      background-color: #E8F0FE;\n",
              "      border: none;\n",
              "      border-radius: 50%;\n",
              "      cursor: pointer;\n",
              "      display: none;\n",
              "      fill: #1967D2;\n",
              "      height: 32px;\n",
              "      padding: 0 0 0 0;\n",
              "      width: 32px;\n",
              "    }\n",
              "\n",
              "    .colab-df-convert:hover {\n",
              "      background-color: #E2EBFA;\n",
              "      box-shadow: 0px 1px 2px rgba(60, 64, 67, 0.3), 0px 1px 3px 1px rgba(60, 64, 67, 0.15);\n",
              "      fill: #174EA6;\n",
              "    }\n",
              "\n",
              "    .colab-df-buttons div {\n",
              "      margin-bottom: 4px;\n",
              "    }\n",
              "\n",
              "    [theme=dark] .colab-df-convert {\n",
              "      background-color: #3B4455;\n",
              "      fill: #D2E3FC;\n",
              "    }\n",
              "\n",
              "    [theme=dark] .colab-df-convert:hover {\n",
              "      background-color: #434B5C;\n",
              "      box-shadow: 0px 1px 3px 1px rgba(0, 0, 0, 0.15);\n",
              "      filter: drop-shadow(0px 1px 2px rgba(0, 0, 0, 0.3));\n",
              "      fill: #FFFFFF;\n",
              "    }\n",
              "  </style>\n",
              "\n",
              "    <script>\n",
              "      const buttonEl =\n",
              "        document.querySelector('#df-7c513b40-1c74-4f02-bbd6-3d83753215f5 button.colab-df-convert');\n",
              "      buttonEl.style.display =\n",
              "        google.colab.kernel.accessAllowed ? 'block' : 'none';\n",
              "\n",
              "      async function convertToInteractive(key) {\n",
              "        const element = document.querySelector('#df-7c513b40-1c74-4f02-bbd6-3d83753215f5');\n",
              "        const dataTable =\n",
              "          await google.colab.kernel.invokeFunction('convertToInteractive',\n",
              "                                                    [key], {});\n",
              "        if (!dataTable) return;\n",
              "\n",
              "        const docLinkHtml = 'Like what you see? Visit the ' +\n",
              "          '<a target=\"_blank\" href=https://colab.research.google.com/notebooks/data_table.ipynb>data table notebook</a>'\n",
              "          + ' to learn more about interactive tables.';\n",
              "        element.innerHTML = '';\n",
              "        dataTable['output_type'] = 'display_data';\n",
              "        await google.colab.output.renderOutput(dataTable, element);\n",
              "        const docLink = document.createElement('div');\n",
              "        docLink.innerHTML = docLinkHtml;\n",
              "        element.appendChild(docLink);\n",
              "      }\n",
              "    </script>\n",
              "  </div>\n",
              "\n",
              "\n",
              "<div id=\"df-c1fe10e8-b7de-4db4-974d-6af3e1907453\">\n",
              "  <button class=\"colab-df-quickchart\" onclick=\"quickchart('df-c1fe10e8-b7de-4db4-974d-6af3e1907453')\"\n",
              "            title=\"Suggest charts\"\n",
              "            style=\"display:none;\">\n",
              "\n",
              "<svg xmlns=\"http://www.w3.org/2000/svg\" height=\"24px\"viewBox=\"0 0 24 24\"\n",
              "     width=\"24px\">\n",
              "    <g>\n",
              "        <path d=\"M19 3H5c-1.1 0-2 .9-2 2v14c0 1.1.9 2 2 2h14c1.1 0 2-.9 2-2V5c0-1.1-.9-2-2-2zM9 17H7v-7h2v7zm4 0h-2V7h2v10zm4 0h-2v-4h2v4z\"/>\n",
              "    </g>\n",
              "</svg>\n",
              "  </button>\n",
              "\n",
              "<style>\n",
              "  .colab-df-quickchart {\n",
              "      --bg-color: #E8F0FE;\n",
              "      --fill-color: #1967D2;\n",
              "      --hover-bg-color: #E2EBFA;\n",
              "      --hover-fill-color: #174EA6;\n",
              "      --disabled-fill-color: #AAA;\n",
              "      --disabled-bg-color: #DDD;\n",
              "  }\n",
              "\n",
              "  [theme=dark] .colab-df-quickchart {\n",
              "      --bg-color: #3B4455;\n",
              "      --fill-color: #D2E3FC;\n",
              "      --hover-bg-color: #434B5C;\n",
              "      --hover-fill-color: #FFFFFF;\n",
              "      --disabled-bg-color: #3B4455;\n",
              "      --disabled-fill-color: #666;\n",
              "  }\n",
              "\n",
              "  .colab-df-quickchart {\n",
              "    background-color: var(--bg-color);\n",
              "    border: none;\n",
              "    border-radius: 50%;\n",
              "    cursor: pointer;\n",
              "    display: none;\n",
              "    fill: var(--fill-color);\n",
              "    height: 32px;\n",
              "    padding: 0;\n",
              "    width: 32px;\n",
              "  }\n",
              "\n",
              "  .colab-df-quickchart:hover {\n",
              "    background-color: var(--hover-bg-color);\n",
              "    box-shadow: 0 1px 2px rgba(60, 64, 67, 0.3), 0 1px 3px 1px rgba(60, 64, 67, 0.15);\n",
              "    fill: var(--button-hover-fill-color);\n",
              "  }\n",
              "\n",
              "  .colab-df-quickchart-complete:disabled,\n",
              "  .colab-df-quickchart-complete:disabled:hover {\n",
              "    background-color: var(--disabled-bg-color);\n",
              "    fill: var(--disabled-fill-color);\n",
              "    box-shadow: none;\n",
              "  }\n",
              "\n",
              "  .colab-df-spinner {\n",
              "    border: 2px solid var(--fill-color);\n",
              "    border-color: transparent;\n",
              "    border-bottom-color: var(--fill-color);\n",
              "    animation:\n",
              "      spin 1s steps(1) infinite;\n",
              "  }\n",
              "\n",
              "  @keyframes spin {\n",
              "    0% {\n",
              "      border-color: transparent;\n",
              "      border-bottom-color: var(--fill-color);\n",
              "      border-left-color: var(--fill-color);\n",
              "    }\n",
              "    20% {\n",
              "      border-color: transparent;\n",
              "      border-left-color: var(--fill-color);\n",
              "      border-top-color: var(--fill-color);\n",
              "    }\n",
              "    30% {\n",
              "      border-color: transparent;\n",
              "      border-left-color: var(--fill-color);\n",
              "      border-top-color: var(--fill-color);\n",
              "      border-right-color: var(--fill-color);\n",
              "    }\n",
              "    40% {\n",
              "      border-color: transparent;\n",
              "      border-right-color: var(--fill-color);\n",
              "      border-top-color: var(--fill-color);\n",
              "    }\n",
              "    60% {\n",
              "      border-color: transparent;\n",
              "      border-right-color: var(--fill-color);\n",
              "    }\n",
              "    80% {\n",
              "      border-color: transparent;\n",
              "      border-right-color: var(--fill-color);\n",
              "      border-bottom-color: var(--fill-color);\n",
              "    }\n",
              "    90% {\n",
              "      border-color: transparent;\n",
              "      border-bottom-color: var(--fill-color);\n",
              "    }\n",
              "  }\n",
              "</style>\n",
              "\n",
              "  <script>\n",
              "    async function quickchart(key) {\n",
              "      const quickchartButtonEl =\n",
              "        document.querySelector('#' + key + ' button');\n",
              "      quickchartButtonEl.disabled = true;  // To prevent multiple clicks.\n",
              "      quickchartButtonEl.classList.add('colab-df-spinner');\n",
              "      try {\n",
              "        const charts = await google.colab.kernel.invokeFunction(\n",
              "            'suggestCharts', [key], {});\n",
              "      } catch (error) {\n",
              "        console.error('Error during call to suggestCharts:', error);\n",
              "      }\n",
              "      quickchartButtonEl.classList.remove('colab-df-spinner');\n",
              "      quickchartButtonEl.classList.add('colab-df-quickchart-complete');\n",
              "    }\n",
              "    (() => {\n",
              "      let quickchartButtonEl =\n",
              "        document.querySelector('#df-c1fe10e8-b7de-4db4-974d-6af3e1907453 button');\n",
              "      quickchartButtonEl.style.display =\n",
              "        google.colab.kernel.accessAllowed ? 'block' : 'none';\n",
              "    })();\n",
              "  </script>\n",
              "</div>\n",
              "\n",
              "  <div id=\"id_6ea4972b-30bd-4fa4-b4df-6d2e6c45811a\">\n",
              "    <style>\n",
              "      .colab-df-generate {\n",
              "        background-color: #E8F0FE;\n",
              "        border: none;\n",
              "        border-radius: 50%;\n",
              "        cursor: pointer;\n",
              "        display: none;\n",
              "        fill: #1967D2;\n",
              "        height: 32px;\n",
              "        padding: 0 0 0 0;\n",
              "        width: 32px;\n",
              "      }\n",
              "\n",
              "      .colab-df-generate:hover {\n",
              "        background-color: #E2EBFA;\n",
              "        box-shadow: 0px 1px 2px rgba(60, 64, 67, 0.3), 0px 1px 3px 1px rgba(60, 64, 67, 0.15);\n",
              "        fill: #174EA6;\n",
              "      }\n",
              "\n",
              "      [theme=dark] .colab-df-generate {\n",
              "        background-color: #3B4455;\n",
              "        fill: #D2E3FC;\n",
              "      }\n",
              "\n",
              "      [theme=dark] .colab-df-generate:hover {\n",
              "        background-color: #434B5C;\n",
              "        box-shadow: 0px 1px 3px 1px rgba(0, 0, 0, 0.15);\n",
              "        filter: drop-shadow(0px 1px 2px rgba(0, 0, 0, 0.3));\n",
              "        fill: #FFFFFF;\n",
              "      }\n",
              "    </style>\n",
              "    <button class=\"colab-df-generate\" onclick=\"generateWithVariable('df')\"\n",
              "            title=\"Generate code using this dataframe.\"\n",
              "            style=\"display:none;\">\n",
              "\n",
              "  <svg xmlns=\"http://www.w3.org/2000/svg\" height=\"24px\"viewBox=\"0 0 24 24\"\n",
              "       width=\"24px\">\n",
              "    <path d=\"M7,19H8.4L18.45,9,17,7.55,7,17.6ZM5,21V16.75L18.45,3.32a2,2,0,0,1,2.83,0l1.4,1.43a1.91,1.91,0,0,1,.58,1.4,1.91,1.91,0,0,1-.58,1.4L9.25,21ZM18.45,9,17,7.55Zm-12,3A5.31,5.31,0,0,0,4.9,8.1,5.31,5.31,0,0,0,1,6.5,5.31,5.31,0,0,0,4.9,4.9,5.31,5.31,0,0,0,6.5,1,5.31,5.31,0,0,0,8.1,4.9,5.31,5.31,0,0,0,12,6.5,5.46,5.46,0,0,0,6.5,12Z\"/>\n",
              "  </svg>\n",
              "    </button>\n",
              "    <script>\n",
              "      (() => {\n",
              "      const buttonEl =\n",
              "        document.querySelector('#id_6ea4972b-30bd-4fa4-b4df-6d2e6c45811a button.colab-df-generate');\n",
              "      buttonEl.style.display =\n",
              "        google.colab.kernel.accessAllowed ? 'block' : 'none';\n",
              "\n",
              "      buttonEl.onclick = () => {\n",
              "        google.colab.notebook.generateWithVariable('df');\n",
              "      }\n",
              "      })();\n",
              "    </script>\n",
              "  </div>\n",
              "\n",
              "    </div>\n",
              "  </div>\n"
            ],
            "text/plain": [
              "      0    1    2    3    4    5    6    7    8    9    ...  190  191  192  \\\n",
              "1999  137   74  114  140   80  150   16  133  178  181  ...  124   94  118   \n",
              "2000  176   87   64  110  128   16    8    4  123   87  ...   59   22    3   \n",
              "2001  128  132  123  112  134  160  180   47  115  155  ...  160  111  116   \n",
              "\n",
              "      193  194  195  196  197  198  199  \n",
              "1999   12   50  191  137  174   56  128  \n",
              "2000  108   17  104  101  161  156   43  \n",
              "2001   75   48   51   81  101  194   73  \n",
              "\n",
              "[3 rows x 200 columns]"
            ]
          },
          "execution_count": 3,
          "metadata": {},
          "output_type": "execute_result"
        }
      ],
      "source": [
        "# 데이터 생성(먼저 실행해 주세요)\n",
        "import pandas as pd\n",
        "import random\n",
        "random.seed(2022)\n",
        "df = pd.DataFrame()\n",
        "for i in range(0, 3):\n",
        "    list_box = []\n",
        "    for k in range(0, 200):\n",
        "        ran_num = random.randint(1,200)\n",
        "        list_box.append(ran_num)\n",
        "    df[i+1999] = list_box\n",
        "df = df.T\n",
        "df"
      ]
    },
    {
      "cell_type": "code",
      "execution_count": null,
      "metadata": {
        "colab": {
          "base_uri": "https://localhost:8080/"
        },
        "id": "t-_rn28W_A5H",
        "outputId": "f624a708-eff9-4bf6-ca46-f9cb502917f7"
      },
      "outputs": [
        {
          "name": "stdout",
          "output_type": "stream",
          "text": [
            "100\n",
            "100\n"
          ]
        }
      ],
      "source": [
        "# 방법1\n",
        "m = df.loc[2000].mean()\n",
        "print(sum(df.loc[2000,:] > m))\n",
        "\n",
        "# 방법2\n",
        "df = df.T\n",
        "m = df[2000].mean()\n",
        "print(sum(df[2000] > m))"
      ]
    },
    {
      "cell_type": "markdown",
      "metadata": {
        "id": "JdpTHqpTI8hO"
      },
      "source": [
        "## 문제3\n",
        "- 결측치가 제일 많은 값의 컬럼명\n",
        "- 데이터: members.csv"
      ]
    },
    {
      "cell_type": "code",
      "execution_count": null,
      "metadata": {
        "colab": {
          "base_uri": "https://localhost:8080/",
          "height": 38
        },
        "id": "hXxCFs7wJW-F",
        "outputId": "ef00ca4c-7d2a-42bf-d13c-d026f4786584"
      },
      "outputs": [
        {
          "data": {
            "application/vnd.google.colaboratory.intrinsic+json": {
              "type": "string"
            },
            "text/plain": [
              "'f1'"
            ]
          },
          "execution_count": 58,
          "metadata": {},
          "output_type": "execute_result"
        }
      ],
      "source": [
        "import pandas as pd\n",
        "df = pd.read_csv(\"members.csv\")\n",
        "\n",
        "# 방법1\n",
        "# df = df.isnull().sum()\n",
        "# df = df.sort_values(ascending=False)\n",
        "# print(df.index[0])\n",
        "\n",
        "# 방법2\n",
        "df = df.isnull().sum()\n",
        "df = df.reset_index()\n",
        "print(df.loc[3, 'index'])"
      ]
    }
  ],
  "metadata": {
    "colab": {
      "provenance": [],
      "toc_visible": true
    },
    "kernelspec": {
      "display_name": "Python 3",
      "name": "python3"
    },
    "language_info": {
      "codemirror_mode": {
        "name": "ipython",
        "version": 3
      },
      "file_extension": ".py",
      "mimetype": "text/x-python",
      "name": "python",
      "nbconvert_exporter": "python",
      "pygments_lexer": "ipython3",
      "version": "3.8.18"
    }
  },
  "nbformat": 4,
  "nbformat_minor": 0
}
