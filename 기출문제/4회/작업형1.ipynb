{
  "cells": [
    {
      "cell_type": "markdown",
      "metadata": {
        "id": "v_AUHR5oYUtJ"
      },
      "source": [
        "## 작업형1 문제\n",
        "1-1. age 컬럼의 3사분위수와 1사분위수의 차를 절대값으로 구하고, 소수점 버려서, 정수로 출력"
      ]
    },
    {
      "cell_type": "code",
      "execution_count": 2,
      "metadata": {
        "id": "ZImr4KE_YSVY"
      },
      "outputs": [
        {
          "name": "stdout",
          "output_type": "stream",
          "text": [
            "50\n"
          ]
        }
      ],
      "source": [
        "import pandas as pd\n",
        "df = pd.read_csv(\"basic1.csv\")\n",
        "r1 = df['age'].quantile(.25)\n",
        "r2 = df['age'].quantile(.75)\n",
        "print(int(abs(r2-r1)))"
      ]
    },
    {
      "cell_type": "markdown",
      "metadata": {
        "id": "FKK8eCw6YYU1"
      },
      "source": [
        "1-2.(loves반응+wows반응)/(reactions반응) 비율이 0.4보다 크고 0.5보다 작으면서, type 컬럼이 'video'인 데이터의 갯수"
      ]
    },
    {
      "cell_type": "code",
      "execution_count": 8,
      "metadata": {
        "id": "x2iBupbOYZ3f"
      },
      "outputs": [
        {
          "name": "stdout",
          "output_type": "stream",
          "text": [
            "90\n"
          ]
        }
      ],
      "source": [
        "import pandas as pd\n",
        "df = pd.read_csv(\"fb.csv\")\n",
        "cond1 = (df['loves'] + df['wows'])/df['reactions'] > 0.4\n",
        "cond2 = (df['loves'] + df['wows'])/df['reactions'] < 0.5\n",
        "cond3 = df['type'] == 'video'\n",
        "\n",
        "print(len(df[cond1 & cond2 & cond3]))"
      ]
    },
    {
      "cell_type": "markdown",
      "metadata": {
        "id": "Eilj-YHNYfj1"
      },
      "source": [
        "1-3. date_added가 2018년 1월 이면서 country가 United Kingdom 단독 제작인 데이터의 갯수"
      ]
    },
    {
      "cell_type": "code",
      "execution_count": 19,
      "metadata": {
        "id": "0t3LZNYfYk8s"
      },
      "outputs": [
        {
          "name": "stdout",
          "output_type": "stream",
          "text": [
            "6\n"
          ]
        }
      ],
      "source": [
        "import pandas as pd\n",
        "df = pd.read_csv(\"nf.csv\")\n",
        "df['date_added'] = pd.to_datetime(df['date_added'])\n",
        "cond1 = df['date_added'].dt.year == 2018\n",
        "cond2 = df['date_added'].dt.month == 1\n",
        "cond3 = df['country'] == 'United Kingdom'\n",
        "print(len(df[cond1 & cond2 & cond3]))\n"
      ]
    },
    {
      "cell_type": "markdown",
      "metadata": {
        "id": "abgXJ73FYi3G"
      },
      "source": [
        "## 작업형1 풀이\n",
        "1-1. age 컬럼의 3사분위수와 1사분위수의 차를 절대값으로 구하고, 소수점 버려서, 정수로 출력\n",
        "\n",
        "\n",
        "\n",
        "\n",
        "\n",
        "\n"
      ]
    },
    {
      "cell_type": "code",
      "execution_count": null,
      "metadata": {
        "colab": {
          "base_uri": "https://localhost:8080/"
        },
        "id": "I_YkQc7KYtYu",
        "outputId": "c6b6a143-01cf-47dc-9952-14f5a15793f9"
      },
      "outputs": [
        {
          "name": "stdout",
          "output_type": "stream",
          "text": [
            "50\n"
          ]
        }
      ],
      "source": [
        "import pandas as pd\n",
        "df = pd.read_csv(\"basic1.csv\")\n",
        "# print(\"1사분위: \",df['age'].quantile(0.25))\n",
        "# print(\"3사분위: \",df['age'].quantile(0.75))\n",
        "\n",
        "result = abs(df['age'].quantile(0.25) - df['age'].quantile(0.75))\n",
        "# print(\"절대값 차이: \",result)\n",
        "\n",
        "print(int(result))"
      ]
    },
    {
      "cell_type": "markdown",
      "metadata": {
        "id": "QH7_XMk1Yumu"
      },
      "source": [
        "1-2.(loves반응+wows반응)/(reactions반응) 비율이 0.4보다 크고 0.5보다 작으면서, status_type=='video'인 데이터의 갯수"
      ]
    },
    {
      "cell_type": "code",
      "execution_count": null,
      "metadata": {
        "colab": {
          "base_uri": "https://localhost:8080/"
        },
        "id": "3t5PEt3sYwM8",
        "outputId": "5f1a18d8-e74b-4236-901d-4dd4a0858e97"
      },
      "outputs": [
        {
          "name": "stdout",
          "output_type": "stream",
          "text": [
            "90\n"
          ]
        }
      ],
      "source": [
        "import pandas as pd\n",
        "df = pd.read_csv(\"fb.csv\")\n",
        "cond1 = (df['loves'] + df['wows'])/ df['reactions'] > 0.4\n",
        "cond2 = (df['loves'] + df['wows'])/ df['reactions'] < 0.5\n",
        "cond3 = df['type'] == 'video'\n",
        "\n",
        "print(len(df[cond1 & cond2 & cond3]))"
      ]
    },
    {
      "cell_type": "markdown",
      "metadata": {
        "id": "s26z5O_UYxnC"
      },
      "source": [
        "1-3. date_added가 2018년 1월 이면서 country가 United Kingdom 단독 제작인 데이터의 갯수¶"
      ]
    },
    {
      "cell_type": "code",
      "execution_count": null,
      "metadata": {
        "colab": {
          "base_uri": "https://localhost:8080/"
        },
        "id": "H9FoO_usY0nA",
        "outputId": "a35b919f-be6e-45a6-c868-1cc42f13db23"
      },
      "outputs": [
        {
          "name": "stdout",
          "output_type": "stream",
          "text": [
            "6\n"
          ]
        }
      ],
      "source": [
        "# 풀이1 datatime 활용1\n",
        "import pandas as pd\n",
        "df = pd.read_csv(\"nf.csv\")\n",
        "\n",
        "cond1 = df['country'] == \"United Kingdom\"\n",
        "\n",
        "df['date_added'] = pd.to_datetime(df['date_added'])\n",
        "df['year'] = df['date_added'].dt.year\n",
        "df['month'] = df['date_added'].dt.month\n",
        "\n",
        "\n",
        "cond2 = df['year'] == 2018\n",
        "cond3 = df['month'] == 1\n",
        "\n",
        "print(len(df[cond1 & cond2 & cond3]))"
      ]
    },
    {
      "cell_type": "code",
      "execution_count": null,
      "metadata": {
        "colab": {
          "base_uri": "https://localhost:8080/"
        },
        "id": "V7aDb6hQY2FV",
        "outputId": "85ac5174-d3ac-4ff8-cc72-19abf1c5bd06"
      },
      "outputs": [
        {
          "name": "stdout",
          "output_type": "stream",
          "text": [
            "6\n"
          ]
        }
      ],
      "source": [
        "# 풀이2 datatime 활용2\n",
        "import pandas as pd\n",
        "df = pd.read_csv(\"nf.csv\")\n",
        "\n",
        "cond1 = df['country'] == \"United Kingdom\"\n",
        "\n",
        "df['date_added'] = pd.to_datetime(df['date_added'])\n",
        "\n",
        "cond2 = df['date_added'] >= '2018-1-1'\n",
        "cond3 = df['date_added'] <= '2018-1-31'\n",
        "\n",
        "print(len(df[cond1 & cond2 & cond3]))"
      ]
    },
    {
      "cell_type": "code",
      "execution_count": null,
      "metadata": {
        "colab": {
          "base_uri": "https://localhost:8080/"
        },
        "id": "s2RXFS7WY3oj",
        "outputId": "27e2b75d-cd52-4112-9319-008cb80bc223"
      },
      "outputs": [
        {
          "name": "stdout",
          "output_type": "stream",
          "text": [
            "6\n"
          ]
        }
      ],
      "source": [
        "# 풀이3 datatime + between 활용\n",
        "import pandas as pd\n",
        "df = pd.read_csv(\"nf.csv\")\n",
        "\n",
        "cond1 = df['country'] == \"United Kingdom\"\n",
        "df['date_added'] = pd.to_datetime(df['date_added'])\n",
        "cond2 = df['date_added'].between('2018-1-1', '2018-1-31')\n",
        "print(len(df[cond1 & cond2]))"
      ]
    },
    {
      "cell_type": "code",
      "execution_count": null,
      "metadata": {
        "colab": {
          "base_uri": "https://localhost:8080/"
        },
        "id": "LdHdBfcYY40l",
        "outputId": "8632d2b3-3f0d-445a-e954-be3505808aef"
      },
      "outputs": [
        {
          "name": "stdout",
          "output_type": "stream",
          "text": [
            "6\n"
          ]
        }
      ],
      "source": [
        "# 풀이4\n",
        "import pandas as pd\n",
        "df = pd.read_csv(\"nf.csv\")\n",
        "\n",
        "cond1 = df['country'] == \"United Kingdom\"\n",
        "\n",
        "df['date_added'] = df['date_added'].fillna(\"\")\n",
        "\n",
        "str1 = \"2018\"\n",
        "str2 = \"January\"\n",
        "cond2 = df['date_added'].str.contains(str1)\n",
        "cond3 = df['date_added'].str.contains(str2)\n",
        "\n",
        "print(len(df[cond1 & cond2 & cond3]))"
      ]
    },
    {
      "cell_type": "markdown",
      "metadata": {
        "id": "b5kJbidhY8Iw"
      },
      "source": [
        "(추가 문제) 4. 만약 'country'컬럼에 대소문자 함께 있고, 띄어쓰기가 있는 것도 있고 없는 것도 있다면?"
      ]
    },
    {
      "cell_type": "code",
      "execution_count": null,
      "metadata": {
        "colab": {
          "base_uri": "https://localhost:8080/"
        },
        "id": "PIvA_eieY6R8",
        "outputId": "9dc7528e-8800-4aea-8139-ee17dac030e2"
      },
      "outputs": [
        {
          "name": "stdout",
          "output_type": "stream",
          "text": [
            "6\n"
          ]
        }
      ],
      "source": [
        "import pandas as pd\n",
        "df = pd.read_csv(\"nf.csv\")\n",
        "\n",
        "# 띄어쓰기 제거\n",
        "df['country'] = df['country'].str.replace(' ','')\n",
        "\n",
        "# 소문자로 변경\n",
        "df['country'] = df['country'].str.lower()\n",
        "df['country']\n",
        "\n",
        "cond1 = df['country'] == \"unitedkingdom\"\n",
        "\n",
        "df['date_added'] = pd.to_datetime(df['date_added'])\n",
        "df['year'] = df['date_added'].dt.year\n",
        "df['month'] = df['date_added'].dt.month\n",
        "\n",
        "\n",
        "cond2 = df['year'] == 2018\n",
        "cond3 = df['month'] == 1\n",
        "\n",
        "print(len(df[cond1 & cond2 & cond3]))"
      ]
    },
    {
      "cell_type": "code",
      "execution_count": null,
      "metadata": {
        "id": "xYOpeQAxDriK"
      },
      "outputs": [],
      "source": []
    }
  ],
  "metadata": {
    "colab": {
      "provenance": []
    },
    "kernelspec": {
      "display_name": "Python 3",
      "name": "python3"
    },
    "language_info": {
      "codemirror_mode": {
        "name": "ipython",
        "version": 3
      },
      "file_extension": ".py",
      "mimetype": "text/x-python",
      "name": "python",
      "nbconvert_exporter": "python",
      "pygments_lexer": "ipython3",
      "version": "3.8.18"
    }
  },
  "nbformat": 4,
  "nbformat_minor": 0
}
