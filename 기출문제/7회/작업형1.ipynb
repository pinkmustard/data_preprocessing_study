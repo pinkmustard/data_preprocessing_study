{
  "cells": [
    {
      "cell_type": "markdown",
      "metadata": {
        "id": "ImS-bayEojdA"
      },
      "source": [
        "## 작업형1"
      ]
    },
    {
      "cell_type": "markdown",
      "metadata": {
        "id": "JO-2zLFZsse1"
      },
      "source": [
        "### 문제1. 결측치가 있는 행을 제거한 후, 학생이 가장 많이 수강한 과목(id_assessment)을 찾고, 해당 과목 점수(score)를 표준화(스탠다스 스케일) 한 뒤에 표준화된 가장 큰 값을 구하시오. (반올림하여 소수 셋째자리까지 계산)"
      ]
    },
    {
      "cell_type": "code",
      "execution_count": 44,
      "metadata": {
        "id": "QfWBB-yjCuX8"
      },
      "outputs": [
        {
          "name": "stdout",
          "output_type": "stream",
          "text": [
            "2.183\n"
          ]
        }
      ],
      "source": [
        "import pandas as pd\n",
        "df = pd.read_csv(\"student_assessment.csv\")\n",
        "# 결측치 있는 행 제거\n",
        "# 학생이 가장 많이 수강한 과목 찾기(id_assessment)\n",
        "# 해당 과목 점수를 표준화 standardscale하고 가장 큰 값 구하시오\n",
        "# 반올림해서 소수 셋째자리까지\n",
        "\n",
        "# print(df.head())\n",
        "#    id_assessment  student_id  study_period_days  score\n",
        "# 0            103           0                 22   87.0\n",
        "# 1             93           1                 70   92.0\n",
        "# 2             15           2                 22    2.0\n",
        "# 3            107           3                 22   51.0\n",
        "# 4             72           4                 22   73.0\n",
        "# print(df.shape)\n",
        "# (2565, 4)\n",
        "df = df.dropna()\n",
        "# print(df.shape) -> 없어짐\n",
        "value = df['id_assessment'].value_counts().idxmax()\n",
        "cond = df['id_assessment'] == value\n",
        "from sklearn.preprocessing import StandardScaler\n",
        "scaler = StandardScaler()\n",
        "df1 = df[cond][['score']]\n",
        "df1 = scaler.fit_transform(df1)\n",
        "print(round(df1.max(), 3))\n"
      ]
    },
    {
      "cell_type": "markdown",
      "metadata": {
        "id": "sHC4blpRswAJ"
      },
      "source": [
        "### 문제2. DE1~DE77컬럼 중 주가지수의 종가 \"close\"와 가장 상관관계가 높은 변수를 찾아, 해당 변수의 평균값을 구하시오. (반올림하여 소수 넷째자리까지 계산)"
      ]
    },
    {
      "cell_type": "code",
      "execution_count": 73,
      "metadata": {
        "id": "usqyPcI4J0eL"
      },
      "outputs": [
        {
          "name": "stdout",
          "output_type": "stream",
          "text": [
            "-0.0004\n"
          ]
        }
      ],
      "source": [
        "import pandas as pd\n",
        "df = pd.read_csv(\"stock_market.csv\")\n",
        "\n",
        "# print(df.loc[:, 'DE1':'DE77'])\n",
        "# print(abs(df.corr()['close']).sort_values(ascending=False))\n",
        "# print(round(df['DE14'].mean(), 4))\n",
        "\n",
        "# 바른 답안\n",
        "answer = df.corr()['close'].abs().loc['DE1':'DE77'].idxmax()\n",
        "print(round(df[answer].mean(), 4))"
      ]
    },
    {
      "cell_type": "markdown",
      "metadata": {
        "id": "E9QDz8l-sy4D"
      },
      "source": [
        "### 문제3. IQR을 이용해 이산화탄소(CO2) 이상치 수를 찾으시오\n",
        "\n",
        "- Q1 (제 1사분위수): 하위 25% 값\n",
        "- Q3 (제 3사분위수): 상위 25% 값\n",
        "- IQR (사분위수 범위): IQR = Q3 - Q1\n",
        "\n",
        "- lower (하한선): Q1 - 1.5 * IQR, 이 값보다 작은 데이터는 이상치로 간주\n",
        "- upper (상한선): Q3 + 1.5 * IQR, 이 값보다 큰 데이터는 이상치로 간주\n",
        "\n"
      ]
    },
    {
      "cell_type": "code",
      "execution_count": 64,
      "metadata": {
        "id": "LipHWwikUBL-"
      },
      "outputs": [
        {
          "name": "stdout",
          "output_type": "stream",
          "text": [
            "304\n"
          ]
        }
      ],
      "source": [
        "import pandas as pd\n",
        "df = pd.read_csv(\"air_quality.csv\")\n",
        "q1 = df['CO2'].quantile(.25)\n",
        "q3 = df['CO2'].quantile(.75)\n",
        "IQR = q3 - q1\n",
        "r1 = q1 - IQR * 1.5\n",
        "r2 = q3 + IQR * 1.5\n",
        "cond1 = df['CO2'] < r1\n",
        "cond2 = df['CO2'] > r2\n",
        "print(len(df[cond1 | cond2]))\n"
      ]
    },
    {
      "cell_type": "code",
      "execution_count": null,
      "metadata": {
        "id": "xorML0mi73OK"
      },
      "outputs": [],
      "source": []
    }
  ],
  "metadata": {
    "colab": {
      "provenance": []
    },
    "kernelspec": {
      "display_name": "Python 3",
      "name": "python3"
    },
    "language_info": {
      "codemirror_mode": {
        "name": "ipython",
        "version": 3
      },
      "file_extension": ".py",
      "mimetype": "text/x-python",
      "name": "python",
      "nbconvert_exporter": "python",
      "pygments_lexer": "ipython3",
      "version": "3.8.18"
    }
  },
  "nbformat": 4,
  "nbformat_minor": 0
}
