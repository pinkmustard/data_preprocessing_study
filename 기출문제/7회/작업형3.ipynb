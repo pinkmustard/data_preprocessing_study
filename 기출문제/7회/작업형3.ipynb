{
  "cells": [
    {
      "cell_type": "markdown",
      "metadata": {
        "id": "H3N9Ou_Oo2mV"
      },
      "source": [
        "## 작업형3"
      ]
    },
    {
      "cell_type": "markdown",
      "metadata": {
        "id": "paHiKoCrtKnv"
      },
      "source": [
        "### 문제1. 주어진 조개 데이터 300개 중 앞에서부터 210개는 train 데이터로 만들고, 나머지 90개는 test데이터로 만든다. 모델을 학습(적합)할 때는 train데이터를 사용하고, 예측할 때는 test데이터를 사용한다. 모델은 로지스틱 회귀를 써서 성별(gender)을 예측하되, 패널티는 부과하지 않는다.\n",
        "- 종속변수: gender(0:암컷, 1:수컷)"
      ]
    },
    {
      "cell_type": "markdown",
      "metadata": {
        "id": "6NFP8vjOX0eu"
      },
      "source": [
        "### 문제1-1. weight를 독립변수로 gender를 종속변수로 사용하여 로지스틱 회귀 모형을 만들고, weight 변수가 한 단위 증가할 때 수컷일 오즈비 값은? (반올림하여 소수 넷째자리까지 계산)"
      ]
    },
    {
      "cell_type": "code",
      "execution_count": 68,
      "metadata": {
        "id": "H38dKQCTrB_5"
      },
      "outputs": [
        {
          "name": "stdout",
          "output_type": "stream",
          "text": [
            "Optimization terminated successfully.\n",
            "         Current function value: 0.690045\n",
            "         Iterations 4\n",
            "1.0047\n"
          ]
        }
      ],
      "source": [
        "import pandas as pd\n",
        "import numpy as np\n",
        "df = pd.read_csv(\"clam.csv\")\n",
        "train = df.iloc[:210]\n",
        "test = df.iloc[210:]\n",
        "# print(df.head())\n",
        "#    age    length  diameter    height     weight  gender\n",
        "# 0    6  0.474627  0.211352  0.178189  78.971766       1\n",
        "# 1    1  0.465847  0.339388  0.170522  98.781960       1\n",
        "# 2    4  0.122807  0.238691  0.106924  88.792625       0\n",
        "# 3    4  0.204579  0.360543  0.034261   1.028847       0\n",
        "# 4    8  0.243458  0.358037  0.128080   6.503367       0\n",
        "from statsmodels.formula.api import logit\n",
        "model = logit(\"gender ~ weight\", data=train).fit()\n",
        "print(round(np.exp(model.params['weight']), 4))"
      ]
    },
    {
      "cell_type": "markdown",
      "metadata": {
        "id": "yeKVhetBtS8N"
      },
      "source": [
        "### 문제1-2. gender를 종속변수로 하고 나머지 변수들(age, length, diameter, height, weight)을 독립변수로 사용하는 로지스틱 회귀 모델을 적합시킨 후, 잔차 이탈도(Residual Deviance)를 계산하시오. (반올림하여 소수 둘째자리까지 계산)"
      ]
    },
    {
      "cell_type": "code",
      "execution_count": 62,
      "metadata": {
        "id": "w970_hIsSV2U"
      },
      "outputs": [
        {
          "name": "stdout",
          "output_type": "stream",
          "text": [
            "Optimization terminated successfully.\n",
            "         Current function value: 0.683173\n",
            "         Iterations 4\n",
            "286.93\n"
          ]
        }
      ],
      "source": [
        "import pandas as pd\n",
        "df = pd.read_csv(\"clam.csv\")\n",
        "train = df.iloc[:210]\n",
        "test = df.iloc[210:]\n",
        "# print(df.head())\n",
        "#    age    length  diameter    height     weight  gender\n",
        "# 0    6  0.474627  0.211352  0.178189  78.971766       1\n",
        "# 1    1  0.465847  0.339388  0.170522  98.781960       1\n",
        "# 2    4  0.122807  0.238691  0.106924  88.792625       0\n",
        "# 3    4  0.204579  0.360543  0.034261   1.028847       0\n",
        "# 4    8  0.243458  0.358037  0.128080   6.503367       0\n",
        "from statsmodels.formula.api import logit\n",
        "model = logit(\"gender ~ age + length + diameter + height + weight\", data=train).fit()\n",
        "print(round(-2 * model.llf,2)) "
      ]
    },
    {
      "cell_type": "markdown",
      "metadata": {
        "id": "x4u7dfFTtUs9"
      },
      "source": [
        "### 문제1-3. 독립변수 weight 만 사용해 학습한 로지스틱 회귀모델에서 test데이터의 gender를 예측하고, error rate(오류율)를 구하시오. (반올림하여 소수 셋째자리까지 계산)"
      ]
    },
    {
      "cell_type": "code",
      "execution_count": 54,
      "metadata": {
        "id": "7x8XLDu4HksT"
      },
      "outputs": [
        {
          "name": "stdout",
          "output_type": "stream",
          "text": [
            "Optimization terminated successfully.\n",
            "         Current function value: 0.690045\n",
            "         Iterations 4\n",
            "0.478\n"
          ]
        }
      ],
      "source": [
        "from statsmodels.formula.api import logit\n",
        "from sklearn.metrics import accuracy_score\n",
        "import pandas as pd\n",
        "\n",
        "df = pd.read_csv(\"clam.csv\")\n",
        "train = df.iloc[:210]\n",
        "test = df.iloc[210:]\n",
        "\n",
        "model = logit(\"gender ~ weight\", data=train).fit()\n",
        "target = test.pop('gender')\n",
        "pred = model.predict(test) > 0.5\n",
        "\n",
        "acc = accuracy_score(target, pred)\n",
        "print(round(1- acc, 3))\n"
      ]
    },
    {
      "cell_type": "code",
      "execution_count": 55,
      "metadata": {},
      "outputs": [
        {
          "name": "stdout",
          "output_type": "stream",
          "text": [
            "Optimization terminated successfully.\n",
            "         Current function value: 0.690045\n",
            "         Iterations 4\n",
            "0.478\n"
          ]
        }
      ],
      "source": [
        "from sklearn.metrics import accuracy_score\n",
        "from statsmodels.formula.api import logit\n",
        "import pandas as pd\n",
        "df = pd.read_csv(\"clam.csv\")\n",
        "# 데이터셋 분할\n",
        "train = df.iloc[:210]\n",
        "test = df.iloc[210:]\n",
        "\n",
        "# 1) 학습, test데이터를 사용해 예측 (0.5 미만: 0, 0.5 이상 1)\n",
        "model = logit(\"gender ~ weight\", data=train).fit()\n",
        "target = test.pop(\"gender\")\n",
        "pred = model.predict(test) > 0.5\n",
        "\n",
        "# 2) 실제 값과 예측 값을 사용하여 정확도 계산\n",
        "acc = accuracy_score(target, pred)\n",
        "\n",
        "# 3) 오류율 계산\n",
        "print(round(1-acc,3))"
      ]
    },
    {
      "cell_type": "markdown",
      "metadata": {
        "id": "4MSQ0eB1tWsh"
      },
      "source": [
        "### 문제2-1. ERP와 가장 상관관계 높은값을 구하시오. (반올림하여 소수 셋째자리까지 계산)"
      ]
    },
    {
      "cell_type": "code",
      "execution_count": 9,
      "metadata": {
        "id": "OlvzgzRDcNt8"
      },
      "outputs": [],
      "source": [
        "import pandas as pd\n",
        "df = pd.read_csv(\"system.csv\")"
      ]
    },
    {
      "cell_type": "code",
      "execution_count": 15,
      "metadata": {
        "id": "6POPUMi3Axb6"
      },
      "outputs": [
        {
          "name": "stdout",
          "output_type": "stream",
          "text": [
            "0.434\n"
          ]
        }
      ],
      "source": [
        "print(round(df.corr()['ERP'].loc['Feature1'], 3))"
      ]
    },
    {
      "cell_type": "markdown",
      "metadata": {
        "id": "EVAJRDHi6gAG"
      },
      "source": [
        "### 문제2-2. CPU 컬럼이 100미만인 것만 찾아 ERP를 종속 변수로, 나머지 변수들을 독립 변수로 설정해 선형회귀 모델을 만들고 적합한 결정계수를 구하시오. (반올림하여 소수 셋째자리까지 계산)"
      ]
    },
    {
      "cell_type": "code",
      "execution_count": 44,
      "metadata": {
        "id": "QW0SyhImA1l0"
      },
      "outputs": [
        {
          "name": "stdout",
          "output_type": "stream",
          "text": [
            "0.226\n"
          ]
        }
      ],
      "source": [
        "import pandas as pd\n",
        "df = pd.read_csv(\"system.csv\")\n",
        "cond = df['CPU'] < 100\n",
        "df = df[cond]\n",
        "from statsmodels.formula.api import ols\n",
        "model = ols(\"ERP ~ CPU + Feature1 + Feature2 + Feature3\", data=df).fit()\n",
        "# print(model.summary()) # 0.052\n",
        "print(round(model.rsquared, 3))"
      ]
    },
    {
      "cell_type": "markdown",
      "metadata": {
        "id": "21AknqejYXEZ"
      },
      "source": [
        "### 문제 2-3. 2-2에서 만든 모델에서 독립변수 중 p-value가 가장 높은값을 구하시오. (반올림하여 소수 셋째자리까지 계산)"
      ]
    },
    {
      "cell_type": "code",
      "execution_count": 46,
      "metadata": {
        "id": "KTBZo1XKYYZa"
      },
      "outputs": [
        {
          "name": "stdout",
          "output_type": "stream",
          "text": [
            "0.457\n"
          ]
        }
      ],
      "source": [
        "print(round(model.pvalues.max(), 3)) #Feature1     0.904518"
      ]
    }
  ],
  "metadata": {
    "colab": {
      "provenance": []
    },
    "kernelspec": {
      "display_name": "Python 3",
      "name": "python3"
    },
    "language_info": {
      "codemirror_mode": {
        "name": "ipython",
        "version": 3
      },
      "file_extension": ".py",
      "mimetype": "text/x-python",
      "name": "python",
      "nbconvert_exporter": "python",
      "pygments_lexer": "ipython3",
      "version": "3.8.18"
    }
  },
  "nbformat": 4,
  "nbformat_minor": 0
}
