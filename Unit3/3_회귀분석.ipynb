{
  "cells": [
    {
      "cell_type": "markdown",
      "metadata": {
        "id": "b-ktASucvEBr"
      },
      "source": [
        "# 1. 상관관계"
      ]
    },
    {
      "cell_type": "code",
      "execution_count": 1,
      "metadata": {
        "id": "A2BwZi-1wE8v"
      },
      "outputs": [],
      "source": [
        "# 데이터\n",
        "import pandas as pd\n",
        "df = pd.DataFrame({\n",
        "    '키': [150, 160, 170, 175, 165],\n",
        "    '몸무게': [42, 52, 75, 67, 56]\n",
        "})"
      ]
    },
    {
      "cell_type": "code",
      "execution_count": 2,
      "metadata": {
        "colab": {
          "base_uri": "https://localhost:8080/",
          "height": 112
        },
        "id": "Ju4esqaj01Pf",
        "outputId": "51d6255d-93f0-4d9b-ad51-9a05a7d6eb1a"
      },
      "outputs": [
        {
          "data": {
            "text/html": [
              "<div>\n",
              "<style scoped>\n",
              "    .dataframe tbody tr th:only-of-type {\n",
              "        vertical-align: middle;\n",
              "    }\n",
              "\n",
              "    .dataframe tbody tr th {\n",
              "        vertical-align: top;\n",
              "    }\n",
              "\n",
              "    .dataframe thead th {\n",
              "        text-align: right;\n",
              "    }\n",
              "</style>\n",
              "<table border=\"1\" class=\"dataframe\">\n",
              "  <thead>\n",
              "    <tr style=\"text-align: right;\">\n",
              "      <th></th>\n",
              "      <th>키</th>\n",
              "      <th>몸무게</th>\n",
              "    </tr>\n",
              "  </thead>\n",
              "  <tbody>\n",
              "    <tr>\n",
              "      <th>키</th>\n",
              "      <td>1.000000</td>\n",
              "      <td>0.901012</td>\n",
              "    </tr>\n",
              "    <tr>\n",
              "      <th>몸무게</th>\n",
              "      <td>0.901012</td>\n",
              "      <td>1.000000</td>\n",
              "    </tr>\n",
              "  </tbody>\n",
              "</table>\n",
              "</div>"
            ],
            "text/plain": [
              "            키       몸무게\n",
              "키    1.000000  0.901012\n",
              "몸무게  0.901012  1.000000"
            ]
          },
          "execution_count": 2,
          "metadata": {},
          "output_type": "execute_result"
        }
      ],
      "source": [
        "# 상관계수\n",
        "df.corr()"
      ]
    },
    {
      "cell_type": "code",
      "execution_count": 3,
      "metadata": {
        "colab": {
          "base_uri": "https://localhost:8080/"
        },
        "id": "Q3lWvyIs4y-i",
        "outputId": "d20fecc6-9bf3-4b90-f5b6-768554236da1"
      },
      "outputs": [
        {
          "name": "stdout",
          "output_type": "stream",
          "text": [
            "0.901011928876437\n",
            "0.9010119288764369\n"
          ]
        }
      ],
      "source": [
        "# 특정변수에 대한 상관관계\n",
        "print(df['키'].corr(df['몸무게']))\n",
        "print(df['몸무게'].corr(df['키']))"
      ]
    },
    {
      "cell_type": "code",
      "execution_count": 4,
      "metadata": {
        "colab": {
          "base_uri": "https://localhost:8080/"
        },
        "id": "g6XkOiC9JP4y",
        "outputId": "e20ab32e-996a-4302-bee4-0222a13c047d"
      },
      "outputs": [
        {
          "name": "stdout",
          "output_type": "stream",
          "text": [
            "            키       몸무게\n",
            "키    1.000000  0.901012\n",
            "몸무게  0.901012  1.000000\n",
            "       키  몸무게\n",
            "키    1.0  0.9\n",
            "몸무게  0.9  1.0\n",
            "       키  몸무게\n",
            "키    1.0  0.8\n",
            "몸무게  0.8  1.0\n"
          ]
        }
      ],
      "source": [
        "# 피어슨\n",
        "print(df.corr())\n",
        "# 스피어맨\n",
        "print(df.corr(method='spearman'))\n",
        "# 켄달타우\n",
        "print(df.corr(method='kendall'))\n"
      ]
    },
    {
      "cell_type": "code",
      "execution_count": 8,
      "metadata": {
        "colab": {
          "base_uri": "https://localhost:8080/"
        },
        "id": "XD3M2RxF8a7G",
        "outputId": "a8021e71-3977-442e-c557-ceb3b6e05700"
      },
      "outputs": [
        {
          "name": "stdout",
          "output_type": "stream",
          "text": [
            "PearsonRResult(statistic=0.9010119288764369, pvalue=0.03682580945087893)\n",
            "SignificanceResult(statistic=0.8999999999999998, pvalue=0.03738607346849875)\n",
            "SignificanceResult(statistic=0.7999999999999999, pvalue=0.08333333333333333)\n"
          ]
        }
      ],
      "source": [
        "# 상관 계수 t검정\n",
        "# 귀무가설: 두 변수간 상관관계는 없음\n",
        "# 대립가설: 두 변수간 상관관계는 있음\n",
        "from scipy import stats\n",
        "# 피어슨\n",
        "print(stats.pearsonr(df['몸무게'], df['키']))\n",
        "# 스피어맨\n",
        "print(stats.spearmanr(df['몸무게'], df['키']))\n",
        "# 켄달타우\n",
        "print(stats.kendalltau(df['몸무게'], df['키']))"
      ]
    },
    {
      "cell_type": "markdown",
      "metadata": {
        "id": "k5_PWyS-jgW4"
      },
      "source": [
        "# 단순 선형 회귀 분석"
      ]
    },
    {
      "cell_type": "markdown",
      "metadata": {
        "id": "bjESY0KkiEvl"
      },
      "source": [
        "주어진 키와 몸무게 데이터로 회귀모델을 구축하고 각 소문제의 값을 구하시오.\n",
        "- 키: 종속변수\n",
        "- 몸무게: 독립변수"
      ]
    },
    {
      "cell_type": "code",
      "execution_count": 26,
      "metadata": {
        "id": "TL3Jvn8zjjPB"
      },
      "outputs": [],
      "source": [
        "import pandas as pd\n",
        "\n",
        "df = pd.DataFrame({\n",
        "    '키': [150, 160, 170, 175, 165, 155, 172, 168, 174, 158,\n",
        "          162, 173, 156, 159, 167, 163, 171, 169, 176, 161],\n",
        "    '몸무게': [74, 50, 70, 64, 56, 48, 68, 60, 65, 52,\n",
        "            54, 67, 49, 51, 58, 55, 69, 61, 66, 53]\n",
        "})"
      ]
    },
    {
      "cell_type": "code",
      "execution_count": 27,
      "metadata": {
        "colab": {
          "base_uri": "https://localhost:8080/"
        },
        "id": "-o6tyqiOUmPM",
        "outputId": "ba3251c5-0724-4808-d810-61228640a856"
      },
      "outputs": [
        {
          "name": "stdout",
          "output_type": "stream",
          "text": [
            "                            OLS Regression Results                            \n",
            "==============================================================================\n",
            "Dep. Variable:                      키   R-squared:                       0.280\n",
            "Model:                            OLS   Adj. R-squared:                  0.240\n",
            "Method:                 Least Squares   F-statistic:                     6.984\n",
            "Date:                Sat, 15 Jun 2024   Prob (F-statistic):             0.0165\n",
            "Time:                        01:34:29   Log-Likelihood:                -64.701\n",
            "No. Observations:                  20   AIC:                             133.4\n",
            "Df Residuals:                      18   BIC:                             135.4\n",
            "Df Model:                           1                                         \n",
            "Covariance Type:            nonrobust                                         \n",
            "==============================================================================\n",
            "                 coef    std err          t      P>|t|      [0.025      0.975]\n",
            "------------------------------------------------------------------------------\n",
            "Intercept    135.8209     11.211     12.115      0.000     112.268     159.374\n",
            "몸무게            0.4938      0.187      2.643      0.017       0.101       0.886\n",
            "==============================================================================\n",
            "Omnibus:                       26.498   Durbin-Watson:                   1.317\n",
            "Prob(Omnibus):                  0.000   Jarque-Bera (JB):               46.624\n",
            "Skew:                          -2.181   Prob(JB):                     7.51e-11\n",
            "Kurtosis:                       9.076   Cond. No.                         464.\n",
            "==============================================================================\n",
            "\n",
            "Notes:\n",
            "[1] Standard Errors assume that the covariance matrix of the errors is correctly specified.\n"
          ]
        }
      ],
      "source": [
        "# 모델 학습 및 summary 출력\n",
        "from statsmodels.formula.api import ols\n",
        "model = ols('키 ~ 몸무게', data=df).fit()\n",
        "print(model.summary())"
      ]
    },
    {
      "cell_type": "code",
      "execution_count": 12,
      "metadata": {
        "colab": {
          "base_uri": "https://localhost:8080/"
        },
        "id": "q1rvrq7EVO4i",
        "outputId": "7e124521-3ef4-40e4-a1e6-dea5f0cd8330"
      },
      "outputs": [
        {
          "data": {
            "text/plain": [
              "0.2795432311329942"
            ]
          },
          "execution_count": 12,
          "metadata": {},
          "output_type": "execute_result"
        }
      ],
      "source": [
        "# 결정계수\n",
        "# 0.28\n",
        "model.rsquared"
      ]
    },
    {
      "cell_type": "code",
      "execution_count": 13,
      "metadata": {
        "colab": {
          "base_uri": "https://localhost:8080/"
        },
        "id": "4MiYuxFaikW2",
        "outputId": "cd1ebee3-16f8-4b2d-fa06-a169e29cf287"
      },
      "outputs": [
        {
          "data": {
            "text/plain": [
              "0.49376558603491016"
            ]
          },
          "execution_count": 13,
          "metadata": {},
          "output_type": "execute_result"
        }
      ],
      "source": [
        "# 기울기(회귀계수)\n",
        "# 0.4938\n",
        "model.params['몸무게']"
      ]
    },
    {
      "cell_type": "code",
      "execution_count": 14,
      "metadata": {
        "colab": {
          "base_uri": "https://localhost:8080/"
        },
        "id": "TxU5EBVTikZZ",
        "outputId": "1da56b61-731a-4778-f5c8-1c7a975409b9"
      },
      "outputs": [
        {
          "data": {
            "text/plain": [
              "135.82094763092272"
            ]
          },
          "execution_count": 14,
          "metadata": {},
          "output_type": "execute_result"
        }
      ],
      "source": [
        "# 절편(회귀계수)\n",
        "# 135.8209\n",
        "model.params['Intercept']"
      ]
    },
    {
      "cell_type": "code",
      "execution_count": 15,
      "metadata": {
        "colab": {
          "base_uri": "https://localhost:8080/"
        },
        "id": "0MrAihX0inRM",
        "outputId": "8e82f1a3-e238-4901-e1cc-eb766baef14d"
      },
      "outputs": [
        {
          "data": {
            "text/plain": [
              "0.01654013445317028"
            ]
          },
          "execution_count": 15,
          "metadata": {},
          "output_type": "execute_result"
        }
      ],
      "source": [
        "# 몸무게의 회귀계수가 통계적으로 유의한지 pvalue\n",
        "# 0.017\n",
        "model.pvalues['몸무게']"
      ]
    },
    {
      "cell_type": "code",
      "execution_count": 16,
      "metadata": {
        "colab": {
          "base_uri": "https://localhost:8080/"
        },
        "id": "xlGIWvksXgEs",
        "outputId": "b380be3e-9a16-4339-a0ad-89c7aa2e3674"
      },
      "outputs": [
        {
          "data": {
            "text/plain": [
              "0    160.509227\n",
              "dtype: float64"
            ]
          },
          "execution_count": 16,
          "metadata": {},
          "output_type": "execute_result"
        }
      ],
      "source": [
        "# 몸무게가 50 일때 예측키\n",
        "newdata = pd.DataFrame(\n",
        "    {\n",
        "        '몸무게' : [50]\n",
        "    }\n",
        ")\n",
        "model.predict(newdata)"
      ]
    },
    {
      "cell_type": "code",
      "execution_count": 20,
      "metadata": {
        "colab": {
          "base_uri": "https://localhost:8080/"
        },
        "id": "St2U_vg_VO9a",
        "outputId": "264469be-05be-4bac-96b7-640e903cd475"
      },
      "outputs": [
        {
          "data": {
            "text/plain": [
              "755.9032418952622"
            ]
          },
          "execution_count": 20,
          "metadata": {},
          "output_type": "execute_result"
        }
      ],
      "source": [
        "# 잔차 제곱합\n",
        "# 잔차 = 관측(실제)값 - 예측값\n",
        "df['잔차'] = df['키'] - model.predict(df['몸무게'])\n",
        "se = sum(df['잔차'] ** 2)\n",
        "se\n",
        "# sum(model.resid ** 2)"
      ]
    },
    {
      "cell_type": "code",
      "execution_count": 21,
      "metadata": {
        "colab": {
          "base_uri": "https://localhost:8080/"
        },
        "id": "aljdCDPxVO_x",
        "outputId": "66e76b9f-5d01-401b-abd6-9fd54ca2c8cc"
      },
      "outputs": [
        {
          "data": {
            "text/plain": [
              "37.79516209476312"
            ]
          },
          "execution_count": 21,
          "metadata": {},
          "output_type": "execute_result"
        }
      ],
      "source": [
        "# MSE\n",
        "(df['잔차'] ** 2).mean()"
      ]
    },
    {
      "cell_type": "code",
      "execution_count": 22,
      "metadata": {
        "colab": {
          "base_uri": "https://localhost:8080/"
        },
        "id": "WzbPKkh0Etko",
        "outputId": "de0f39d5-ee8b-47d4-9e6d-e023f7742737"
      },
      "outputs": [
        {
          "data": {
            "text/plain": [
              "37.79516209476312"
            ]
          },
          "execution_count": 22,
          "metadata": {},
          "output_type": "execute_result"
        }
      ],
      "source": [
        "# 사이킷런 MSE\n",
        "from sklearn.metrics import mean_squared_error\n",
        "pred = model.predict(df)\n",
        "mean_squared_error(df['키'], pred)"
      ]
    },
    {
      "cell_type": "code",
      "execution_count": 23,
      "metadata": {
        "id": "YHIt0Fz0EuVP"
      },
      "outputs": [
        {
          "data": {
            "text/html": [
              "<div>\n",
              "<style scoped>\n",
              "    .dataframe tbody tr th:only-of-type {\n",
              "        vertical-align: middle;\n",
              "    }\n",
              "\n",
              "    .dataframe tbody tr th {\n",
              "        vertical-align: top;\n",
              "    }\n",
              "\n",
              "    .dataframe thead th {\n",
              "        text-align: right;\n",
              "    }\n",
              "</style>\n",
              "<table border=\"1\" class=\"dataframe\">\n",
              "  <thead>\n",
              "    <tr style=\"text-align: right;\">\n",
              "      <th></th>\n",
              "      <th>0</th>\n",
              "      <th>1</th>\n",
              "    </tr>\n",
              "  </thead>\n",
              "  <tbody>\n",
              "    <tr>\n",
              "      <th>Intercept</th>\n",
              "      <td>112.267778</td>\n",
              "      <td>159.374117</td>\n",
              "    </tr>\n",
              "    <tr>\n",
              "      <th>몸무게</th>\n",
              "      <td>0.101235</td>\n",
              "      <td>0.886297</td>\n",
              "    </tr>\n",
              "  </tbody>\n",
              "</table>\n",
              "</div>"
            ],
            "text/plain": [
              "                    0           1\n",
              "Intercept  112.267778  159.374117\n",
              "몸무게          0.101235    0.886297"
            ]
          },
          "execution_count": 23,
          "metadata": {},
          "output_type": "execute_result"
        }
      ],
      "source": [
        "# 신뢰구간\n",
        "# 0.101   0.886\n",
        "model.conf_int(alpha=0.05)"
      ]
    },
    {
      "cell_type": "code",
      "execution_count": 24,
      "metadata": {
        "colab": {
          "base_uri": "https://localhost:8080/",
          "height": 81
        },
        "id": "wPCZ8ZRIyI3q",
        "outputId": "42fff4e0-9884-40c3-e0be-7b6131935d3d"
      },
      "outputs": [
        {
          "data": {
            "text/html": [
              "<div>\n",
              "<style scoped>\n",
              "    .dataframe tbody tr th:only-of-type {\n",
              "        vertical-align: middle;\n",
              "    }\n",
              "\n",
              "    .dataframe tbody tr th {\n",
              "        vertical-align: top;\n",
              "    }\n",
              "\n",
              "    .dataframe thead th {\n",
              "        text-align: right;\n",
              "    }\n",
              "</style>\n",
              "<table border=\"1\" class=\"dataframe\">\n",
              "  <thead>\n",
              "    <tr style=\"text-align: right;\">\n",
              "      <th></th>\n",
              "      <th>mean</th>\n",
              "      <th>mean_se</th>\n",
              "      <th>mean_ci_lower</th>\n",
              "      <th>mean_ci_upper</th>\n",
              "      <th>obs_ci_lower</th>\n",
              "      <th>obs_ci_upper</th>\n",
              "    </tr>\n",
              "  </thead>\n",
              "  <tbody>\n",
              "    <tr>\n",
              "      <th>0</th>\n",
              "      <td>160.509227</td>\n",
              "      <td>2.291332</td>\n",
              "      <td>155.695318</td>\n",
              "      <td>165.323136</td>\n",
              "      <td>146.068566</td>\n",
              "      <td>174.949888</td>\n",
              "    </tr>\n",
              "  </tbody>\n",
              "</table>\n",
              "</div>"
            ],
            "text/plain": [
              "         mean   mean_se  mean_ci_lower  mean_ci_upper  obs_ci_lower  \\\n",
              "0  160.509227  2.291332     155.695318     165.323136    146.068566   \n",
              "\n",
              "   obs_ci_upper  \n",
              "0    174.949888  "
            ]
          },
          "execution_count": 24,
          "metadata": {},
          "output_type": "execute_result"
        }
      ],
      "source": [
        "# 몸무게가 50일 때 예측키에 대한 신뢰구간, 예측구간\n",
        "pred = model.get_prediction(newdata)\n",
        "pred.summary_frame(alpha=0.05)"
      ]
    },
    {
      "cell_type": "code",
      "execution_count": null,
      "metadata": {
        "id": "7FrDmBtTi7bK"
      },
      "outputs": [],
      "source": [
        "# 신뢰구간: 155.695318\t165.323136\n",
        "# 예측구간: 146.068566\t174.949888"
      ]
    },
    {
      "cell_type": "markdown",
      "metadata": {
        "id": "dqSaex9uMcUv"
      },
      "source": [
        "# 다중 선형 회귀 분석"
      ]
    },
    {
      "cell_type": "markdown",
      "metadata": {
        "id": "TaT_ADpyeR0M"
      },
      "source": [
        "주어진 매출액, 광고비, 플랫폼 데이터로 회귀모델을 구축하고 각 소문제의 값을 구하시오.\n",
        "- 매출액: 종속변수\n",
        "- 광고비, 플랫폼(유통 플랫폼 수), 투자: 독립변수"
      ]
    },
    {
      "cell_type": "code",
      "execution_count": 37,
      "metadata": {
        "colab": {
          "base_uri": "https://localhost:8080/",
          "height": 143
        },
        "id": "_sAhxQM1QBXB",
        "outputId": "c6f9c48f-ba67-416f-9b45-2aabddf64d4e"
      },
      "outputs": [
        {
          "data": {
            "text/html": [
              "<div>\n",
              "<style scoped>\n",
              "    .dataframe tbody tr th:only-of-type {\n",
              "        vertical-align: middle;\n",
              "    }\n",
              "\n",
              "    .dataframe tbody tr th {\n",
              "        vertical-align: top;\n",
              "    }\n",
              "\n",
              "    .dataframe thead th {\n",
              "        text-align: right;\n",
              "    }\n",
              "</style>\n",
              "<table border=\"1\" class=\"dataframe\">\n",
              "  <thead>\n",
              "    <tr style=\"text-align: right;\">\n",
              "      <th></th>\n",
              "      <th>매출액</th>\n",
              "      <th>광고비</th>\n",
              "      <th>플랫폼</th>\n",
              "      <th>투자</th>\n",
              "    </tr>\n",
              "  </thead>\n",
              "  <tbody>\n",
              "    <tr>\n",
              "      <th>0</th>\n",
              "      <td>300</td>\n",
              "      <td>70</td>\n",
              "      <td>15</td>\n",
              "      <td>100</td>\n",
              "    </tr>\n",
              "    <tr>\n",
              "      <th>1</th>\n",
              "      <td>320</td>\n",
              "      <td>75</td>\n",
              "      <td>16</td>\n",
              "      <td>0</td>\n",
              "    </tr>\n",
              "    <tr>\n",
              "      <th>2</th>\n",
              "      <td>250</td>\n",
              "      <td>30</td>\n",
              "      <td>14</td>\n",
              "      <td>200</td>\n",
              "    </tr>\n",
              "  </tbody>\n",
              "</table>\n",
              "</div>"
            ],
            "text/plain": [
              "   매출액  광고비  플랫폼   투자\n",
              "0  300   70   15  100\n",
              "1  320   75   16    0\n",
              "2  250   30   14  200"
            ]
          },
          "execution_count": 37,
          "metadata": {},
          "output_type": "execute_result"
        }
      ],
      "source": [
        "import pandas as pd\n",
        "df = pd.DataFrame({\n",
        "    '매출액': [300, 320, 250, 360, 315, 328, 310, 335, 326, 280,\n",
        "            290, 300, 315, 328, 310, 335, 300, 400, 500, 600],\n",
        "    '광고비': [70, 75, 30, 80, 72, 77, 70, 82, 70, 80,\n",
        "            68, 90, 72, 77, 70, 82, 40, 20, 75, 80],\n",
        "    '플랫폼': [15, 16, 14, 20, 19, 17, 16, 19, 15, 20,\n",
        "            14, 5, 16, 17, 16, 14, 30, 40, 10, 50],\n",
        "    '투자':[100, 0, 200, 0, 10, 0, 5, 0, 20, 0,\n",
        "          0, 0, 0, 0, 0, 0, 0, 0, 0, 0]\n",
        "    })\n",
        "df.head(3)"
      ]
    },
    {
      "cell_type": "code",
      "execution_count": 39,
      "metadata": {
        "colab": {
          "base_uri": "https://localhost:8080/"
        },
        "id": "4qvzdtm7XnNq",
        "outputId": "779699d2-cd7a-4a6a-c9d2-6b895f8265a0"
      },
      "outputs": [
        {
          "name": "stdout",
          "output_type": "stream",
          "text": [
            "                            OLS Regression Results                            \n",
            "==============================================================================\n",
            "Dep. Variable:                    매출액   R-squared:                       0.512\n",
            "Model:                            OLS   Adj. R-squared:                  0.420\n",
            "Method:                 Least Squares   F-statistic:                     5.590\n",
            "Date:                Sat, 15 Jun 2024   Prob (F-statistic):            0.00811\n",
            "Time:                        01:37:14   Log-Likelihood:                -108.22\n",
            "No. Observations:                  20   AIC:                             224.4\n",
            "Df Residuals:                      16   BIC:                             228.4\n",
            "Df Model:                           3                                         \n",
            "Covariance Type:            nonrobust                                         \n",
            "==============================================================================\n",
            "                 coef    std err          t      P>|t|      [0.025      0.975]\n",
            "------------------------------------------------------------------------------\n",
            "Intercept     99.0313     93.995      1.054      0.308    -100.229     298.291\n",
            "광고비            1.8392      1.011      1.819      0.088      -0.304       3.983\n",
            "플랫폼            5.9512      1.612      3.692      0.002       2.534       9.368\n",
            "투자             0.0121      0.352      0.034      0.973      -0.734       0.759\n",
            "==============================================================================\n",
            "Omnibus:                       30.698   Durbin-Watson:                   1.356\n",
            "Prob(Omnibus):                  0.000   Jarque-Bera (JB):               65.494\n",
            "Skew:                           2.455   Prob(JB):                     6.00e-15\n",
            "Kurtosis:                      10.381   Cond. No.                         520.\n",
            "==============================================================================\n",
            "\n",
            "Notes:\n",
            "[1] Standard Errors assume that the covariance matrix of the errors is correctly specified.\n"
          ]
        }
      ],
      "source": [
        "# 모델 학습 summary 출력 (종속변수: 매출액, 독립변수: 광고비, 플랫폼)\n",
        "from statsmodels.formula.api import ols\n",
        "model = ols('매출액 ~ 광고비 + 플랫폼 + 투자', data=df).fit()\n",
        "print(model.summary())"
      ]
    },
    {
      "cell_type": "code",
      "execution_count": 40,
      "metadata": {
        "colab": {
          "base_uri": "https://localhost:8080/"
        },
        "id": "ZO7qPNFNXnSw",
        "outputId": "049772e6-431f-462f-9530-68742e98844f"
      },
      "outputs": [
        {
          "data": {
            "text/plain": [
              "0.5117323784573569"
            ]
          },
          "execution_count": 40,
          "metadata": {},
          "output_type": "execute_result"
        }
      ],
      "source": [
        "# 결정계수(R-squared)\n",
        "# 0.512\n",
        "model.rsquared"
      ]
    },
    {
      "cell_type": "code",
      "execution_count": 41,
      "metadata": {
        "colab": {
          "base_uri": "https://localhost:8080/"
        },
        "id": "nTqvZEoXXnVO",
        "outputId": "e86ba269-bb03-45ad-994f-6af3eab390aa"
      },
      "outputs": [
        {
          "data": {
            "text/plain": [
              "1.8391527608708635"
            ]
          },
          "execution_count": 41,
          "metadata": {},
          "output_type": "execute_result"
        }
      ],
      "source": [
        "# 회귀계수(광고비)\n",
        "# 1.8194\n",
        "model.params['광고비']"
      ]
    },
    {
      "cell_type": "code",
      "execution_count": 42,
      "metadata": {
        "colab": {
          "base_uri": "https://localhost:8080/"
        },
        "id": "AM26J0HBg_nq",
        "outputId": "93961fa2-aa01-4d36-ae42-74fb27af1fad"
      },
      "outputs": [
        {
          "data": {
            "text/plain": [
              "5.951161296094063"
            ]
          },
          "execution_count": 42,
          "metadata": {},
          "output_type": "execute_result"
        }
      ],
      "source": [
        "# 회귀계수(플랫폼)\n",
        "# 5.9288\n",
        "model.params['플랫폼']"
      ]
    },
    {
      "cell_type": "code",
      "execution_count": 43,
      "metadata": {
        "colab": {
          "base_uri": "https://localhost:8080/"
        },
        "id": "YcigFg6ghCQ5",
        "outputId": "5165465b-dafe-4a28-c096-71ca0c35ce00"
      },
      "outputs": [
        {
          "data": {
            "text/plain": [
              "99.0312700107803"
            ]
          },
          "execution_count": 43,
          "metadata": {},
          "output_type": "execute_result"
        }
      ],
      "source": [
        "# 회귀계수(절편)\n",
        "# 101.0239\n",
        "model.params['Intercept']"
      ]
    },
    {
      "cell_type": "code",
      "execution_count": 44,
      "metadata": {
        "colab": {
          "base_uri": "https://localhost:8080/"
        },
        "id": "osBBRSp3XnaV",
        "outputId": "ef501d4d-c542-4ddb-a06d-83f233ec4c3c"
      },
      "outputs": [
        {
          "data": {
            "text/plain": [
              "0.08767354325879519"
            ]
          },
          "execution_count": 44,
          "metadata": {},
          "output_type": "execute_result"
        }
      ],
      "source": [
        "# 광고비의 회귀계수가 통계적으로 유의한지 pvalue\n",
        "# 0.038\n",
        "model.pvalues['광고비']"
      ]
    },
    {
      "cell_type": "code",
      "execution_count": 45,
      "metadata": {
        "colab": {
          "base_uri": "https://localhost:8080/"
        },
        "id": "nxBNJvXFhPDE",
        "outputId": "5b1b489a-1311-447b-f4c3-faf6b374dbe0"
      },
      "outputs": [
        {
          "data": {
            "text/plain": [
              "0.0019740049516148305"
            ]
          },
          "execution_count": 45,
          "metadata": {},
          "output_type": "execute_result"
        }
      ],
      "source": [
        "# 플랫폼의 회귀계수가 통계적으로 유의한지 pvalue\n",
        "# 0.001\n",
        "model.pvalues['플랫폼']"
      ]
    },
    {
      "cell_type": "code",
      "execution_count": 47,
      "metadata": {
        "colab": {
          "base_uri": "https://localhost:8080/"
        },
        "id": "Hq-MaGTaXncx",
        "outputId": "876b08ea-b086-4b45-f2ed-65a5aa1aebd6"
      },
      "outputs": [
        {
          "data": {
            "text/plain": [
              "0    311.220795\n",
              "dtype: float64"
            ]
          },
          "execution_count": 47,
          "metadata": {},
          "output_type": "execute_result"
        }
      ],
      "source": [
        "# 광고비 50, 플랫폼 20일 때 매출액 예측\n",
        "newdata = pd.DataFrame(\n",
        "    {\n",
        "        '광고비' : [50],\n",
        "        '플랫폼': [20],\n",
        "        '투자': [100]\n",
        "    }\n",
        ")\n",
        "model.predict(newdata)"
      ]
    },
    {
      "cell_type": "code",
      "execution_count": 52,
      "metadata": {
        "colab": {
          "base_uri": "https://localhost:8080/"
        },
        "id": "pHru5osbXnff",
        "outputId": "b7424cd5-68fe-480e-c399-4a7866285365"
      },
      "outputs": [
        {
          "data": {
            "text/plain": [
              "58681.858173956716"
            ]
          },
          "execution_count": 52,
          "metadata": {},
          "output_type": "execute_result"
        }
      ],
      "source": [
        "# 잔차 제곱합\n",
        "(model.resid ** 2).sum()"
      ]
    },
    {
      "cell_type": "code",
      "execution_count": 54,
      "metadata": {
        "colab": {
          "base_uri": "https://localhost:8080/"
        },
        "id": "jSQPl2dsbIlj",
        "outputId": "c447e6c0-7257-475d-ff6d-983cda0d2d5d"
      },
      "outputs": [
        {
          "data": {
            "text/plain": [
              "2934.092908697836"
            ]
          },
          "execution_count": 54,
          "metadata": {},
          "output_type": "execute_result"
        }
      ],
      "source": [
        "# MSE\n",
        "(model.resid ** 2).mean()"
      ]
    },
    {
      "cell_type": "code",
      "execution_count": 56,
      "metadata": {
        "colab": {
          "base_uri": "https://localhost:8080/",
          "height": 143
        },
        "id": "p-t9JgfScNa9",
        "outputId": "ca9fa935-4848-4a79-8e2d-4eaa100aab53"
      },
      "outputs": [
        {
          "data": {
            "text/html": [
              "<div>\n",
              "<style scoped>\n",
              "    .dataframe tbody tr th:only-of-type {\n",
              "        vertical-align: middle;\n",
              "    }\n",
              "\n",
              "    .dataframe tbody tr th {\n",
              "        vertical-align: top;\n",
              "    }\n",
              "\n",
              "    .dataframe thead th {\n",
              "        text-align: right;\n",
              "    }\n",
              "</style>\n",
              "<table border=\"1\" class=\"dataframe\">\n",
              "  <thead>\n",
              "    <tr style=\"text-align: right;\">\n",
              "      <th></th>\n",
              "      <th>0</th>\n",
              "      <th>1</th>\n",
              "    </tr>\n",
              "  </thead>\n",
              "  <tbody>\n",
              "    <tr>\n",
              "      <th>Intercept</th>\n",
              "      <td>-100.228800</td>\n",
              "      <td>298.291340</td>\n",
              "    </tr>\n",
              "    <tr>\n",
              "      <th>광고비</th>\n",
              "      <td>-0.304215</td>\n",
              "      <td>3.982520</td>\n",
              "    </tr>\n",
              "    <tr>\n",
              "      <th>플랫폼</th>\n",
              "      <td>2.534394</td>\n",
              "      <td>9.367929</td>\n",
              "    </tr>\n",
              "    <tr>\n",
              "      <th>투자</th>\n",
              "      <td>-0.734476</td>\n",
              "      <td>0.758649</td>\n",
              "    </tr>\n",
              "  </tbody>\n",
              "</table>\n",
              "</div>"
            ],
            "text/plain": [
              "                    0           1\n",
              "Intercept -100.228800  298.291340\n",
              "광고비         -0.304215    3.982520\n",
              "플랫폼          2.534394    9.367929\n",
              "투자          -0.734476    0.758649"
            ]
          },
          "execution_count": 56,
          "metadata": {},
          "output_type": "execute_result"
        }
      ],
      "source": [
        "# 광고비, 플랫폼 회귀계수의 95% 신뢰구간\n",
        "# 광고비: 0.117       3.522\n",
        "# 플랫폼: 2.912       8.945\n",
        "model.conf_int()"
      ]
    },
    {
      "cell_type": "code",
      "execution_count": 58,
      "metadata": {
        "colab": {
          "base_uri": "https://localhost:8080/",
          "height": 81
        },
        "id": "6LIpOIQ7cYUE",
        "outputId": "940bd1ad-d987-44e5-b01d-2be0068410d1"
      },
      "outputs": [
        {
          "data": {
            "text/html": [
              "<div>\n",
              "<style scoped>\n",
              "    .dataframe tbody tr th:only-of-type {\n",
              "        vertical-align: middle;\n",
              "    }\n",
              "\n",
              "    .dataframe tbody tr th {\n",
              "        vertical-align: top;\n",
              "    }\n",
              "\n",
              "    .dataframe thead th {\n",
              "        text-align: right;\n",
              "    }\n",
              "</style>\n",
              "<table border=\"1\" class=\"dataframe\">\n",
              "  <thead>\n",
              "    <tr style=\"text-align: right;\">\n",
              "      <th></th>\n",
              "      <th>mean</th>\n",
              "      <th>mean_se</th>\n",
              "      <th>mean_ci_lower</th>\n",
              "      <th>mean_ci_upper</th>\n",
              "      <th>obs_ci_lower</th>\n",
              "      <th>obs_ci_upper</th>\n",
              "    </tr>\n",
              "  </thead>\n",
              "  <tbody>\n",
              "    <tr>\n",
              "      <th>0</th>\n",
              "      <td>311.220795</td>\n",
              "      <td>27.91747</td>\n",
              "      <td>252.038403</td>\n",
              "      <td>370.403187</td>\n",
              "      <td>169.853129</td>\n",
              "      <td>452.58846</td>\n",
              "    </tr>\n",
              "  </tbody>\n",
              "</table>\n",
              "</div>"
            ],
            "text/plain": [
              "         mean   mean_se  mean_ci_lower  mean_ci_upper  obs_ci_lower  \\\n",
              "0  311.220795  27.91747     252.038403     370.403187    169.853129   \n",
              "\n",
              "   obs_ci_upper  \n",
              "0     452.58846  "
            ]
          },
          "execution_count": 58,
          "metadata": {},
          "output_type": "execute_result"
        }
      ],
      "source": [
        "# 광고비 50, 플랫폼 20일 때 매출액에 대한 95% 신뢰구간과 예측구간\n",
        "pred = model.get_prediction(newdata)\n",
        "pred.summary_frame()\n",
        "# 신뢰구간 268.612221\t352.52844\n",
        "# 예측구간 179.700104\t441.440556\n",
        "\n",
        "# 시험환경에서는 컬럼을 모두 보기 위해서 pd.set_option('display.max_columns', None) 설정이 필요함"
      ]
    },
    {
      "cell_type": "code",
      "execution_count": null,
      "metadata": {
        "id": "on7agqk8H5ER"
      },
      "outputs": [],
      "source": []
    },
    {
      "cell_type": "code",
      "execution_count": null,
      "metadata": {
        "id": "5Ryeu6RUH5Jp"
      },
      "outputs": [],
      "source": []
    },
    {
      "cell_type": "code",
      "execution_count": null,
      "metadata": {
        "id": "phmtkgHZH5P-"
      },
      "outputs": [],
      "source": []
    },
    {
      "cell_type": "code",
      "execution_count": null,
      "metadata": {
        "id": "h5eNtjofH5VD"
      },
      "outputs": [],
      "source": []
    },
    {
      "cell_type": "markdown",
      "metadata": {
        "id": "y0bXevjeH_eZ"
      },
      "source": [
        "### 범주형 변수"
      ]
    },
    {
      "cell_type": "code",
      "execution_count": 59,
      "metadata": {
        "colab": {
          "base_uri": "https://localhost:8080/",
          "height": 143
        },
        "id": "Q93PiqgdH_31",
        "outputId": "db16518e-139b-48ca-b45f-5c5c311a695d"
      },
      "outputs": [
        {
          "data": {
            "text/html": [
              "<div>\n",
              "<style scoped>\n",
              "    .dataframe tbody tr th:only-of-type {\n",
              "        vertical-align: middle;\n",
              "    }\n",
              "\n",
              "    .dataframe tbody tr th {\n",
              "        vertical-align: top;\n",
              "    }\n",
              "\n",
              "    .dataframe thead th {\n",
              "        text-align: right;\n",
              "    }\n",
              "</style>\n",
              "<table border=\"1\" class=\"dataframe\">\n",
              "  <thead>\n",
              "    <tr style=\"text-align: right;\">\n",
              "      <th></th>\n",
              "      <th>매출액</th>\n",
              "      <th>광고비</th>\n",
              "      <th>플랫폼</th>\n",
              "      <th>투자</th>\n",
              "      <th>유형</th>\n",
              "    </tr>\n",
              "  </thead>\n",
              "  <tbody>\n",
              "    <tr>\n",
              "      <th>0</th>\n",
              "      <td>300</td>\n",
              "      <td>70</td>\n",
              "      <td>15</td>\n",
              "      <td>100</td>\n",
              "      <td>B</td>\n",
              "    </tr>\n",
              "    <tr>\n",
              "      <th>1</th>\n",
              "      <td>320</td>\n",
              "      <td>75</td>\n",
              "      <td>16</td>\n",
              "      <td>0</td>\n",
              "      <td>B</td>\n",
              "    </tr>\n",
              "    <tr>\n",
              "      <th>2</th>\n",
              "      <td>250</td>\n",
              "      <td>30</td>\n",
              "      <td>14</td>\n",
              "      <td>200</td>\n",
              "      <td>C</td>\n",
              "    </tr>\n",
              "  </tbody>\n",
              "</table>\n",
              "</div>"
            ],
            "text/plain": [
              "   매출액  광고비  플랫폼   투자 유형\n",
              "0  300   70   15  100  B\n",
              "1  320   75   16    0  B\n",
              "2  250   30   14  200  C"
            ]
          },
          "execution_count": 59,
          "metadata": {},
          "output_type": "execute_result"
        }
      ],
      "source": [
        "import pandas as pd\n",
        "df = pd.DataFrame({\n",
        "    '매출액': [300, 320, 250, 360, 315, 328, 310, 335, 326, 280,\n",
        "            290, 300, 315, 328, 310, 335, 300, 400, 500, 600],\n",
        "    '광고비': [70, 75, 30, 80, 72, 77, 70, 82, 70, 80,\n",
        "            68, 90, 72, 77, 70, 82, 40, 20, 75, 80],\n",
        "    '플랫폼': [15, 16, 14, 20, 19, 17, 16, 19, 15, 20,\n",
        "            14, 5, 16, 17, 16, 14, 30, 40, 10, 50],\n",
        "    '투자':[100, 0, 200, 0, 10, 0, 5, 0, 20, 0,\n",
        "          0, 0, 0, 0, 0, 0, 0, 0, 0, 0],\n",
        "    '유형':['B','B','C','A','B','B','B','B','B','B'\n",
        "        ,'C','B','B','B','B','B','B','A','A','A']\n",
        "    })\n",
        "df.head(3)"
      ]
    },
    {
      "cell_type": "code",
      "execution_count": 60,
      "metadata": {
        "colab": {
          "base_uri": "https://localhost:8080/"
        },
        "id": "UQ-CoPzRICk6",
        "outputId": "308d28bb-24f6-4c9b-e056-c0e67bf0388c"
      },
      "outputs": [
        {
          "name": "stdout",
          "output_type": "stream",
          "text": [
            "                            OLS Regression Results                            \n",
            "==============================================================================\n",
            "Dep. Variable:                    매출액   R-squared:                       0.720\n",
            "Model:                            OLS   Adj. R-squared:                  0.667\n",
            "Method:                 Least Squares   F-statistic:                     13.70\n",
            "Date:                Sat, 15 Jun 2024   Prob (F-statistic):           0.000110\n",
            "Time:                        01:44:05   Log-Likelihood:                -102.67\n",
            "No. Observations:                  20   AIC:                             213.3\n",
            "Df Residuals:                      16   BIC:                             217.3\n",
            "Df Model:                           3                                         \n",
            "Covariance Type:            nonrobust                                         \n",
            "==============================================================================\n",
            "                 coef    std err          t      P>|t|      [0.025      0.975]\n",
            "------------------------------------------------------------------------------\n",
            "Intercept    400.6463     47.477      8.439      0.000     300.000     501.292\n",
            "유형[T.B]     -160.2695     26.756     -5.990      0.000    -216.991    -103.548\n",
            "유형[T.C]     -180.1103     40.883     -4.406      0.000    -266.778     -93.443\n",
            "광고비            1.0095      0.652      1.548      0.141      -0.373       2.392\n",
            "==============================================================================\n",
            "Omnibus:                        9.726   Durbin-Watson:                   1.496\n",
            "Prob(Omnibus):                  0.008   Jarque-Bera (JB):               16.186\n",
            "Skew:                          -0.147   Prob(JB):                     0.000306\n",
            "Kurtosis:                       7.397   Cond. No.                         382.\n",
            "==============================================================================\n",
            "\n",
            "Notes:\n",
            "[1] Standard Errors assume that the covariance matrix of the errors is correctly specified.\n"
          ]
        }
      ],
      "source": [
        "from statsmodels.formula.api import ols\n",
        "model = ols('매출액 ~ 광고비 + 유형', data=df).fit()\n",
        "print(model.summary())"
      ]
    },
    {
      "cell_type": "code",
      "execution_count": 61,
      "metadata": {
        "colab": {
          "base_uri": "https://localhost:8080/",
          "height": 206
        },
        "id": "NzLjmGuGIGw7",
        "outputId": "5bc86e95-4b59-4d65-a804-ae5ac264425d"
      },
      "outputs": [
        {
          "data": {
            "text/html": [
              "<div>\n",
              "<style scoped>\n",
              "    .dataframe tbody tr th:only-of-type {\n",
              "        vertical-align: middle;\n",
              "    }\n",
              "\n",
              "    .dataframe tbody tr th {\n",
              "        vertical-align: top;\n",
              "    }\n",
              "\n",
              "    .dataframe thead th {\n",
              "        text-align: right;\n",
              "    }\n",
              "</style>\n",
              "<table border=\"1\" class=\"dataframe\">\n",
              "  <thead>\n",
              "    <tr style=\"text-align: right;\">\n",
              "      <th></th>\n",
              "      <th>매출액</th>\n",
              "      <th>광고비</th>\n",
              "      <th>플랫폼</th>\n",
              "      <th>투자</th>\n",
              "      <th>유형_A</th>\n",
              "      <th>유형_B</th>\n",
              "      <th>유형_C</th>\n",
              "    </tr>\n",
              "  </thead>\n",
              "  <tbody>\n",
              "    <tr>\n",
              "      <th>0</th>\n",
              "      <td>300</td>\n",
              "      <td>70</td>\n",
              "      <td>15</td>\n",
              "      <td>100</td>\n",
              "      <td>False</td>\n",
              "      <td>True</td>\n",
              "      <td>False</td>\n",
              "    </tr>\n",
              "    <tr>\n",
              "      <th>1</th>\n",
              "      <td>320</td>\n",
              "      <td>75</td>\n",
              "      <td>16</td>\n",
              "      <td>0</td>\n",
              "      <td>False</td>\n",
              "      <td>True</td>\n",
              "      <td>False</td>\n",
              "    </tr>\n",
              "    <tr>\n",
              "      <th>2</th>\n",
              "      <td>250</td>\n",
              "      <td>30</td>\n",
              "      <td>14</td>\n",
              "      <td>200</td>\n",
              "      <td>False</td>\n",
              "      <td>False</td>\n",
              "      <td>True</td>\n",
              "    </tr>\n",
              "    <tr>\n",
              "      <th>3</th>\n",
              "      <td>360</td>\n",
              "      <td>80</td>\n",
              "      <td>20</td>\n",
              "      <td>0</td>\n",
              "      <td>True</td>\n",
              "      <td>False</td>\n",
              "      <td>False</td>\n",
              "    </tr>\n",
              "    <tr>\n",
              "      <th>4</th>\n",
              "      <td>315</td>\n",
              "      <td>72</td>\n",
              "      <td>19</td>\n",
              "      <td>10</td>\n",
              "      <td>False</td>\n",
              "      <td>True</td>\n",
              "      <td>False</td>\n",
              "    </tr>\n",
              "  </tbody>\n",
              "</table>\n",
              "</div>"
            ],
            "text/plain": [
              "   매출액  광고비  플랫폼   투자   유형_A   유형_B   유형_C\n",
              "0  300   70   15  100  False   True  False\n",
              "1  320   75   16    0  False   True  False\n",
              "2  250   30   14  200  False  False   True\n",
              "3  360   80   20    0   True  False  False\n",
              "4  315   72   19   10  False   True  False"
            ]
          },
          "execution_count": 61,
          "metadata": {},
          "output_type": "execute_result"
        }
      ],
      "source": [
        "# 원핫인코딩\n",
        "df2 = pd.get_dummies(df)\n",
        "df2.head()"
      ]
    },
    {
      "cell_type": "code",
      "execution_count": 62,
      "metadata": {
        "colab": {
          "base_uri": "https://localhost:8080/",
          "height": 206
        },
        "id": "hjhLfR-nIsRd",
        "outputId": "04124f3a-7e75-479b-a5f8-cce39e471278"
      },
      "outputs": [
        {
          "data": {
            "text/html": [
              "<div>\n",
              "<style scoped>\n",
              "    .dataframe tbody tr th:only-of-type {\n",
              "        vertical-align: middle;\n",
              "    }\n",
              "\n",
              "    .dataframe tbody tr th {\n",
              "        vertical-align: top;\n",
              "    }\n",
              "\n",
              "    .dataframe thead th {\n",
              "        text-align: right;\n",
              "    }\n",
              "</style>\n",
              "<table border=\"1\" class=\"dataframe\">\n",
              "  <thead>\n",
              "    <tr style=\"text-align: right;\">\n",
              "      <th></th>\n",
              "      <th>매출액</th>\n",
              "      <th>광고비</th>\n",
              "      <th>플랫폼</th>\n",
              "      <th>투자</th>\n",
              "      <th>유형_B</th>\n",
              "      <th>유형_C</th>\n",
              "    </tr>\n",
              "  </thead>\n",
              "  <tbody>\n",
              "    <tr>\n",
              "      <th>0</th>\n",
              "      <td>300</td>\n",
              "      <td>70</td>\n",
              "      <td>15</td>\n",
              "      <td>100</td>\n",
              "      <td>True</td>\n",
              "      <td>False</td>\n",
              "    </tr>\n",
              "    <tr>\n",
              "      <th>1</th>\n",
              "      <td>320</td>\n",
              "      <td>75</td>\n",
              "      <td>16</td>\n",
              "      <td>0</td>\n",
              "      <td>True</td>\n",
              "      <td>False</td>\n",
              "    </tr>\n",
              "    <tr>\n",
              "      <th>2</th>\n",
              "      <td>250</td>\n",
              "      <td>30</td>\n",
              "      <td>14</td>\n",
              "      <td>200</td>\n",
              "      <td>False</td>\n",
              "      <td>True</td>\n",
              "    </tr>\n",
              "    <tr>\n",
              "      <th>3</th>\n",
              "      <td>360</td>\n",
              "      <td>80</td>\n",
              "      <td>20</td>\n",
              "      <td>0</td>\n",
              "      <td>False</td>\n",
              "      <td>False</td>\n",
              "    </tr>\n",
              "    <tr>\n",
              "      <th>4</th>\n",
              "      <td>315</td>\n",
              "      <td>72</td>\n",
              "      <td>19</td>\n",
              "      <td>10</td>\n",
              "      <td>True</td>\n",
              "      <td>False</td>\n",
              "    </tr>\n",
              "  </tbody>\n",
              "</table>\n",
              "</div>"
            ],
            "text/plain": [
              "   매출액  광고비  플랫폼   투자   유형_B   유형_C\n",
              "0  300   70   15  100   True  False\n",
              "1  320   75   16    0   True  False\n",
              "2  250   30   14  200  False   True\n",
              "3  360   80   20    0  False  False\n",
              "4  315   72   19   10   True  False"
            ]
          },
          "execution_count": 62,
          "metadata": {},
          "output_type": "execute_result"
        }
      ],
      "source": [
        "# drop_first=True\n",
        "df = pd.get_dummies(df, drop_first=True)\n",
        "df.head()"
      ]
    },
    {
      "cell_type": "code",
      "execution_count": 63,
      "metadata": {
        "colab": {
          "base_uri": "https://localhost:8080/"
        },
        "id": "qMkgVPsCIsUC",
        "outputId": "7cc159c2-aa60-4259-8cea-64093680d873"
      },
      "outputs": [
        {
          "name": "stdout",
          "output_type": "stream",
          "text": [
            "                            OLS Regression Results                            \n",
            "==============================================================================\n",
            "Dep. Variable:                    매출액   R-squared:                       0.720\n",
            "Model:                            OLS   Adj. R-squared:                  0.667\n",
            "Method:                 Least Squares   F-statistic:                     13.70\n",
            "Date:                Sat, 15 Jun 2024   Prob (F-statistic):           0.000110\n",
            "Time:                        01:44:08   Log-Likelihood:                -102.67\n",
            "No. Observations:                  20   AIC:                             213.3\n",
            "Df Residuals:                      16   BIC:                             217.3\n",
            "Df Model:                           3                                         \n",
            "Covariance Type:            nonrobust                                         \n",
            "================================================================================\n",
            "                   coef    std err          t      P>|t|      [0.025      0.975]\n",
            "--------------------------------------------------------------------------------\n",
            "Intercept      400.6463     47.477      8.439      0.000     300.000     501.292\n",
            "유형_B[T.True]  -160.2695     26.756     -5.990      0.000    -216.991    -103.548\n",
            "유형_C[T.True]  -180.1103     40.883     -4.406      0.000    -266.778     -93.443\n",
            "광고비              1.0095      0.652      1.548      0.141      -0.373       2.392\n",
            "==============================================================================\n",
            "Omnibus:                        9.726   Durbin-Watson:                   1.496\n",
            "Prob(Omnibus):                  0.008   Jarque-Bera (JB):               16.186\n",
            "Skew:                          -0.147   Prob(JB):                     0.000306\n",
            "Kurtosis:                       7.397   Cond. No.                         382.\n",
            "==============================================================================\n",
            "\n",
            "Notes:\n",
            "[1] Standard Errors assume that the covariance matrix of the errors is correctly specified.\n"
          ]
        }
      ],
      "source": [
        "# 회귀 모델 학습 & summary (독립변수로 광고비와 유형만 활용)\n",
        "from statsmodels.formula.api import ols\n",
        "model = ols('매출액 ~ 광고비 + 유형_B + 유형_C', data=df).fit()\n",
        "print(model.summary())"
      ]
    },
    {
      "cell_type": "code",
      "execution_count": null,
      "metadata": {
        "id": "NYbPxuoFIsWp"
      },
      "outputs": [],
      "source": []
    },
    {
      "cell_type": "code",
      "execution_count": null,
      "metadata": {
        "id": "omYyrhYNIsZa"
      },
      "outputs": [],
      "source": []
    }
  ],
  "metadata": {
    "colab": {
      "provenance": []
    },
    "kernelspec": {
      "display_name": "Python 3",
      "name": "python3"
    },
    "language_info": {
      "codemirror_mode": {
        "name": "ipython",
        "version": 3
      },
      "file_extension": ".py",
      "mimetype": "text/x-python",
      "name": "python",
      "nbconvert_exporter": "python",
      "pygments_lexer": "ipython3",
      "version": "3.8.18"
    }
  },
  "nbformat": 4,
  "nbformat_minor": 0
}
