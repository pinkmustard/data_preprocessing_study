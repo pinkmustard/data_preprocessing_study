{
  "cells": [
    {
      "cell_type": "markdown",
      "metadata": {
        "id": "jvuNsPAY41yZ"
      },
      "source": [
        "# 작업형1 모의문제2\n",
        "- data : members.csv"
      ]
    },
    {
      "cell_type": "markdown",
      "metadata": {
        "id": "PVBhS3mWQOJp"
      },
      "source": [
        "## 문제4\n",
        "- 주어진 데이터에서 자료형(type)이 object인 컬럼은 삭제하고, 결측치는 0으로 대체한다.\n",
        "- 행 단위로 합한 다음 그 값이 3000보다 큰 값의 데이터 수를 구하시오\n",
        "('age', 'f1', 'f2', 'f5', 'views'의 각 행별 합)"
      ]
    },
    {
      "cell_type": "code",
      "execution_count": 19,
      "metadata": {
        "id": "d9UC9l2OQQ4m"
      },
      "outputs": [
        {
          "data": {
            "text/plain": [
              "73"
            ]
          },
          "execution_count": 19,
          "metadata": {},
          "output_type": "execute_result"
        }
      ],
      "source": [
        "# your code\n",
        "import pandas as pd\n",
        "\n",
        "df = pd.read_csv('data/members.csv')\n",
        "drop_c = df.columns[df.dtypes == 'object']\n",
        "df = df.drop(drop_c, axis=1)\n",
        "df = df.fillna(0)\n",
        "sum(df.sum(axis=1) > 3000)\n"
      ]
    },
    {
      "cell_type": "markdown",
      "metadata": {
        "id": "h2IXr3A_QRWS"
      },
      "source": [
        "## 문제5\n",
        "- 데이터에서 IQR을 활용해 views 컬럼의 이상치를 찾고, 이상치 데이터의 수를 구하시오"
      ]
    },
    {
      "cell_type": "code",
      "execution_count": 21,
      "metadata": {
        "id": "SNMu1ew0QTnD"
      },
      "outputs": [
        {
          "name": "stdout",
          "output_type": "stream",
          "text": [
            "4\n"
          ]
        }
      ],
      "source": [
        "# your code\n",
        "import pandas as pd\n",
        "\n",
        "df = pd.read_csv('data/members.csv')\n",
        "r3 = df['views'].quantile(.75)\n",
        "r1 = df['views'].quantile(.25)\n",
        "IQR = r3 - r1\n",
        "q1 = r1 - 1.5*IQR\n",
        "q3 = r3 + 1.5*IQR\n",
        "a = sum(df['views'] < q1)\n",
        "b = sum(df['views'] > q3)\n",
        "print(a + b)"
      ]
    },
    {
      "cell_type": "markdown",
      "metadata": {
        "id": "gV-W-F2wQTuw"
      },
      "source": [
        "## 문제6\n",
        "- 'age' 컬럼의 이상치(소수점 나이와 음수나이, 0포함)를 제거하고\n",
        "- 제거 전 후의 views 컬럼 표준편차를 더하시오 (최종 결과 값은 소수 둘째자리까지 출력, 셋째자리에서 반올림)"
      ]
    },
    {
      "cell_type": "code",
      "execution_count": 38,
      "metadata": {
        "id": "TAP8aeX0QW3L"
      },
      "outputs": [
        {
          "name": "stdout",
          "output_type": "stream",
          "text": [
            "8420.69\n"
          ]
        }
      ],
      "source": [
        "# your code\n",
        "\n",
        "import pandas as pd\n",
        "\n",
        "df = pd.read_csv('data/members.csv')\n",
        "std1 = df['views'].std()\n",
        "df = df[df['age'] > 0]\n",
        "df = df[df['age'] % 1 == 0]\n",
        "std2 = df['views'].std()\n",
        "print(\"%.2f\" %(std1 + std2))\n"
      ]
    },
    {
      "cell_type": "markdown",
      "metadata": {
        "id": "7wXaul1WQZth"
      },
      "source": [
        "# 풀이"
      ]
    },
    {
      "cell_type": "markdown",
      "metadata": {
        "id": "oz7POiFg5BbF"
      },
      "source": [
        "## 문제4\n",
        "- 주어진 데이터에서 자료형(type)이 object인 컬럼은 삭제하고, 결측치는 0으로 대체한다.\n",
        "- 행 단위로 합한 다음 그 값이 3000보다 큰 값의 데이터 수를 구하시오\n",
        "('age', 'f1', 'f2', 'f5', 'views'의 각 행별 합)"
      ]
    },
    {
      "cell_type": "code",
      "execution_count": null,
      "metadata": {
        "colab": {
          "base_uri": "https://localhost:8080/"
        },
        "id": "T0JqOyc24q9O",
        "outputId": "78b84f0f-07f5-41b5-89a6-0a3b647c6e0e"
      },
      "outputs": [
        {
          "name": "stdout",
          "output_type": "stream",
          "text": [
            "73\n"
          ]
        }
      ],
      "source": [
        "# 풀이\n",
        "import pandas as pd\n",
        "df = pd.read_csv(\"members.csv\")\n",
        "\n",
        "# cols = df.select_dtypes(include='object').columns\n",
        "# cols\n",
        "# df = df.drop(cols, axis=1)\n",
        "# df.head()\n",
        "\n",
        "cols = df.select_dtypes(exclude='object').columns\n",
        "cols\n",
        "df = df[cols]\n",
        "df.head()\n",
        "\n",
        "df = df.fillna(0)\n",
        "df = df.T\n",
        "df.head()\n",
        "print(sum(df.sum() > 3000))"
      ]
    },
    {
      "cell_type": "markdown",
      "metadata": {
        "id": "s8s-g51Z5EA7"
      },
      "source": [
        "## 문제5\n",
        "- 데이터에서 IQR을 활용해 views 컬럼의 이상치를 찾고, 이상치 데이터의 수를 구하시오\n"
      ]
    },
    {
      "cell_type": "code",
      "execution_count": null,
      "metadata": {
        "colab": {
          "base_uri": "https://localhost:8080/"
        },
        "id": "9mpdqGoJD_zM",
        "outputId": "c8b1914a-e117-465c-d7e9-0ed1a35c10c6"
      },
      "outputs": [
        {
          "name": "stdout",
          "output_type": "stream",
          "text": [
            "4\n"
          ]
        }
      ],
      "source": [
        "# 풀이\n",
        "import pandas as pd\n",
        "df = pd.read_csv(\"members.csv\")\n",
        "\n",
        "q3 = df['views'].quantile(.75)\n",
        "q1 = df['views'].quantile(.25)\n",
        "\n",
        "IQR = q3 - q1\n",
        "# print(IQR)\n",
        "\n",
        "line1 = q1 - 1.5 * IQR\n",
        "line2 = q3 + 1.5 * IQR\n",
        "\n",
        "\n",
        "print(sum(df['views'] < line1) + sum(df['views'] > line2))"
      ]
    },
    {
      "cell_type": "markdown",
      "metadata": {
        "id": "ssStdfrWuUGA"
      },
      "source": [
        "## 문제6\n",
        "- 'age' 컬럼의 이상치(소수점 나이와 음수나이, 0포함)를 제거하고\n",
        "- 제거 전 후의 views 컬럼 표준편차를 더하시오 (최종 결과 값은 소수 둘째자리까지 출력, 셋째자리에서 반올림)"
      ]
    },
    {
      "cell_type": "code",
      "execution_count": null,
      "metadata": {
        "colab": {
          "base_uri": "https://localhost:8080/"
        },
        "id": "jg9GOVGWuUiT",
        "outputId": "da0cb77b-e2b5-4615-81c3-3acaf3b5537c"
      },
      "outputs": [
        {
          "name": "stdout",
          "output_type": "stream",
          "text": [
            "8420.69\n"
          ]
        }
      ],
      "source": [
        "# 풀이\n",
        "import pandas as pd\n",
        "df = pd.read_csv(\"members.csv\")\n",
        "\n",
        "r1 = df['views'].std()\n",
        "\n",
        "cond = df['age'] <= 0\n",
        "# print(df.shape)\n",
        "df = df[~cond]\n",
        "# print(df.shape)\n",
        "\n",
        "# print(df.shape)\n",
        "cond = df['age'] == round(df['age'],0)\n",
        "df = df[cond]\n",
        "# print(df.shape)\n",
        "\n",
        "r2 = df['views'].std()\n",
        "\n",
        "print(round(r1 + r2, 2))"
      ]
    },
    {
      "cell_type": "code",
      "execution_count": null,
      "metadata": {
        "id": "UjTZx21OEI8p"
      },
      "outputs": [],
      "source": []
    }
  ],
  "metadata": {
    "colab": {
      "provenance": []
    },
    "kernelspec": {
      "display_name": "Python 3",
      "name": "python3"
    },
    "language_info": {
      "codemirror_mode": {
        "name": "ipython",
        "version": 3
      },
      "file_extension": ".py",
      "mimetype": "text/x-python",
      "name": "python",
      "nbconvert_exporter": "python",
      "pygments_lexer": "ipython3",
      "version": "3.8.18"
    }
  },
  "nbformat": 4,
  "nbformat_minor": 0
}
