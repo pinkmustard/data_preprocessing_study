{
  "cells": [
    {
      "cell_type": "markdown",
      "metadata": {
        "id": "k5Z7yULvzpsF"
      },
      "source": [
        "## 에어비엔비 가격?\n",
        "- 평가: R-Squared, MAE, MSE, RMSE, RMSLE, MAPE\n",
        "- target : price(가격)\n",
        "- csv파일 생성 : 수험번호.csv (예시 아래 참조)\n",
        "~~~\n",
        "id,price\n",
        "34323697,238\n",
        "29927138,183\n",
        "120362,234\n",
        "~~~\n",
        "\n"
      ]
    },
    {
      "cell_type": "markdown",
      "metadata": {
        "id": "1qZteLJKC6or"
      },
      "source": [
        "## 데이터 불러오기"
      ]
    },
    {
      "cell_type": "code",
      "execution_count": 118,
      "metadata": {
        "id": "79P4zcpB0CHw"
      },
      "outputs": [],
      "source": [
        "import pandas as pd\n",
        "train = pd.read_csv('ab_nyc/train.csv')\n",
        "test = pd.read_csv('ab_nyc/test.csv')"
      ]
    },
    {
      "cell_type": "markdown",
      "metadata": {
        "id": "ziiQ-hrGqm5C"
      },
      "source": [
        "##EDA"
      ]
    },
    {
      "cell_type": "code",
      "execution_count": 119,
      "metadata": {
        "id": "HrbG49RDXBXh"
      },
      "outputs": [
        {
          "name": "stdout",
          "output_type": "stream",
          "text": [
            "(39116, 16) (9779, 15)\n"
          ]
        }
      ],
      "source": [
        "print(train.shape, test.shape)"
      ]
    },
    {
      "cell_type": "code",
      "execution_count": 120,
      "metadata": {
        "id": "Rk4hiVXHXBaD"
      },
      "outputs": [
        {
          "data": {
            "text/html": [
              "<div>\n",
              "<style scoped>\n",
              "    .dataframe tbody tr th:only-of-type {\n",
              "        vertical-align: middle;\n",
              "    }\n",
              "\n",
              "    .dataframe tbody tr th {\n",
              "        vertical-align: top;\n",
              "    }\n",
              "\n",
              "    .dataframe thead th {\n",
              "        text-align: right;\n",
              "    }\n",
              "</style>\n",
              "<table border=\"1\" class=\"dataframe\">\n",
              "  <thead>\n",
              "    <tr style=\"text-align: right;\">\n",
              "      <th></th>\n",
              "      <th>id</th>\n",
              "      <th>name</th>\n",
              "      <th>host_id</th>\n",
              "      <th>host_name</th>\n",
              "      <th>neighbourhood_group</th>\n",
              "      <th>neighbourhood</th>\n",
              "      <th>latitude</th>\n",
              "      <th>longitude</th>\n",
              "      <th>room_type</th>\n",
              "      <th>minimum_nights</th>\n",
              "      <th>number_of_reviews</th>\n",
              "      <th>last_review</th>\n",
              "      <th>reviews_per_month</th>\n",
              "      <th>calculated_host_listings_count</th>\n",
              "      <th>availability_365</th>\n",
              "      <th>price</th>\n",
              "    </tr>\n",
              "  </thead>\n",
              "  <tbody>\n",
              "    <tr>\n",
              "      <th>0</th>\n",
              "      <td>35742633</td>\n",
              "      <td>Luxury new 1 bed apartment in East Williamsburg</td>\n",
              "      <td>265866685</td>\n",
              "      <td>Mindy</td>\n",
              "      <td>Brooklyn</td>\n",
              "      <td>Bushwick</td>\n",
              "      <td>40.69796</td>\n",
              "      <td>-73.92915</td>\n",
              "      <td>Entire home/apt</td>\n",
              "      <td>30</td>\n",
              "      <td>0</td>\n",
              "      <td>NaN</td>\n",
              "      <td>NaN</td>\n",
              "      <td>2</td>\n",
              "      <td>179</td>\n",
              "      <td>198</td>\n",
              "    </tr>\n",
              "    <tr>\n",
              "      <th>1</th>\n",
              "      <td>15840089</td>\n",
              "      <td>Kid- (and Adult-) Friendly Uptown 2-Bedroom</td>\n",
              "      <td>99602138</td>\n",
              "      <td>Yolanda</td>\n",
              "      <td>Manhattan</td>\n",
              "      <td>Washington Heights</td>\n",
              "      <td>40.83490</td>\n",
              "      <td>-73.94829</td>\n",
              "      <td>Entire home/apt</td>\n",
              "      <td>3</td>\n",
              "      <td>36</td>\n",
              "      <td>2019-01-01</td>\n",
              "      <td>1.13</td>\n",
              "      <td>1</td>\n",
              "      <td>5</td>\n",
              "      <td>150</td>\n",
              "    </tr>\n",
              "  </tbody>\n",
              "</table>\n",
              "</div>"
            ],
            "text/plain": [
              "         id                                             name    host_id  \\\n",
              "0  35742633  Luxury new 1 bed apartment in East Williamsburg  265866685   \n",
              "1  15840089      Kid- (and Adult-) Friendly Uptown 2-Bedroom   99602138   \n",
              "\n",
              "  host_name neighbourhood_group       neighbourhood  latitude  longitude  \\\n",
              "0     Mindy            Brooklyn            Bushwick  40.69796  -73.92915   \n",
              "1   Yolanda           Manhattan  Washington Heights  40.83490  -73.94829   \n",
              "\n",
              "         room_type  minimum_nights  number_of_reviews last_review  \\\n",
              "0  Entire home/apt              30                  0         NaN   \n",
              "1  Entire home/apt               3                 36  2019-01-01   \n",
              "\n",
              "   reviews_per_month  calculated_host_listings_count  availability_365  price  \n",
              "0                NaN                               2               179    198  \n",
              "1               1.13                               1                 5    150  "
            ]
          },
          "metadata": {},
          "output_type": "display_data"
        },
        {
          "data": {
            "text/html": [
              "<div>\n",
              "<style scoped>\n",
              "    .dataframe tbody tr th:only-of-type {\n",
              "        vertical-align: middle;\n",
              "    }\n",
              "\n",
              "    .dataframe tbody tr th {\n",
              "        vertical-align: top;\n",
              "    }\n",
              "\n",
              "    .dataframe thead th {\n",
              "        text-align: right;\n",
              "    }\n",
              "</style>\n",
              "<table border=\"1\" class=\"dataframe\">\n",
              "  <thead>\n",
              "    <tr style=\"text-align: right;\">\n",
              "      <th></th>\n",
              "      <th>id</th>\n",
              "      <th>name</th>\n",
              "      <th>host_id</th>\n",
              "      <th>host_name</th>\n",
              "      <th>neighbourhood_group</th>\n",
              "      <th>neighbourhood</th>\n",
              "      <th>latitude</th>\n",
              "      <th>longitude</th>\n",
              "      <th>room_type</th>\n",
              "      <th>minimum_nights</th>\n",
              "      <th>number_of_reviews</th>\n",
              "      <th>last_review</th>\n",
              "      <th>reviews_per_month</th>\n",
              "      <th>calculated_host_listings_count</th>\n",
              "      <th>availability_365</th>\n",
              "    </tr>\n",
              "  </thead>\n",
              "  <tbody>\n",
              "    <tr>\n",
              "      <th>0</th>\n",
              "      <td>34323697</td>\n",
              "      <td>Sonder | The Biltmore | Bright 1BR + Sofa Bed</td>\n",
              "      <td>219517861</td>\n",
              "      <td>Sonder (NYC)</td>\n",
              "      <td>Manhattan</td>\n",
              "      <td>Theater District</td>\n",
              "      <td>40.75965</td>\n",
              "      <td>-73.98652</td>\n",
              "      <td>Entire home/apt</td>\n",
              "      <td>29</td>\n",
              "      <td>0</td>\n",
              "      <td>NaN</td>\n",
              "      <td>NaN</td>\n",
              "      <td>327</td>\n",
              "      <td>338</td>\n",
              "    </tr>\n",
              "    <tr>\n",
              "      <th>1</th>\n",
              "      <td>29927138</td>\n",
              "      <td>A great space in NYC</td>\n",
              "      <td>158461160</td>\n",
              "      <td>Sophia</td>\n",
              "      <td>Brooklyn</td>\n",
              "      <td>Bedford-Stuyvesant</td>\n",
              "      <td>40.68062</td>\n",
              "      <td>-73.94418</td>\n",
              "      <td>Entire home/apt</td>\n",
              "      <td>30</td>\n",
              "      <td>1</td>\n",
              "      <td>2019-05-31</td>\n",
              "      <td>0.75</td>\n",
              "      <td>6</td>\n",
              "      <td>284</td>\n",
              "    </tr>\n",
              "  </tbody>\n",
              "</table>\n",
              "</div>"
            ],
            "text/plain": [
              "         id                                           name    host_id  \\\n",
              "0  34323697  Sonder | The Biltmore | Bright 1BR + Sofa Bed  219517861   \n",
              "1  29927138                           A great space in NYC  158461160   \n",
              "\n",
              "      host_name neighbourhood_group       neighbourhood  latitude  longitude  \\\n",
              "0  Sonder (NYC)           Manhattan    Theater District  40.75965  -73.98652   \n",
              "1        Sophia            Brooklyn  Bedford-Stuyvesant  40.68062  -73.94418   \n",
              "\n",
              "         room_type  minimum_nights  number_of_reviews last_review  \\\n",
              "0  Entire home/apt              29                  0         NaN   \n",
              "1  Entire home/apt              30                  1  2019-05-31   \n",
              "\n",
              "   reviews_per_month  calculated_host_listings_count  availability_365  \n",
              "0                NaN                             327               338  \n",
              "1               0.75                               6               284  "
            ]
          },
          "execution_count": 120,
          "metadata": {},
          "output_type": "execute_result"
        }
      ],
      "source": [
        "display(train.head(2)) # 타겟은 price\n",
        "test.head(2)"
      ]
    },
    {
      "cell_type": "code",
      "execution_count": 121,
      "metadata": {
        "id": "WCVf___rXBcr"
      },
      "outputs": [
        {
          "data": {
            "text/html": [
              "<div>\n",
              "<style scoped>\n",
              "    .dataframe tbody tr th:only-of-type {\n",
              "        vertical-align: middle;\n",
              "    }\n",
              "\n",
              "    .dataframe tbody tr th {\n",
              "        vertical-align: top;\n",
              "    }\n",
              "\n",
              "    .dataframe thead th {\n",
              "        text-align: right;\n",
              "    }\n",
              "</style>\n",
              "<table border=\"1\" class=\"dataframe\">\n",
              "  <thead>\n",
              "    <tr style=\"text-align: right;\">\n",
              "      <th></th>\n",
              "      <th>id</th>\n",
              "      <th>host_id</th>\n",
              "      <th>latitude</th>\n",
              "      <th>longitude</th>\n",
              "      <th>minimum_nights</th>\n",
              "      <th>number_of_reviews</th>\n",
              "      <th>reviews_per_month</th>\n",
              "      <th>calculated_host_listings_count</th>\n",
              "      <th>availability_365</th>\n",
              "      <th>price</th>\n",
              "    </tr>\n",
              "  </thead>\n",
              "  <tbody>\n",
              "    <tr>\n",
              "      <th>count</th>\n",
              "      <td>3.911600e+04</td>\n",
              "      <td>3.911600e+04</td>\n",
              "      <td>39116.000000</td>\n",
              "      <td>39116.000000</td>\n",
              "      <td>39116.000000</td>\n",
              "      <td>39116.000000</td>\n",
              "      <td>31063.000000</td>\n",
              "      <td>39116.000000</td>\n",
              "      <td>39116.000000</td>\n",
              "      <td>39116.000000</td>\n",
              "    </tr>\n",
              "    <tr>\n",
              "      <th>mean</th>\n",
              "      <td>1.896669e+07</td>\n",
              "      <td>6.737070e+07</td>\n",
              "      <td>40.729054</td>\n",
              "      <td>-73.952084</td>\n",
              "      <td>7.022395</td>\n",
              "      <td>23.268509</td>\n",
              "      <td>1.372676</td>\n",
              "      <td>7.206182</td>\n",
              "      <td>112.718478</td>\n",
              "      <td>153.057547</td>\n",
              "    </tr>\n",
              "    <tr>\n",
              "      <th>std</th>\n",
              "      <td>1.096743e+07</td>\n",
              "      <td>7.842425e+07</td>\n",
              "      <td>0.054451</td>\n",
              "      <td>0.046106</td>\n",
              "      <td>19.547706</td>\n",
              "      <td>44.625410</td>\n",
              "      <td>1.682309</td>\n",
              "      <td>33.100783</td>\n",
              "      <td>131.479798</td>\n",
              "      <td>248.758522</td>\n",
              "    </tr>\n",
              "    <tr>\n",
              "      <th>min</th>\n",
              "      <td>2.539000e+03</td>\n",
              "      <td>2.438000e+03</td>\n",
              "      <td>40.499790</td>\n",
              "      <td>-74.244420</td>\n",
              "      <td>1.000000</td>\n",
              "      <td>0.000000</td>\n",
              "      <td>0.010000</td>\n",
              "      <td>1.000000</td>\n",
              "      <td>0.000000</td>\n",
              "      <td>0.000000</td>\n",
              "    </tr>\n",
              "    <tr>\n",
              "      <th>25%</th>\n",
              "      <td>9.435824e+06</td>\n",
              "      <td>7.829861e+06</td>\n",
              "      <td>40.690250</td>\n",
              "      <td>-73.983060</td>\n",
              "      <td>1.000000</td>\n",
              "      <td>1.000000</td>\n",
              "      <td>0.190000</td>\n",
              "      <td>1.000000</td>\n",
              "      <td>0.000000</td>\n",
              "      <td>69.000000</td>\n",
              "    </tr>\n",
              "    <tr>\n",
              "      <th>50%</th>\n",
              "      <td>1.961906e+07</td>\n",
              "      <td>3.050966e+07</td>\n",
              "      <td>40.723060</td>\n",
              "      <td>-73.955680</td>\n",
              "      <td>3.000000</td>\n",
              "      <td>5.000000</td>\n",
              "      <td>0.710000</td>\n",
              "      <td>1.000000</td>\n",
              "      <td>45.000000</td>\n",
              "      <td>105.000000</td>\n",
              "    </tr>\n",
              "    <tr>\n",
              "      <th>75%</th>\n",
              "      <td>2.907327e+07</td>\n",
              "      <td>1.074344e+08</td>\n",
              "      <td>40.763130</td>\n",
              "      <td>-73.936017</td>\n",
              "      <td>5.000000</td>\n",
              "      <td>23.000000</td>\n",
              "      <td>2.010000</td>\n",
              "      <td>2.000000</td>\n",
              "      <td>225.000000</td>\n",
              "      <td>175.000000</td>\n",
              "    </tr>\n",
              "    <tr>\n",
              "      <th>max</th>\n",
              "      <td>3.648724e+07</td>\n",
              "      <td>2.743213e+08</td>\n",
              "      <td>40.913060</td>\n",
              "      <td>-73.712990</td>\n",
              "      <td>999.000000</td>\n",
              "      <td>607.000000</td>\n",
              "      <td>58.500000</td>\n",
              "      <td>327.000000</td>\n",
              "      <td>365.000000</td>\n",
              "      <td>10000.000000</td>\n",
              "    </tr>\n",
              "  </tbody>\n",
              "</table>\n",
              "</div>"
            ],
            "text/plain": [
              "                 id       host_id      latitude     longitude  minimum_nights  \\\n",
              "count  3.911600e+04  3.911600e+04  39116.000000  39116.000000    39116.000000   \n",
              "mean   1.896669e+07  6.737070e+07     40.729054    -73.952084        7.022395   \n",
              "std    1.096743e+07  7.842425e+07      0.054451      0.046106       19.547706   \n",
              "min    2.539000e+03  2.438000e+03     40.499790    -74.244420        1.000000   \n",
              "25%    9.435824e+06  7.829861e+06     40.690250    -73.983060        1.000000   \n",
              "50%    1.961906e+07  3.050966e+07     40.723060    -73.955680        3.000000   \n",
              "75%    2.907327e+07  1.074344e+08     40.763130    -73.936017        5.000000   \n",
              "max    3.648724e+07  2.743213e+08     40.913060    -73.712990      999.000000   \n",
              "\n",
              "       number_of_reviews  reviews_per_month  calculated_host_listings_count  \\\n",
              "count       39116.000000       31063.000000                    39116.000000   \n",
              "mean           23.268509           1.372676                        7.206182   \n",
              "std            44.625410           1.682309                       33.100783   \n",
              "min             0.000000           0.010000                        1.000000   \n",
              "25%             1.000000           0.190000                        1.000000   \n",
              "50%             5.000000           0.710000                        1.000000   \n",
              "75%            23.000000           2.010000                        2.000000   \n",
              "max           607.000000          58.500000                      327.000000   \n",
              "\n",
              "       availability_365         price  \n",
              "count      39116.000000  39116.000000  \n",
              "mean         112.718478    153.057547  \n",
              "std          131.479798    248.758522  \n",
              "min            0.000000      0.000000  \n",
              "25%            0.000000     69.000000  \n",
              "50%           45.000000    105.000000  \n",
              "75%          225.000000    175.000000  \n",
              "max          365.000000  10000.000000  "
            ]
          },
          "execution_count": 121,
          "metadata": {},
          "output_type": "execute_result"
        }
      ],
      "source": [
        "train.describe()"
      ]
    },
    {
      "cell_type": "code",
      "execution_count": 122,
      "metadata": {
        "id": "fmVmeQweXBfd"
      },
      "outputs": [
        {
          "data": {
            "text/html": [
              "<div>\n",
              "<style scoped>\n",
              "    .dataframe tbody tr th:only-of-type {\n",
              "        vertical-align: middle;\n",
              "    }\n",
              "\n",
              "    .dataframe tbody tr th {\n",
              "        vertical-align: top;\n",
              "    }\n",
              "\n",
              "    .dataframe thead th {\n",
              "        text-align: right;\n",
              "    }\n",
              "</style>\n",
              "<table border=\"1\" class=\"dataframe\">\n",
              "  <thead>\n",
              "    <tr style=\"text-align: right;\">\n",
              "      <th></th>\n",
              "      <th>name</th>\n",
              "      <th>host_name</th>\n",
              "      <th>neighbourhood_group</th>\n",
              "      <th>neighbourhood</th>\n",
              "      <th>room_type</th>\n",
              "      <th>last_review</th>\n",
              "    </tr>\n",
              "  </thead>\n",
              "  <tbody>\n",
              "    <tr>\n",
              "      <th>count</th>\n",
              "      <td>39102</td>\n",
              "      <td>39100</td>\n",
              "      <td>39116</td>\n",
              "      <td>39116</td>\n",
              "      <td>39116</td>\n",
              "      <td>31063</td>\n",
              "    </tr>\n",
              "    <tr>\n",
              "      <th>unique</th>\n",
              "      <td>38447</td>\n",
              "      <td>9943</td>\n",
              "      <td>5</td>\n",
              "      <td>221</td>\n",
              "      <td>3</td>\n",
              "      <td>1720</td>\n",
              "    </tr>\n",
              "    <tr>\n",
              "      <th>top</th>\n",
              "      <td>Hillside Hotel</td>\n",
              "      <td>David</td>\n",
              "      <td>Manhattan</td>\n",
              "      <td>Williamsburg</td>\n",
              "      <td>Entire home/apt</td>\n",
              "      <td>2019-06-23</td>\n",
              "    </tr>\n",
              "    <tr>\n",
              "      <th>freq</th>\n",
              "      <td>14</td>\n",
              "      <td>337</td>\n",
              "      <td>17336</td>\n",
              "      <td>3136</td>\n",
              "      <td>20349</td>\n",
              "      <td>1123</td>\n",
              "    </tr>\n",
              "  </tbody>\n",
              "</table>\n",
              "</div>"
            ],
            "text/plain": [
              "                  name host_name neighbourhood_group neighbourhood  \\\n",
              "count            39102     39100               39116         39116   \n",
              "unique           38447      9943                   5           221   \n",
              "top     Hillside Hotel     David           Manhattan  Williamsburg   \n",
              "freq                14       337               17336          3136   \n",
              "\n",
              "              room_type last_review  \n",
              "count             39116       31063  \n",
              "unique                3        1720  \n",
              "top     Entire home/apt  2019-06-23  \n",
              "freq              20349        1123  "
            ]
          },
          "execution_count": 122,
          "metadata": {},
          "output_type": "execute_result"
        }
      ],
      "source": [
        "train.describe(include='O')"
      ]
    },
    {
      "cell_type": "code",
      "execution_count": 123,
      "metadata": {
        "id": "E4DsLbbVXBiC"
      },
      "outputs": [],
      "source": [
        "target = train.pop(\"price\")"
      ]
    },
    {
      "cell_type": "code",
      "execution_count": 124,
      "metadata": {
        "id": "sIwHTD3vXBka"
      },
      "outputs": [
        {
          "name": "stdout",
          "output_type": "stream",
          "text": [
            "(39116, 15) (9779, 15)\n"
          ]
        }
      ],
      "source": [
        "print(train.shape, test.shape)"
      ]
    },
    {
      "cell_type": "markdown",
      "metadata": {
        "id": "DiUkXUO16g-G"
      },
      "source": [
        "## 데이터 전처리 & 피처엔지니어링"
      ]
    },
    {
      "cell_type": "code",
      "execution_count": 125,
      "metadata": {
        "id": "mtJREZqcaWY_"
      },
      "outputs": [
        {
          "name": "stdout",
          "output_type": "stream",
          "text": [
            "(39116, 15)\n",
            "(39116, 11)\n"
          ]
        }
      ],
      "source": [
        "cols = ['name', 'host_name', 'last_review', 'host_id']\n",
        "print(train.shape)\n",
        "train = train.drop(cols, axis=1)\n",
        "test = test.drop(cols, axis=1)\n",
        "print(train.shape)"
      ]
    },
    {
      "cell_type": "code",
      "execution_count": 126,
      "metadata": {},
      "outputs": [
        {
          "data": {
            "text/plain": [
              "id                                0\n",
              "neighbourhood_group               0\n",
              "neighbourhood                     0\n",
              "latitude                          0\n",
              "longitude                         0\n",
              "room_type                         0\n",
              "minimum_nights                    0\n",
              "number_of_reviews                 0\n",
              "reviews_per_month                 0\n",
              "calculated_host_listings_count    0\n",
              "availability_365                  0\n",
              "dtype: int64"
            ]
          },
          "execution_count": 126,
          "metadata": {},
          "output_type": "execute_result"
        }
      ],
      "source": [
        "train['reviews_per_month'] = train['reviews_per_month'].fillna(0)\n",
        "test['reviews_per_month'] = test['reviews_per_month'].fillna(0)\n",
        "train.isnull().sum()"
      ]
    },
    {
      "cell_type": "code",
      "execution_count": 127,
      "metadata": {},
      "outputs": [
        {
          "data": {
            "text/html": [
              "<div>\n",
              "<style scoped>\n",
              "    .dataframe tbody tr th:only-of-type {\n",
              "        vertical-align: middle;\n",
              "    }\n",
              "\n",
              "    .dataframe tbody tr th {\n",
              "        vertical-align: top;\n",
              "    }\n",
              "\n",
              "    .dataframe thead th {\n",
              "        text-align: right;\n",
              "    }\n",
              "</style>\n",
              "<table border=\"1\" class=\"dataframe\">\n",
              "  <thead>\n",
              "    <tr style=\"text-align: right;\">\n",
              "      <th></th>\n",
              "      <th>neighbourhood_group</th>\n",
              "      <th>neighbourhood</th>\n",
              "      <th>room_type</th>\n",
              "    </tr>\n",
              "  </thead>\n",
              "  <tbody>\n",
              "    <tr>\n",
              "      <th>0</th>\n",
              "      <td>1</td>\n",
              "      <td>28</td>\n",
              "      <td>0</td>\n",
              "    </tr>\n",
              "    <tr>\n",
              "      <th>1</th>\n",
              "      <td>2</td>\n",
              "      <td>206</td>\n",
              "      <td>0</td>\n",
              "    </tr>\n",
              "    <tr>\n",
              "      <th>2</th>\n",
              "      <td>1</td>\n",
              "      <td>28</td>\n",
              "      <td>0</td>\n",
              "    </tr>\n",
              "    <tr>\n",
              "      <th>3</th>\n",
              "      <td>1</td>\n",
              "      <td>214</td>\n",
              "      <td>0</td>\n",
              "    </tr>\n",
              "    <tr>\n",
              "      <th>4</th>\n",
              "      <td>1</td>\n",
              "      <td>13</td>\n",
              "      <td>0</td>\n",
              "    </tr>\n",
              "    <tr>\n",
              "      <th>...</th>\n",
              "      <td>...</td>\n",
              "      <td>...</td>\n",
              "      <td>...</td>\n",
              "    </tr>\n",
              "    <tr>\n",
              "      <th>39111</th>\n",
              "      <td>1</td>\n",
              "      <td>214</td>\n",
              "      <td>1</td>\n",
              "    </tr>\n",
              "    <tr>\n",
              "      <th>39112</th>\n",
              "      <td>2</td>\n",
              "      <td>94</td>\n",
              "      <td>1</td>\n",
              "    </tr>\n",
              "    <tr>\n",
              "      <th>39113</th>\n",
              "      <td>1</td>\n",
              "      <td>19</td>\n",
              "      <td>0</td>\n",
              "    </tr>\n",
              "    <tr>\n",
              "      <th>39114</th>\n",
              "      <td>1</td>\n",
              "      <td>41</td>\n",
              "      <td>0</td>\n",
              "    </tr>\n",
              "    <tr>\n",
              "      <th>39115</th>\n",
              "      <td>2</td>\n",
              "      <td>202</td>\n",
              "      <td>0</td>\n",
              "    </tr>\n",
              "  </tbody>\n",
              "</table>\n",
              "<p>39116 rows × 3 columns</p>\n",
              "</div>"
            ],
            "text/plain": [
              "       neighbourhood_group  neighbourhood  room_type\n",
              "0                        1             28          0\n",
              "1                        2            206          0\n",
              "2                        1             28          0\n",
              "3                        1            214          0\n",
              "4                        1             13          0\n",
              "...                    ...            ...        ...\n",
              "39111                    1            214          1\n",
              "39112                    2             94          1\n",
              "39113                    1             19          0\n",
              "39114                    1             41          0\n",
              "39115                    2            202          0\n",
              "\n",
              "[39116 rows x 3 columns]"
            ]
          },
          "execution_count": 127,
          "metadata": {},
          "output_type": "execute_result"
        }
      ],
      "source": [
        "cols =['neighbourhood_group', 'neighbourhood', 'room_type']\n",
        "from sklearn.preprocessing import LabelEncoder\n",
        "\n",
        "for col in cols:\n",
        "    le = LabelEncoder()\n",
        "    train[col] = le.fit_transform(train[col])\n",
        "    test[col] = le.transform(test[col])\n",
        "\n",
        "train[cols]\n"
      ]
    },
    {
      "cell_type": "markdown",
      "metadata": {
        "id": "2wXHbPi9DEwb"
      },
      "source": [
        "## 검증 데이터 분리"
      ]
    },
    {
      "cell_type": "code",
      "execution_count": 128,
      "metadata": {
        "id": "NLf2OsLc38wm"
      },
      "outputs": [],
      "source": [
        "from sklearn.model_selection import train_test_split\n",
        "X_tr, X_val, y_tr, y_val = train_test_split(train, target, test_size=0.2, random_state=42)"
      ]
    },
    {
      "cell_type": "code",
      "execution_count": 129,
      "metadata": {
        "id": "cTr_t52X6w_Z"
      },
      "outputs": [
        {
          "name": "stdout",
          "output_type": "stream",
          "text": [
            "(31292, 11) (7824, 11) (31292,) (7824,)\n"
          ]
        }
      ],
      "source": [
        "print(X_tr.shape, X_val.shape, y_tr.shape, y_val.shape)"
      ]
    },
    {
      "cell_type": "markdown",
      "metadata": {
        "id": "6zrIYRkcDN4j"
      },
      "source": [
        "## 모델 & 평가"
      ]
    },
    {
      "cell_type": "code",
      "execution_count": 131,
      "metadata": {
        "id": "nG0HR27zOkW5"
      },
      "outputs": [],
      "source": [
        "# 평가\n",
        "import numpy as np\n",
        "from sklearn.metrics import r2_score, mean_absolute_error, mean_squared_error\n",
        "def rmse(y_test, y_pred): #RMSE\n",
        "    return np.sqrt(mean_squared_error(y_test, y_pred))\n",
        "\n",
        "def rmsle(y_test, y_pred): #RMSLE\n",
        "    return np.sqrt(np.mean(np.power(np.log1p(y_test) - np.log1p(y_pred), 2)))\n",
        "\n",
        "def mape(y_test, y_pred): #MAPE\n",
        "    return np.mean(np.abs((y_test - y_pred) / y_test)) * 100"
      ]
    },
    {
      "cell_type": "code",
      "execution_count": 139,
      "metadata": {
        "id": "UBjzNyKpQY3p"
      },
      "outputs": [
        {
          "name": "stdout",
          "output_type": "stream",
          "text": [
            "r2: , 0.09703562377377373\n",
            "mae: , 67.84189544989775\n",
            "mse: , 46533.83580379602\n",
            "rmse: , 215.71702715315735\n"
          ]
        }
      ],
      "source": [
        "from sklearn.ensemble import RandomForestRegressor\n",
        "rf = RandomForestRegressor(random_state=42)\n",
        "rf.fit(X_tr, y_tr)\n",
        "pred = rf.predict(X_val)\n",
        "print(\"r2: ,\", r2_score(y_val, pred))\n",
        "print(\"mae: ,\", mean_absolute_error(y_val, pred))\n",
        "print(\"mse: ,\", mean_squared_error(y_val, pred))\n",
        "print(\"rmse: ,\", rmse(y_val, pred))"
      ]
    },
    {
      "cell_type": "code",
      "execution_count": 138,
      "metadata": {
        "id": "wdPc5qIjPAHW"
      },
      "outputs": [
        {
          "name": "stdout",
          "output_type": "stream",
          "text": [
            "r2:  0.14264227657792217\n",
            "mae:  71.26478516941049\n",
            "mse:  44183.51883778398\n",
            "rmse:  210.1987603145746\n",
            "rmsle:  0.5478067646587614\n",
            "mape:  52.3556030052965\n"
          ]
        },
        {
          "name": "stderr",
          "output_type": "stream",
          "text": [
            "/var/folders/qg/kmnhbt9j4md891b99dsdbr9c0000gn/T/ipykernel_51268/42457448.py:8: RuntimeWarning: invalid value encountered in log1p\n",
            "  return np.sqrt(np.mean(np.power(np.log1p(y_test) - np.log1p(y_pred), 2)))\n"
          ]
        }
      ],
      "source": [
        "#랜덤포레스트\n",
        "from xgboost import XGBRegressor\n",
        "\n",
        "model = XGBRegressor(random_state=42)\n",
        "model.fit(X_tr,y_tr)\n",
        "pred=model.predict(X_val)\n",
        "print(\"r2: \",r2_score(y_val, pred))\n",
        "print(\"mae: \",mean_absolute_error(y_val, pred))\n",
        "print(\"mse: \",mean_squared_error(y_val, pred))\n",
        "print(\"rmse: \",rmse(y_val, pred))\n",
        "print(\"rmsle: \",rmsle(y_val, pred))\n",
        "print(\"mape: \",mape(y_val, pred))"
      ]
    },
    {
      "cell_type": "code",
      "execution_count": 137,
      "metadata": {
        "id": "VXPpAghtPALJ"
      },
      "outputs": [
        {
          "name": "stdout",
          "output_type": "stream",
          "text": [
            "r2:  0.24113512494658418\n",
            "mae:  66.19307774173389\n",
            "mse:  39107.73716299594\n",
            "rmse:  197.75676262266214\n",
            "rmsle:  0.49253615710769194\n",
            "mape:  46.078352316219544\n"
          ]
        },
        {
          "name": "stderr",
          "output_type": "stream",
          "text": [
            "/var/folders/qg/kmnhbt9j4md891b99dsdbr9c0000gn/T/ipykernel_51268/42457448.py:8: RuntimeWarning: invalid value encountered in log1p\n",
            "  return np.sqrt(np.mean(np.power(np.log1p(y_test) - np.log1p(y_pred), 2)))\n"
          ]
        }
      ],
      "source": [
        "from lightgbm import LGBMRegressor\n",
        "\n",
        "model = LGBMRegressor(random_state=42, verbose=-1)\n",
        "model.fit(X_tr,y_tr)\n",
        "pred=model.predict(X_val)\n",
        "print(\"r2: \",r2_score(y_val, pred))\n",
        "print(\"mae: \",mean_absolute_error(y_val, pred))\n",
        "print(\"mse: \",mean_squared_error(y_val, pred))\n",
        "print(\"rmse: \",rmse(y_val, pred))\n",
        "print(\"rmsle: \",rmsle(y_val, pred))\n",
        "print(\"mape: \",mape(y_val, pred))"
      ]
    },
    {
      "cell_type": "code",
      "execution_count": 140,
      "metadata": {
        "id": "vGK-shoSPAN4"
      },
      "outputs": [],
      "source": [
        "pred=model.predict(test)"
      ]
    },
    {
      "cell_type": "code",
      "execution_count": 142,
      "metadata": {
        "id": "bv73gQjuUyU-"
      },
      "outputs": [
        {
          "data": {
            "text/plain": [
              "array([352.93826,  94.99342, 174.93753, ..., 139.05786, 163.84447,\n",
              "       180.3265 ], dtype=float32)"
            ]
          },
          "execution_count": 142,
          "metadata": {},
          "output_type": "execute_result"
        }
      ],
      "source": []
    },
    {
      "cell_type": "markdown",
      "metadata": {
        "id": "vENsjupLDUF9"
      },
      "source": [
        "## 예측 및 csv 제출"
      ]
    },
    {
      "cell_type": "code",
      "execution_count": 143,
      "metadata": {
        "id": "0-ycPId6ni4q"
      },
      "outputs": [],
      "source": [
        "submit = pd.DataFrame({\n",
        "    'pred': pred\n",
        "})"
      ]
    },
    {
      "cell_type": "code",
      "execution_count": 145,
      "metadata": {
        "id": "mCrS14SE_fS9"
      },
      "outputs": [],
      "source": [
        "submit.to_csv('연습문제2번제출.csv', index=False)"
      ]
    },
    {
      "cell_type": "markdown",
      "metadata": {
        "id": "CeJ_BK2KDX6Z"
      },
      "source": [
        "##정리"
      ]
    },
    {
      "cell_type": "code",
      "execution_count": 147,
      "metadata": {
        "id": "7VV1wp7zPkUA"
      },
      "outputs": [
        {
          "name": "stdout",
          "output_type": "stream",
          "text": [
            "-0.013293263165693014\n"
          ]
        }
      ],
      "source": [
        "y_test = pd.read_csv(\"ab_nyc/y_test.csv\")\n",
        "pred = pd.read_csv('연습문제2번제출.csv')\n",
        "print(r2_score(y_test, pred))"
      ]
    },
    {
      "cell_type": "code",
      "execution_count": null,
      "metadata": {},
      "outputs": [],
      "source": []
    }
  ],
  "metadata": {
    "colab": {
      "provenance": []
    },
    "kernelspec": {
      "display_name": "Python 3",
      "name": "python3"
    },
    "language_info": {
      "codemirror_mode": {
        "name": "ipython",
        "version": 3
      },
      "file_extension": ".py",
      "mimetype": "text/x-python",
      "name": "python",
      "nbconvert_exporter": "python",
      "pygments_lexer": "ipython3",
      "version": "3.8.18"
    }
  },
  "nbformat": 4,
  "nbformat_minor": 0
}
