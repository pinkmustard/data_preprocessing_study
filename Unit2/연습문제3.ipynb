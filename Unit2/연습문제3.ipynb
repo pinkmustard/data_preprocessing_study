{
  "cells": [
    {
      "cell_type": "markdown",
      "metadata": {
        "id": "k5Z7yULvzpsF"
      },
      "source": [
        "## 심장마비 확률이 높은사람?\n",
        "- 성별, 나이, 혈압, 콜레스테롤, 공복혈당, 최대 심박수 등의 컬럼이 있음\n",
        "- 평가: ROC-AUC, 정확도(Accuracy), F1 을 구하시오\n",
        "- target : output (1:심장마비 확률 높음, 0:심장마비 확률 낮음)\n",
        "- csv파일 생성 : 수험번호.csv (예시 아래 참조)\n",
        "~~~\n",
        "id,output\n",
        "41,0.633\n",
        "28,0.123\n",
        "222,0.355\n",
        "~~~\n",
        "\n"
      ]
    },
    {
      "cell_type": "markdown",
      "metadata": {
        "id": "1qZteLJKC6or"
      },
      "source": [
        "## 데이터 불러오기"
      ]
    },
    {
      "cell_type": "code",
      "execution_count": 1,
      "metadata": {
        "id": "79P4zcpB0CHw"
      },
      "outputs": [],
      "source": [
        "import pandas as pd\n",
        "train = pd.read_csv('heart/2files/train.csv')\n",
        "test = pd.read_csv('heart/2files/test.csv')"
      ]
    },
    {
      "cell_type": "markdown",
      "metadata": {
        "id": "ziiQ-hrGqm5C"
      },
      "source": [
        "##EDA"
      ]
    },
    {
      "cell_type": "code",
      "execution_count": 2,
      "metadata": {
        "id": "VuSfhBQo35KZ"
      },
      "outputs": [
        {
          "name": "stdout",
          "output_type": "stream",
          "text": [
            "(242, 15) (61, 14)\n"
          ]
        }
      ],
      "source": [
        "print(train.shape, test.shape)"
      ]
    },
    {
      "cell_type": "code",
      "execution_count": 3,
      "metadata": {
        "id": "i-9snOFN5HON"
      },
      "outputs": [
        {
          "data": {
            "text/html": [
              "<div>\n",
              "<style scoped>\n",
              "    .dataframe tbody tr th:only-of-type {\n",
              "        vertical-align: middle;\n",
              "    }\n",
              "\n",
              "    .dataframe tbody tr th {\n",
              "        vertical-align: top;\n",
              "    }\n",
              "\n",
              "    .dataframe thead th {\n",
              "        text-align: right;\n",
              "    }\n",
              "</style>\n",
              "<table border=\"1\" class=\"dataframe\">\n",
              "  <thead>\n",
              "    <tr style=\"text-align: right;\">\n",
              "      <th></th>\n",
              "      <th>id</th>\n",
              "      <th>age</th>\n",
              "      <th>sex</th>\n",
              "      <th>cp</th>\n",
              "      <th>trtbps</th>\n",
              "      <th>chol</th>\n",
              "      <th>fbs</th>\n",
              "      <th>restecg</th>\n",
              "      <th>thalachh</th>\n",
              "      <th>exng</th>\n",
              "      <th>oldpeak</th>\n",
              "      <th>slp</th>\n",
              "      <th>caa</th>\n",
              "      <th>thall</th>\n",
              "      <th>output</th>\n",
              "    </tr>\n",
              "  </thead>\n",
              "  <tbody>\n",
              "    <tr>\n",
              "      <th>0</th>\n",
              "      <td>48</td>\n",
              "      <td>53</td>\n",
              "      <td>0</td>\n",
              "      <td>2</td>\n",
              "      <td>128</td>\n",
              "      <td>216</td>\n",
              "      <td>0</td>\n",
              "      <td>0</td>\n",
              "      <td>115</td>\n",
              "      <td>0</td>\n",
              "      <td>0.0</td>\n",
              "      <td>2</td>\n",
              "      <td>0</td>\n",
              "      <td>0</td>\n",
              "      <td>1</td>\n",
              "    </tr>\n",
              "    <tr>\n",
              "      <th>1</th>\n",
              "      <td>124</td>\n",
              "      <td>39</td>\n",
              "      <td>0</td>\n",
              "      <td>2</td>\n",
              "      <td>94</td>\n",
              "      <td>199</td>\n",
              "      <td>0</td>\n",
              "      <td>1</td>\n",
              "      <td>179</td>\n",
              "      <td>0</td>\n",
              "      <td>0.0</td>\n",
              "      <td>2</td>\n",
              "      <td>0</td>\n",
              "      <td>2</td>\n",
              "      <td>1</td>\n",
              "    </tr>\n",
              "  </tbody>\n",
              "</table>\n",
              "</div>"
            ],
            "text/plain": [
              "    id  age  sex  cp  trtbps  chol  fbs  restecg  thalachh  exng  oldpeak  \\\n",
              "0   48   53    0   2     128   216    0        0       115     0      0.0   \n",
              "1  124   39    0   2      94   199    0        1       179     0      0.0   \n",
              "\n",
              "   slp  caa  thall  output  \n",
              "0    2    0      0       1  \n",
              "1    2    0      2       1  "
            ]
          },
          "metadata": {},
          "output_type": "display_data"
        },
        {
          "data": {
            "text/html": [
              "<div>\n",
              "<style scoped>\n",
              "    .dataframe tbody tr th:only-of-type {\n",
              "        vertical-align: middle;\n",
              "    }\n",
              "\n",
              "    .dataframe tbody tr th {\n",
              "        vertical-align: top;\n",
              "    }\n",
              "\n",
              "    .dataframe thead th {\n",
              "        text-align: right;\n",
              "    }\n",
              "</style>\n",
              "<table border=\"1\" class=\"dataframe\">\n",
              "  <thead>\n",
              "    <tr style=\"text-align: right;\">\n",
              "      <th></th>\n",
              "      <th>id</th>\n",
              "      <th>age</th>\n",
              "      <th>sex</th>\n",
              "      <th>cp</th>\n",
              "      <th>trtbps</th>\n",
              "      <th>chol</th>\n",
              "      <th>fbs</th>\n",
              "      <th>restecg</th>\n",
              "      <th>thalachh</th>\n",
              "      <th>exng</th>\n",
              "      <th>oldpeak</th>\n",
              "      <th>slp</th>\n",
              "      <th>caa</th>\n",
              "      <th>thall</th>\n",
              "    </tr>\n",
              "  </thead>\n",
              "  <tbody>\n",
              "    <tr>\n",
              "      <th>0</th>\n",
              "      <td>41</td>\n",
              "      <td>48</td>\n",
              "      <td>1</td>\n",
              "      <td>1</td>\n",
              "      <td>130</td>\n",
              "      <td>245</td>\n",
              "      <td>0</td>\n",
              "      <td>0</td>\n",
              "      <td>180</td>\n",
              "      <td>0</td>\n",
              "      <td>0.2</td>\n",
              "      <td>1</td>\n",
              "      <td>0</td>\n",
              "      <td>2</td>\n",
              "    </tr>\n",
              "    <tr>\n",
              "      <th>1</th>\n",
              "      <td>28</td>\n",
              "      <td>65</td>\n",
              "      <td>0</td>\n",
              "      <td>2</td>\n",
              "      <td>140</td>\n",
              "      <td>417</td>\n",
              "      <td>1</td>\n",
              "      <td>0</td>\n",
              "      <td>157</td>\n",
              "      <td>0</td>\n",
              "      <td>0.8</td>\n",
              "      <td>2</td>\n",
              "      <td>1</td>\n",
              "      <td>2</td>\n",
              "    </tr>\n",
              "  </tbody>\n",
              "</table>\n",
              "</div>"
            ],
            "text/plain": [
              "   id  age  sex  cp  trtbps  chol  fbs  restecg  thalachh  exng  oldpeak  slp  \\\n",
              "0  41   48    1   1     130   245    0        0       180     0      0.2    1   \n",
              "1  28   65    0   2     140   417    1        0       157     0      0.8    2   \n",
              "\n",
              "   caa  thall  \n",
              "0    0      2  \n",
              "1    1      2  "
            ]
          },
          "execution_count": 3,
          "metadata": {},
          "output_type": "execute_result"
        }
      ],
      "source": [
        "display(train.head(2)) # 타깃: output, 분류\n",
        "test.head(2)"
      ]
    },
    {
      "cell_type": "code",
      "execution_count": 6,
      "metadata": {
        "id": "uFCB_ns75HQe"
      },
      "outputs": [
        {
          "name": "stdout",
          "output_type": "stream",
          "text": [
            "<class 'pandas.core.frame.DataFrame'>\n",
            "RangeIndex: 242 entries, 0 to 241\n",
            "Data columns (total 15 columns):\n",
            " #   Column    Non-Null Count  Dtype  \n",
            "---  ------    --------------  -----  \n",
            " 0   id        242 non-null    int64  \n",
            " 1   age       242 non-null    int64  \n",
            " 2   sex       242 non-null    int64  \n",
            " 3   cp        242 non-null    int64  \n",
            " 4   trtbps    242 non-null    int64  \n",
            " 5   chol      242 non-null    int64  \n",
            " 6   fbs       242 non-null    int64  \n",
            " 7   restecg   242 non-null    int64  \n",
            " 8   thalachh  242 non-null    int64  \n",
            " 9   exng      242 non-null    int64  \n",
            " 10  oldpeak   242 non-null    float64\n",
            " 11  slp       242 non-null    int64  \n",
            " 12  caa       242 non-null    int64  \n",
            " 13  thall     242 non-null    int64  \n",
            " 14  output    242 non-null    int64  \n",
            "dtypes: float64(1), int64(14)\n",
            "memory usage: 28.5 KB\n",
            "None\n"
          ]
        }
      ],
      "source": [
        "print(train.info())"
      ]
    },
    {
      "cell_type": "code",
      "execution_count": 7,
      "metadata": {
        "id": "udC6jEWz5HTQ"
      },
      "outputs": [
        {
          "name": "stdout",
          "output_type": "stream",
          "text": [
            "<class 'pandas.core.frame.DataFrame'>\n",
            "RangeIndex: 61 entries, 0 to 60\n",
            "Data columns (total 14 columns):\n",
            " #   Column    Non-Null Count  Dtype  \n",
            "---  ------    --------------  -----  \n",
            " 0   id        61 non-null     int64  \n",
            " 1   age       61 non-null     int64  \n",
            " 2   sex       61 non-null     int64  \n",
            " 3   cp        61 non-null     int64  \n",
            " 4   trtbps    61 non-null     int64  \n",
            " 5   chol      61 non-null     int64  \n",
            " 6   fbs       61 non-null     int64  \n",
            " 7   restecg   61 non-null     int64  \n",
            " 8   thalachh  61 non-null     int64  \n",
            " 9   exng      61 non-null     int64  \n",
            " 10  oldpeak   61 non-null     float64\n",
            " 11  slp       61 non-null     int64  \n",
            " 12  caa       61 non-null     int64  \n",
            " 13  thall     61 non-null     int64  \n",
            "dtypes: float64(1), int64(13)\n",
            "memory usage: 6.8 KB\n",
            "None\n"
          ]
        }
      ],
      "source": [
        "print(test.info())"
      ]
    },
    {
      "cell_type": "code",
      "execution_count": 8,
      "metadata": {
        "id": "pjlq1e995XxU"
      },
      "outputs": [
        {
          "data": {
            "text/html": [
              "<div>\n",
              "<style scoped>\n",
              "    .dataframe tbody tr th:only-of-type {\n",
              "        vertical-align: middle;\n",
              "    }\n",
              "\n",
              "    .dataframe tbody tr th {\n",
              "        vertical-align: top;\n",
              "    }\n",
              "\n",
              "    .dataframe thead th {\n",
              "        text-align: right;\n",
              "    }\n",
              "</style>\n",
              "<table border=\"1\" class=\"dataframe\">\n",
              "  <thead>\n",
              "    <tr style=\"text-align: right;\">\n",
              "      <th></th>\n",
              "      <th>id</th>\n",
              "      <th>age</th>\n",
              "      <th>sex</th>\n",
              "      <th>cp</th>\n",
              "      <th>trtbps</th>\n",
              "      <th>chol</th>\n",
              "      <th>fbs</th>\n",
              "      <th>restecg</th>\n",
              "      <th>thalachh</th>\n",
              "      <th>exng</th>\n",
              "      <th>oldpeak</th>\n",
              "      <th>slp</th>\n",
              "      <th>caa</th>\n",
              "      <th>thall</th>\n",
              "      <th>output</th>\n",
              "    </tr>\n",
              "  </thead>\n",
              "  <tbody>\n",
              "    <tr>\n",
              "      <th>count</th>\n",
              "      <td>242.000000</td>\n",
              "      <td>242.000000</td>\n",
              "      <td>242.000000</td>\n",
              "      <td>242.000000</td>\n",
              "      <td>242.000000</td>\n",
              "      <td>242.000000</td>\n",
              "      <td>242.000000</td>\n",
              "      <td>242.00000</td>\n",
              "      <td>242.000000</td>\n",
              "      <td>242.000000</td>\n",
              "      <td>242.000000</td>\n",
              "      <td>242.000000</td>\n",
              "      <td>242.000000</td>\n",
              "      <td>242.000000</td>\n",
              "      <td>242.000000</td>\n",
              "    </tr>\n",
              "    <tr>\n",
              "      <th>mean</th>\n",
              "      <td>154.706612</td>\n",
              "      <td>54.516529</td>\n",
              "      <td>0.673554</td>\n",
              "      <td>0.913223</td>\n",
              "      <td>131.070248</td>\n",
              "      <td>246.933884</td>\n",
              "      <td>0.119835</td>\n",
              "      <td>0.53719</td>\n",
              "      <td>149.590909</td>\n",
              "      <td>0.347107</td>\n",
              "      <td>1.019835</td>\n",
              "      <td>1.380165</td>\n",
              "      <td>0.785124</td>\n",
              "      <td>2.347107</td>\n",
              "      <td>0.520661</td>\n",
              "    </tr>\n",
              "    <tr>\n",
              "      <th>std</th>\n",
              "      <td>86.328576</td>\n",
              "      <td>9.021513</td>\n",
              "      <td>0.469885</td>\n",
              "      <td>1.020897</td>\n",
              "      <td>17.716978</td>\n",
              "      <td>52.236414</td>\n",
              "      <td>0.325441</td>\n",
              "      <td>0.53183</td>\n",
              "      <td>21.763201</td>\n",
              "      <td>0.477037</td>\n",
              "      <td>1.182137</td>\n",
              "      <td>0.621285</td>\n",
              "      <td>1.052218</td>\n",
              "      <td>0.607160</td>\n",
              "      <td>0.500608</td>\n",
              "    </tr>\n",
              "    <tr>\n",
              "      <th>min</th>\n",
              "      <td>0.000000</td>\n",
              "      <td>34.000000</td>\n",
              "      <td>0.000000</td>\n",
              "      <td>0.000000</td>\n",
              "      <td>94.000000</td>\n",
              "      <td>126.000000</td>\n",
              "      <td>0.000000</td>\n",
              "      <td>0.00000</td>\n",
              "      <td>88.000000</td>\n",
              "      <td>0.000000</td>\n",
              "      <td>0.000000</td>\n",
              "      <td>0.000000</td>\n",
              "      <td>0.000000</td>\n",
              "      <td>0.000000</td>\n",
              "      <td>0.000000</td>\n",
              "    </tr>\n",
              "    <tr>\n",
              "      <th>25%</th>\n",
              "      <td>81.250000</td>\n",
              "      <td>47.250000</td>\n",
              "      <td>0.000000</td>\n",
              "      <td>0.000000</td>\n",
              "      <td>120.000000</td>\n",
              "      <td>212.000000</td>\n",
              "      <td>0.000000</td>\n",
              "      <td>0.00000</td>\n",
              "      <td>133.250000</td>\n",
              "      <td>0.000000</td>\n",
              "      <td>0.000000</td>\n",
              "      <td>1.000000</td>\n",
              "      <td>0.000000</td>\n",
              "      <td>2.000000</td>\n",
              "      <td>0.000000</td>\n",
              "    </tr>\n",
              "    <tr>\n",
              "      <th>50%</th>\n",
              "      <td>158.500000</td>\n",
              "      <td>55.000000</td>\n",
              "      <td>1.000000</td>\n",
              "      <td>1.000000</td>\n",
              "      <td>130.000000</td>\n",
              "      <td>243.000000</td>\n",
              "      <td>0.000000</td>\n",
              "      <td>1.00000</td>\n",
              "      <td>152.000000</td>\n",
              "      <td>0.000000</td>\n",
              "      <td>0.600000</td>\n",
              "      <td>1.000000</td>\n",
              "      <td>0.000000</td>\n",
              "      <td>2.000000</td>\n",
              "      <td>1.000000</td>\n",
              "    </tr>\n",
              "    <tr>\n",
              "      <th>75%</th>\n",
              "      <td>228.750000</td>\n",
              "      <td>61.000000</td>\n",
              "      <td>1.000000</td>\n",
              "      <td>2.000000</td>\n",
              "      <td>140.000000</td>\n",
              "      <td>274.000000</td>\n",
              "      <td>0.000000</td>\n",
              "      <td>1.00000</td>\n",
              "      <td>165.000000</td>\n",
              "      <td>1.000000</td>\n",
              "      <td>1.600000</td>\n",
              "      <td>2.000000</td>\n",
              "      <td>1.000000</td>\n",
              "      <td>3.000000</td>\n",
              "      <td>1.000000</td>\n",
              "    </tr>\n",
              "    <tr>\n",
              "      <th>max</th>\n",
              "      <td>302.000000</td>\n",
              "      <td>77.000000</td>\n",
              "      <td>1.000000</td>\n",
              "      <td>3.000000</td>\n",
              "      <td>200.000000</td>\n",
              "      <td>564.000000</td>\n",
              "      <td>1.000000</td>\n",
              "      <td>2.00000</td>\n",
              "      <td>195.000000</td>\n",
              "      <td>1.000000</td>\n",
              "      <td>6.200000</td>\n",
              "      <td>2.000000</td>\n",
              "      <td>4.000000</td>\n",
              "      <td>3.000000</td>\n",
              "      <td>1.000000</td>\n",
              "    </tr>\n",
              "  </tbody>\n",
              "</table>\n",
              "</div>"
            ],
            "text/plain": [
              "               id         age         sex          cp      trtbps        chol  \\\n",
              "count  242.000000  242.000000  242.000000  242.000000  242.000000  242.000000   \n",
              "mean   154.706612   54.516529    0.673554    0.913223  131.070248  246.933884   \n",
              "std     86.328576    9.021513    0.469885    1.020897   17.716978   52.236414   \n",
              "min      0.000000   34.000000    0.000000    0.000000   94.000000  126.000000   \n",
              "25%     81.250000   47.250000    0.000000    0.000000  120.000000  212.000000   \n",
              "50%    158.500000   55.000000    1.000000    1.000000  130.000000  243.000000   \n",
              "75%    228.750000   61.000000    1.000000    2.000000  140.000000  274.000000   \n",
              "max    302.000000   77.000000    1.000000    3.000000  200.000000  564.000000   \n",
              "\n",
              "              fbs    restecg    thalachh        exng     oldpeak         slp  \\\n",
              "count  242.000000  242.00000  242.000000  242.000000  242.000000  242.000000   \n",
              "mean     0.119835    0.53719  149.590909    0.347107    1.019835    1.380165   \n",
              "std      0.325441    0.53183   21.763201    0.477037    1.182137    0.621285   \n",
              "min      0.000000    0.00000   88.000000    0.000000    0.000000    0.000000   \n",
              "25%      0.000000    0.00000  133.250000    0.000000    0.000000    1.000000   \n",
              "50%      0.000000    1.00000  152.000000    0.000000    0.600000    1.000000   \n",
              "75%      0.000000    1.00000  165.000000    1.000000    1.600000    2.000000   \n",
              "max      1.000000    2.00000  195.000000    1.000000    6.200000    2.000000   \n",
              "\n",
              "              caa       thall      output  \n",
              "count  242.000000  242.000000  242.000000  \n",
              "mean     0.785124    2.347107    0.520661  \n",
              "std      1.052218    0.607160    0.500608  \n",
              "min      0.000000    0.000000    0.000000  \n",
              "25%      0.000000    2.000000    0.000000  \n",
              "50%      0.000000    2.000000    1.000000  \n",
              "75%      1.000000    3.000000    1.000000  \n",
              "max      4.000000    3.000000    1.000000  "
            ]
          },
          "execution_count": 8,
          "metadata": {},
          "output_type": "execute_result"
        }
      ],
      "source": [
        "train.describe()"
      ]
    },
    {
      "cell_type": "code",
      "execution_count": 9,
      "metadata": {
        "id": "0nUtOKYa5aRp"
      },
      "outputs": [
        {
          "data": {
            "text/html": [
              "<div>\n",
              "<style scoped>\n",
              "    .dataframe tbody tr th:only-of-type {\n",
              "        vertical-align: middle;\n",
              "    }\n",
              "\n",
              "    .dataframe tbody tr th {\n",
              "        vertical-align: top;\n",
              "    }\n",
              "\n",
              "    .dataframe thead th {\n",
              "        text-align: right;\n",
              "    }\n",
              "</style>\n",
              "<table border=\"1\" class=\"dataframe\">\n",
              "  <thead>\n",
              "    <tr style=\"text-align: right;\">\n",
              "      <th></th>\n",
              "      <th>id</th>\n",
              "      <th>age</th>\n",
              "      <th>sex</th>\n",
              "      <th>cp</th>\n",
              "      <th>trtbps</th>\n",
              "      <th>chol</th>\n",
              "      <th>fbs</th>\n",
              "      <th>restecg</th>\n",
              "      <th>thalachh</th>\n",
              "      <th>exng</th>\n",
              "      <th>oldpeak</th>\n",
              "      <th>slp</th>\n",
              "      <th>caa</th>\n",
              "      <th>thall</th>\n",
              "    </tr>\n",
              "  </thead>\n",
              "  <tbody>\n",
              "    <tr>\n",
              "      <th>count</th>\n",
              "      <td>61.000000</td>\n",
              "      <td>61.000000</td>\n",
              "      <td>61.000000</td>\n",
              "      <td>61.000000</td>\n",
              "      <td>61.000000</td>\n",
              "      <td>61.000000</td>\n",
              "      <td>61.000000</td>\n",
              "      <td>61.000000</td>\n",
              "      <td>61.000000</td>\n",
              "      <td>61.000000</td>\n",
              "      <td>61.000000</td>\n",
              "      <td>61.000000</td>\n",
              "      <td>61.000000</td>\n",
              "      <td>61.000000</td>\n",
              "    </tr>\n",
              "    <tr>\n",
              "      <th>mean</th>\n",
              "      <td>136.295082</td>\n",
              "      <td>53.770492</td>\n",
              "      <td>0.721311</td>\n",
              "      <td>1.180328</td>\n",
              "      <td>133.819672</td>\n",
              "      <td>243.606557</td>\n",
              "      <td>0.262295</td>\n",
              "      <td>0.491803</td>\n",
              "      <td>149.868852</td>\n",
              "      <td>0.245902</td>\n",
              "      <td>1.118033</td>\n",
              "      <td>1.475410</td>\n",
              "      <td>0.508197</td>\n",
              "      <td>2.180328</td>\n",
              "    </tr>\n",
              "    <tr>\n",
              "      <th>std</th>\n",
              "      <td>91.792764</td>\n",
              "      <td>9.370865</td>\n",
              "      <td>0.452075</td>\n",
              "      <td>1.056854</td>\n",
              "      <td>16.770518</td>\n",
              "      <td>50.523684</td>\n",
              "      <td>0.443533</td>\n",
              "      <td>0.504082</td>\n",
              "      <td>27.170128</td>\n",
              "      <td>0.434194</td>\n",
              "      <td>1.079121</td>\n",
              "      <td>0.594602</td>\n",
              "      <td>0.868388</td>\n",
              "      <td>0.619360</td>\n",
              "    </tr>\n",
              "    <tr>\n",
              "      <th>min</th>\n",
              "      <td>1.000000</td>\n",
              "      <td>29.000000</td>\n",
              "      <td>0.000000</td>\n",
              "      <td>0.000000</td>\n",
              "      <td>105.000000</td>\n",
              "      <td>168.000000</td>\n",
              "      <td>0.000000</td>\n",
              "      <td>0.000000</td>\n",
              "      <td>71.000000</td>\n",
              "      <td>0.000000</td>\n",
              "      <td>0.000000</td>\n",
              "      <td>0.000000</td>\n",
              "      <td>0.000000</td>\n",
              "      <td>0.000000</td>\n",
              "    </tr>\n",
              "    <tr>\n",
              "      <th>25%</th>\n",
              "      <td>64.000000</td>\n",
              "      <td>48.000000</td>\n",
              "      <td>0.000000</td>\n",
              "      <td>0.000000</td>\n",
              "      <td>120.000000</td>\n",
              "      <td>204.000000</td>\n",
              "      <td>0.000000</td>\n",
              "      <td>0.000000</td>\n",
              "      <td>138.000000</td>\n",
              "      <td>0.000000</td>\n",
              "      <td>0.000000</td>\n",
              "      <td>1.000000</td>\n",
              "      <td>0.000000</td>\n",
              "      <td>2.000000</td>\n",
              "    </tr>\n",
              "    <tr>\n",
              "      <th>50%</th>\n",
              "      <td>133.000000</td>\n",
              "      <td>56.000000</td>\n",
              "      <td>1.000000</td>\n",
              "      <td>1.000000</td>\n",
              "      <td>132.000000</td>\n",
              "      <td>235.000000</td>\n",
              "      <td>0.000000</td>\n",
              "      <td>0.000000</td>\n",
              "      <td>157.000000</td>\n",
              "      <td>0.000000</td>\n",
              "      <td>1.000000</td>\n",
              "      <td>2.000000</td>\n",
              "      <td>0.000000</td>\n",
              "      <td>2.000000</td>\n",
              "    </tr>\n",
              "    <tr>\n",
              "      <th>75%</th>\n",
              "      <td>206.000000</td>\n",
              "      <td>59.000000</td>\n",
              "      <td>1.000000</td>\n",
              "      <td>2.000000</td>\n",
              "      <td>144.000000</td>\n",
              "      <td>277.000000</td>\n",
              "      <td>1.000000</td>\n",
              "      <td>1.000000</td>\n",
              "      <td>170.000000</td>\n",
              "      <td>0.000000</td>\n",
              "      <td>1.600000</td>\n",
              "      <td>2.000000</td>\n",
              "      <td>1.000000</td>\n",
              "      <td>3.000000</td>\n",
              "    </tr>\n",
              "    <tr>\n",
              "      <th>max</th>\n",
              "      <td>300.000000</td>\n",
              "      <td>69.000000</td>\n",
              "      <td>1.000000</td>\n",
              "      <td>3.000000</td>\n",
              "      <td>180.000000</td>\n",
              "      <td>417.000000</td>\n",
              "      <td>1.000000</td>\n",
              "      <td>1.000000</td>\n",
              "      <td>202.000000</td>\n",
              "      <td>1.000000</td>\n",
              "      <td>4.000000</td>\n",
              "      <td>2.000000</td>\n",
              "      <td>4.000000</td>\n",
              "      <td>3.000000</td>\n",
              "    </tr>\n",
              "  </tbody>\n",
              "</table>\n",
              "</div>"
            ],
            "text/plain": [
              "               id        age        sex         cp      trtbps        chol  \\\n",
              "count   61.000000  61.000000  61.000000  61.000000   61.000000   61.000000   \n",
              "mean   136.295082  53.770492   0.721311   1.180328  133.819672  243.606557   \n",
              "std     91.792764   9.370865   0.452075   1.056854   16.770518   50.523684   \n",
              "min      1.000000  29.000000   0.000000   0.000000  105.000000  168.000000   \n",
              "25%     64.000000  48.000000   0.000000   0.000000  120.000000  204.000000   \n",
              "50%    133.000000  56.000000   1.000000   1.000000  132.000000  235.000000   \n",
              "75%    206.000000  59.000000   1.000000   2.000000  144.000000  277.000000   \n",
              "max    300.000000  69.000000   1.000000   3.000000  180.000000  417.000000   \n",
              "\n",
              "             fbs    restecg    thalachh       exng    oldpeak        slp  \\\n",
              "count  61.000000  61.000000   61.000000  61.000000  61.000000  61.000000   \n",
              "mean    0.262295   0.491803  149.868852   0.245902   1.118033   1.475410   \n",
              "std     0.443533   0.504082   27.170128   0.434194   1.079121   0.594602   \n",
              "min     0.000000   0.000000   71.000000   0.000000   0.000000   0.000000   \n",
              "25%     0.000000   0.000000  138.000000   0.000000   0.000000   1.000000   \n",
              "50%     0.000000   0.000000  157.000000   0.000000   1.000000   2.000000   \n",
              "75%     1.000000   1.000000  170.000000   0.000000   1.600000   2.000000   \n",
              "max     1.000000   1.000000  202.000000   1.000000   4.000000   2.000000   \n",
              "\n",
              "             caa      thall  \n",
              "count  61.000000  61.000000  \n",
              "mean    0.508197   2.180328  \n",
              "std     0.868388   0.619360  \n",
              "min     0.000000   0.000000  \n",
              "25%     0.000000   2.000000  \n",
              "50%     0.000000   2.000000  \n",
              "75%     1.000000   3.000000  \n",
              "max     4.000000   3.000000  "
            ]
          },
          "execution_count": 9,
          "metadata": {},
          "output_type": "execute_result"
        }
      ],
      "source": [
        "test.describe()"
      ]
    },
    {
      "cell_type": "code",
      "execution_count": 13,
      "metadata": {},
      "outputs": [
        {
          "name": "stdout",
          "output_type": "stream",
          "text": [
            "id          0\n",
            "age         0\n",
            "sex         0\n",
            "cp          0\n",
            "trtbps      0\n",
            "chol        0\n",
            "fbs         0\n",
            "restecg     0\n",
            "thalachh    0\n",
            "exng        0\n",
            "oldpeak     0\n",
            "slp         0\n",
            "caa         0\n",
            "thall       0\n",
            "dtype: int64\n"
          ]
        }
      ],
      "source": [
        "print(train.isnull().sum())"
      ]
    },
    {
      "cell_type": "code",
      "execution_count": 12,
      "metadata": {},
      "outputs": [
        {
          "name": "stdout",
          "output_type": "stream",
          "text": [
            "id          0\n",
            "age         0\n",
            "sex         0\n",
            "cp          0\n",
            "trtbps      0\n",
            "chol        0\n",
            "fbs         0\n",
            "restecg     0\n",
            "thalachh    0\n",
            "exng        0\n",
            "oldpeak     0\n",
            "slp         0\n",
            "caa         0\n",
            "thall       0\n",
            "dtype: int64\n"
          ]
        }
      ],
      "source": [
        "print(test.isnull().sum())"
      ]
    },
    {
      "cell_type": "markdown",
      "metadata": {
        "id": "DiUkXUO16g-G"
      },
      "source": [
        "## 데이터 전처리 & 피처엔지니어링"
      ]
    },
    {
      "cell_type": "code",
      "execution_count": 10,
      "metadata": {
        "id": "9ximu2N14EWA"
      },
      "outputs": [],
      "source": [
        "target = train.pop('output')"
      ]
    },
    {
      "cell_type": "markdown",
      "metadata": {
        "id": "2wXHbPi9DEwb"
      },
      "source": [
        "## 검증 데이터 분리"
      ]
    },
    {
      "cell_type": "code",
      "execution_count": 14,
      "metadata": {
        "id": "NLf2OsLc38wm"
      },
      "outputs": [],
      "source": [
        "from sklearn.model_selection import train_test_split\n",
        "X_tr, X_val, y_tr, y_val = train_test_split(train, target, test_size = 0.15, random_state=42)"
      ]
    },
    {
      "cell_type": "code",
      "execution_count": 15,
      "metadata": {
        "id": "cTr_t52X6w_Z"
      },
      "outputs": [
        {
          "name": "stdout",
          "output_type": "stream",
          "text": [
            "(205, 14) (37, 14) (205,) (37,)\n"
          ]
        }
      ],
      "source": [
        "print(X_tr.shape, X_val.shape, y_tr.shape, y_val.shape)"
      ]
    },
    {
      "cell_type": "markdown",
      "metadata": {
        "id": "6zrIYRkcDN4j"
      },
      "source": [
        "## 모델 & 평가"
      ]
    },
    {
      "cell_type": "code",
      "execution_count": 17,
      "metadata": {
        "id": "L10uGfxQzxvg"
      },
      "outputs": [
        {
          "name": "stdout",
          "output_type": "stream",
          "text": [
            "정확도: 1.0\n",
            "F1: 1.0\n",
            "Roc: 1.0\n"
          ]
        }
      ],
      "source": [
        "from sklearn.ensemble import RandomForestClassifier\n",
        "from sklearn.metrics import accuracy_score, f1_score, roc_auc_score\n",
        "rf = RandomForestClassifier(random_state=42)\n",
        "rf.fit(X_tr, y_tr)\n",
        "pred = rf.predict(X_val)\n",
        "pred_proba = rf.predict_proba(X_val)\n",
        "print(\"정확도:\", accuracy_score(y_val, pred))\n",
        "print(\"F1:\", f1_score(y_val, pred))\n",
        "print(\"Roc:\", roc_auc_score(y_val, pred_proba[:, 1]))"
      ]
    },
    {
      "cell_type": "code",
      "execution_count": 18,
      "metadata": {
        "id": "jROlncUA66cS"
      },
      "outputs": [
        {
          "name": "stdout",
          "output_type": "stream",
          "text": [
            "정확도: 0.972972972972973\n",
            "F1: 0.9696969696969697\n",
            "Roc: 0.9761904761904762\n"
          ]
        }
      ],
      "source": [
        "from xgboost import XGBClassifier\n",
        "from sklearn.metrics import accuracy_score, f1_score, roc_auc_score\n",
        "xgb = XGBClassifier(random_state=42)\n",
        "xgb.fit(X_tr, y_tr)\n",
        "pred = xgb.predict(X_val)\n",
        "pred_proba = xgb.predict_proba(X_val)\n",
        "print(\"정확도:\", accuracy_score(y_val, pred))\n",
        "print(\"F1:\", f1_score(y_val, pred))\n",
        "print(\"Roc:\", roc_auc_score(y_val, pred_proba[:, 1]))"
      ]
    },
    {
      "cell_type": "code",
      "execution_count": 19,
      "metadata": {},
      "outputs": [
        {
          "name": "stdout",
          "output_type": "stream",
          "text": [
            "정확도: 1.0\n",
            "F1: 1.0\n",
            "Roc: 1.0\n"
          ]
        }
      ],
      "source": [
        "from lightgbm import LGBMClassifier\n",
        "from sklearn.metrics import accuracy_score, f1_score, roc_auc_score\n",
        "xgb = LGBMClassifier(random_state=42, verbose= -1)\n",
        "xgb.fit(X_tr, y_tr)\n",
        "pred = xgb.predict(X_val)\n",
        "pred_proba = xgb.predict_proba(X_val)\n",
        "print(\"정확도:\", accuracy_score(y_val, pred))\n",
        "print(\"F1:\", f1_score(y_val, pred))\n",
        "print(\"Roc:\", roc_auc_score(y_val, pred_proba[:, 1]))"
      ]
    },
    {
      "cell_type": "markdown",
      "metadata": {
        "id": "vENsjupLDUF9"
      },
      "source": [
        "## 예측 및 csv 제출"
      ]
    },
    {
      "cell_type": "code",
      "execution_count": 26,
      "metadata": {
        "id": "0-ycPId6ni4q"
      },
      "outputs": [],
      "source": [
        "pred_proba = xgb.predict_proba(test)\n",
        "submit = pd.DataFrame(\n",
        "    {\n",
        "        'pred': pred_proba[:, 1]\n",
        "    }\n",
        ")\n",
        "submit.to_csv('연습문제3번제출.csv', index=False)"
      ]
    },
    {
      "cell_type": "markdown",
      "metadata": {
        "id": "CeJ_BK2KDX6Z"
      },
      "source": [
        "##정리"
      ]
    },
    {
      "cell_type": "code",
      "execution_count": 27,
      "metadata": {
        "id": "7VV1wp7zPkUA"
      },
      "outputs": [
        {
          "name": "stdout",
          "output_type": "stream",
          "text": [
            "1.0\n"
          ]
        }
      ],
      "source": [
        "y_test = pd.read_csv(\"heart/2files/y_test.csv\")\n",
        "pred = pd.read_csv(\"연습문제3번제출.csv\")\n",
        "print(roc_auc_score(y_test, pred))"
      ]
    },
    {
      "cell_type": "code",
      "execution_count": null,
      "metadata": {
        "id": "QF8WtfCMAQn1"
      },
      "outputs": [],
      "source": []
    }
  ],
  "metadata": {
    "colab": {
      "provenance": []
    },
    "kernelspec": {
      "display_name": "Python 3",
      "name": "python3"
    },
    "language_info": {
      "codemirror_mode": {
        "name": "ipython",
        "version": 3
      },
      "file_extension": ".py",
      "mimetype": "text/x-python",
      "name": "python",
      "nbconvert_exporter": "python",
      "pygments_lexer": "ipython3",
      "version": "3.8.18"
    }
  },
  "nbformat": 4,
  "nbformat_minor": 0
}
