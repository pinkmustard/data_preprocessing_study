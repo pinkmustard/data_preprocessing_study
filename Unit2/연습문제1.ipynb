{
  "cells": [
    {
      "cell_type": "markdown",
      "metadata": {
        "id": "k5Z7yULvzpsF"
      },
      "source": [
        "## 신용카드서비스를 떠나는 고객을 찾아라\n",
        "- 나이, 급여, 결혼 상태, 신용 카드 한도, 신용 카드 카테고리 등의 컬럼이 있음\n",
        "- 평가: ROC-AUC, 정확도(Accuracy), F1, 정밀도(Precision), 재현율(Recall)을 구하시오\n",
        "- target : Attrition_Flag (1:이탈, 0:유지)\n",
        "- csv파일 생성 : 수험번호.csv (예시 아래 참조)\n",
        "~~~\n",
        "CLIENTNUM,Attrition_Flag\n",
        "788544108,0.633\n",
        "719356008,0.123\n",
        "712142733,0.355\n",
        "~~~\n",
        "\n",
        "\n",
        "### 평가(분류)\n",
        "~~~\n",
        "from sklearn.metrics import accuracy_score, precision_score, recall_score, f1_score, roc_auc_score\n",
        "\n",
        "# 정확도\n",
        "print(accuracy_score(y_test, pred))\n",
        "\n",
        "# 정밀도\n",
        "print(precision_score(y_test, pred))\n",
        "\n",
        "# 재현율 (민감도)\n",
        "print(recall_score(y_test, pred))\n",
        "\n",
        "# F1\n",
        "print(f1_score(y_test , pred))\n",
        "\n",
        "# roc-auc\n",
        "print(roc_auc_score(y_test, pred_proba))\n",
        "~~~"
      ]
    },
    {
      "cell_type": "markdown",
      "metadata": {
        "id": "1qZteLJKC6or"
      },
      "source": [
        "## 데이터 불러오기"
      ]
    },
    {
      "cell_type": "code",
      "execution_count": 25,
      "metadata": {
        "id": "79P4zcpB0CHw"
      },
      "outputs": [],
      "source": [
        "import pandas as pd\n",
        "train = pd.read_csv('ceredit card/train.csv')\n",
        "test = pd.read_csv('ceredit card/test.csv')"
      ]
    },
    {
      "cell_type": "code",
      "execution_count": 26,
      "metadata": {
        "id": "wME7uA8AFQMj"
      },
      "outputs": [
        {
          "name": "stdout",
          "output_type": "stream",
          "text": [
            "(8101, 21) (2026, 20)\n"
          ]
        }
      ],
      "source": [
        "print(train.shape, test.shape)"
      ]
    },
    {
      "cell_type": "markdown",
      "metadata": {
        "id": "DiUkXUO16g-G"
      },
      "source": [
        "## 데이터 전처리 & 피처엔지니어링"
      ]
    },
    {
      "cell_type": "code",
      "execution_count": 10,
      "metadata": {
        "id": "5bjHRRyIDNFt"
      },
      "outputs": [],
      "source": [
        "# 결측치 없음\n",
        "# print(train.isnull().sum())\n",
        "# print(test.isnull().sum())"
      ]
    },
    {
      "cell_type": "code",
      "execution_count": 9,
      "metadata": {
        "id": "Q5R7aMAvIPDQ"
      },
      "outputs": [],
      "source": [
        "# 기본 통계\n",
        "# print(train.describe())\n",
        "# print(test.describe())"
      ]
    },
    {
      "cell_type": "code",
      "execution_count": 13,
      "metadata": {
        "id": "4I93HloaIpfl"
      },
      "outputs": [
        {
          "name": "stdout",
          "output_type": "stream",
          "text": [
            "       Gender Education_Level Marital_Status Income_Category Card_Category\n",
            "count    2026            2026           2026            2026          2026\n",
            "unique      2               7              4               6             4\n",
            "top         F        Graduate        Married  Less than $40K          Blue\n",
            "freq     1054             647            912             701          1893\n"
          ]
        }
      ],
      "source": [
        "# 범주형 통계\n",
        "# print(train.describe(include='O'))\n",
        "print(test.describe(include='O'))"
      ]
    },
    {
      "cell_type": "code",
      "execution_count": 27,
      "metadata": {
        "id": "PjsEFlR1Ipw_"
      },
      "outputs": [],
      "source": [
        "train = train.select_dtypes(exclude='object')\n",
        "test = test.select_dtypes(exclude='object')"
      ]
    },
    {
      "cell_type": "code",
      "execution_count": 29,
      "metadata": {
        "id": "ept4_xmfI1lI"
      },
      "outputs": [
        {
          "name": "stdout",
          "output_type": "stream",
          "text": [
            "(8101, 15) (2026, 15)\n"
          ]
        }
      ],
      "source": [
        "y_train = train.pop('Attrition_Flag')\n",
        "# print(train.shape, test.shape)"
      ]
    },
    {
      "cell_type": "markdown",
      "metadata": {
        "id": "2wXHbPi9DEwb"
      },
      "source": [
        "## 검증 데이터 분리"
      ]
    },
    {
      "cell_type": "code",
      "execution_count": 30,
      "metadata": {
        "id": "qSUGLBe3DObS"
      },
      "outputs": [],
      "source": [
        "from sklearn.model_selection import train_test_split\n",
        "X_tr, X_val, y_tr, y_val = train_test_split(train, y_train, test_size=0.2, random_state = 42)"
      ]
    },
    {
      "cell_type": "code",
      "execution_count": 31,
      "metadata": {
        "id": "ae2iZsXaIE8U"
      },
      "outputs": [
        {
          "name": "stdout",
          "output_type": "stream",
          "text": [
            "(6480, 15) (1621, 15) (6480,) (1621,)\n"
          ]
        }
      ],
      "source": [
        "print(X_tr.shape, X_val.shape, y_tr.shape, y_val.shape)"
      ]
    },
    {
      "cell_type": "markdown",
      "metadata": {
        "id": "6zrIYRkcDN4j"
      },
      "source": [
        "## 모델 & 평가"
      ]
    },
    {
      "cell_type": "code",
      "execution_count": 35,
      "metadata": {
        "id": "KsW_xRwMDTzJ"
      },
      "outputs": [
        {
          "name": "stdout",
          "output_type": "stream",
          "text": [
            "정확도:  0.9574336829117829\n",
            "F1:  0.8644400785854617\n",
            "정밀도:  0.9523809523809523\n",
            "재현율:  0.7913669064748201\n",
            "roc:  0.988327431874307\n"
          ]
        }
      ],
      "source": [
        "from sklearn.ensemble import RandomForestClassifier\n",
        "from sklearn.metrics import accuracy_score, f1_score, precision_score, recall_score, roc_auc_score\n",
        "rf = RandomForestClassifier()\n",
        "rf.fit(X_tr, y_tr)\n",
        "pred = rf.predict(X_val)\n",
        "pred_proba = rf.predict_proba(X_val)\n",
        "print(\"정확도: \", accuracy_score(y_val, pred))\n",
        "print(\"F1: \",f1_score(y_val, pred))\n",
        "print(\"정밀도: \",precision_score(y_val, pred))\n",
        "print(\"재현율: \",recall_score(y_val, pred))\n",
        "print(\"roc: \",roc_auc_score(y_val, pred_proba[:, 1]))"
      ]
    },
    {
      "cell_type": "markdown",
      "metadata": {
        "id": "vENsjupLDUF9"
      },
      "source": [
        "## 예측 및 csv 제출"
      ]
    },
    {
      "cell_type": "code",
      "execution_count": 37,
      "metadata": {
        "id": "IiYRaaOvDV3K"
      },
      "outputs": [],
      "source": [
        "pred_proba = rf.predict_proba(test)"
      ]
    },
    {
      "cell_type": "code",
      "execution_count": 43,
      "metadata": {
        "id": "6q0_C27hOb-R"
      },
      "outputs": [],
      "source": [
        "submit = pd.DataFrame(\n",
        "    {\n",
        "        \"pred\": pred_proba[:, 1]\n",
        "    }\n",
        ")\n",
        "submit.to_csv('연습문제 1번제출.csv', index=False)"
      ]
    },
    {
      "cell_type": "markdown",
      "metadata": {
        "id": "CeJ_BK2KDX6Z"
      },
      "source": [
        "##정리"
      ]
    },
    {
      "cell_type": "code",
      "execution_count": 46,
      "metadata": {
        "id": "W03-nSpKDae6"
      },
      "outputs": [
        {
          "name": "stdout",
          "output_type": "stream",
          "text": [
            "0.988021789639479\n"
          ]
        }
      ],
      "source": [
        "# 아래 코드는 실제 시험에서는 확인할 수 없는 부분입니다.\n",
        "y_test = pd.read_csv(\"ceredit card/y_test.csv\")\n",
        "pred = pd.read_csv(\"연습문제 1번제출.csv\")\n",
        "print(roc_auc_score(y_test, pred))"
      ]
    },
    {
      "cell_type": "code",
      "execution_count": null,
      "metadata": {},
      "outputs": [],
      "source": []
    }
  ],
  "metadata": {
    "colab": {
      "provenance": []
    },
    "kernelspec": {
      "display_name": "Python 3",
      "name": "python3"
    },
    "language_info": {
      "codemirror_mode": {
        "name": "ipython",
        "version": 3
      },
      "file_extension": ".py",
      "mimetype": "text/x-python",
      "name": "python",
      "nbconvert_exporter": "python",
      "pygments_lexer": "ipython3",
      "version": "3.8.18"
    }
  },
  "nbformat": 4,
  "nbformat_minor": 0
}
