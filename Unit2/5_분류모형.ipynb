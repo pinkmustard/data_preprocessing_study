{
  "cells": [
    {
      "cell_type": "markdown",
      "metadata": {
        "id": "yay1MGk50Dpe"
      },
      "source": [
        "데이터 : data_atype.zip (수업노트에서 다운로드)\n",
        "\n",
        "## 머신러닝\n",
        "- 문제정의, 라이브러리/데이터 불러오기\n",
        "- 탐색적 데이터 분석 (EDA)\n",
        "- 데이터 전처리\n",
        "- 피처엔지니어링\n",
        "- (Train/Validation 나누기)\n",
        "- 모델 선택/훈련/평가/최적화\n",
        "- 예측\n",
        "- (csv 생성)"
      ]
    },
    {
      "cell_type": "markdown",
      "metadata": {
        "id": "t27TgVOS0GQ_"
      },
      "source": [
        "## 1. 베이스라인\n",
        "- 문제정의, 라이브러리 및 데이터 불러오기\n",
        "- 데이터 전처리 (단순 일괄 처리)\n",
        "- 모델 선택, 훈련\n",
        "- 평가\n",
        "\n",
        "## 2. 베이스라인\n",
        "- 훈련/검증용 데이터 분리\n",
        "- 모델 선택, 훈련\n",
        "    - 의사결정나무\n",
        "    - 랜덤포레스트\n",
        "    - XGBoost\n",
        "- 평가"
      ]
    },
    {
      "cell_type": "markdown",
      "metadata": {
        "id": "_80LyQdu5rIC"
      },
      "source": [
        "## 문제1\n",
        "- \"<= 50K -> 0\"\n",
        "- \"> 50K -> 1\"\n",
        "- 평가: 정확도"
      ]
    },
    {
      "cell_type": "code",
      "execution_count": 1,
      "metadata": {
        "id": "Lms2RPdv1YEH"
      },
      "outputs": [],
      "source": [
        "# 라이브러리 및 데이터 불러오기\n",
        "import pandas as pd\n",
        "\n",
        "X_train = pd.read_csv('data_atype_y/X_train.csv')\n",
        "X_test = pd.read_csv('data_atype_y/X_test.csv')\n",
        "y_train = pd.read_csv('data_atype_y/y_train.csv')"
      ]
    },
    {
      "cell_type": "code",
      "execution_count": 2,
      "metadata": {
        "id": "-Y8K4eEI1YGQ"
      },
      "outputs": [
        {
          "name": "stdout",
          "output_type": "stream",
          "text": [
            "(29304, 15)\n",
            "(3257, 15)\n",
            "(29304, 2)\n"
          ]
        }
      ],
      "source": [
        "# 데이터 크기\n",
        "print(X_train.shape)\n",
        "print(X_test.shape)\n",
        "print(y_train.shape)"
      ]
    },
    {
      "cell_type": "code",
      "execution_count": 3,
      "metadata": {
        "id": "gIDVmo1s1YIn"
      },
      "outputs": [
        {
          "data": {
            "text/html": [
              "<div>\n",
              "<style scoped>\n",
              "    .dataframe tbody tr th:only-of-type {\n",
              "        vertical-align: middle;\n",
              "    }\n",
              "\n",
              "    .dataframe tbody tr th {\n",
              "        vertical-align: top;\n",
              "    }\n",
              "\n",
              "    .dataframe thead th {\n",
              "        text-align: right;\n",
              "    }\n",
              "</style>\n",
              "<table border=\"1\" class=\"dataframe\">\n",
              "  <thead>\n",
              "    <tr style=\"text-align: right;\">\n",
              "      <th></th>\n",
              "      <th>id</th>\n",
              "      <th>age</th>\n",
              "      <th>workclass</th>\n",
              "      <th>fnlwgt</th>\n",
              "      <th>education</th>\n",
              "      <th>education.num</th>\n",
              "      <th>marital.status</th>\n",
              "      <th>occupation</th>\n",
              "      <th>relationship</th>\n",
              "      <th>race</th>\n",
              "      <th>sex</th>\n",
              "      <th>capital.gain</th>\n",
              "      <th>capital.loss</th>\n",
              "      <th>hours.per.week</th>\n",
              "      <th>native.country</th>\n",
              "    </tr>\n",
              "  </thead>\n",
              "  <tbody>\n",
              "    <tr>\n",
              "      <th>0</th>\n",
              "      <td>3331</td>\n",
              "      <td>34.0</td>\n",
              "      <td>State-gov</td>\n",
              "      <td>177331</td>\n",
              "      <td>Some-college</td>\n",
              "      <td>10</td>\n",
              "      <td>Married-civ-spouse</td>\n",
              "      <td>Prof-specialty</td>\n",
              "      <td>Husband</td>\n",
              "      <td>Black</td>\n",
              "      <td>Male</td>\n",
              "      <td>4386</td>\n",
              "      <td>0</td>\n",
              "      <td>40.0</td>\n",
              "      <td>United-States</td>\n",
              "    </tr>\n",
              "    <tr>\n",
              "      <th>1</th>\n",
              "      <td>19749</td>\n",
              "      <td>58.0</td>\n",
              "      <td>Private</td>\n",
              "      <td>290661</td>\n",
              "      <td>HS-grad</td>\n",
              "      <td>9</td>\n",
              "      <td>Married-civ-spouse</td>\n",
              "      <td>Craft-repair</td>\n",
              "      <td>Husband</td>\n",
              "      <td>White</td>\n",
              "      <td>Male</td>\n",
              "      <td>0</td>\n",
              "      <td>0</td>\n",
              "      <td>40.0</td>\n",
              "      <td>United-States</td>\n",
              "    </tr>\n",
              "    <tr>\n",
              "      <th>2</th>\n",
              "      <td>1157</td>\n",
              "      <td>48.0</td>\n",
              "      <td>Private</td>\n",
              "      <td>125933</td>\n",
              "      <td>Some-college</td>\n",
              "      <td>10</td>\n",
              "      <td>Widowed</td>\n",
              "      <td>Exec-managerial</td>\n",
              "      <td>Unmarried</td>\n",
              "      <td>Black</td>\n",
              "      <td>Female</td>\n",
              "      <td>0</td>\n",
              "      <td>1669</td>\n",
              "      <td>38.0</td>\n",
              "      <td>United-States</td>\n",
              "    </tr>\n",
              "  </tbody>\n",
              "</table>\n",
              "</div>"
            ],
            "text/plain": [
              "      id   age  workclass  fnlwgt     education  education.num  \\\n",
              "0   3331  34.0  State-gov  177331  Some-college             10   \n",
              "1  19749  58.0    Private  290661       HS-grad              9   \n",
              "2   1157  48.0    Private  125933  Some-college             10   \n",
              "\n",
              "       marital.status       occupation relationship   race     sex  \\\n",
              "0  Married-civ-spouse   Prof-specialty      Husband  Black    Male   \n",
              "1  Married-civ-spouse     Craft-repair      Husband  White    Male   \n",
              "2             Widowed  Exec-managerial    Unmarried  Black  Female   \n",
              "\n",
              "   capital.gain  capital.loss  hours.per.week native.country  \n",
              "0          4386             0            40.0  United-States  \n",
              "1             0             0            40.0  United-States  \n",
              "2             0          1669            38.0  United-States  "
            ]
          },
          "metadata": {},
          "output_type": "display_data"
        },
        {
          "data": {
            "text/html": [
              "<div>\n",
              "<style scoped>\n",
              "    .dataframe tbody tr th:only-of-type {\n",
              "        vertical-align: middle;\n",
              "    }\n",
              "\n",
              "    .dataframe tbody tr th {\n",
              "        vertical-align: top;\n",
              "    }\n",
              "\n",
              "    .dataframe thead th {\n",
              "        text-align: right;\n",
              "    }\n",
              "</style>\n",
              "<table border=\"1\" class=\"dataframe\">\n",
              "  <thead>\n",
              "    <tr style=\"text-align: right;\">\n",
              "      <th></th>\n",
              "      <th>id</th>\n",
              "      <th>income</th>\n",
              "    </tr>\n",
              "  </thead>\n",
              "  <tbody>\n",
              "    <tr>\n",
              "      <th>0</th>\n",
              "      <td>3331</td>\n",
              "      <td>&gt;50K</td>\n",
              "    </tr>\n",
              "    <tr>\n",
              "      <th>1</th>\n",
              "      <td>19749</td>\n",
              "      <td>&lt;=50K</td>\n",
              "    </tr>\n",
              "    <tr>\n",
              "      <th>2</th>\n",
              "      <td>1157</td>\n",
              "      <td>&lt;=50K</td>\n",
              "    </tr>\n",
              "  </tbody>\n",
              "</table>\n",
              "</div>"
            ],
            "text/plain": [
              "      id income\n",
              "0   3331   >50K\n",
              "1  19749  <=50K\n",
              "2   1157  <=50K"
            ]
          },
          "execution_count": 3,
          "metadata": {},
          "output_type": "execute_result"
        }
      ],
      "source": [
        "# 데이터 샘플\n",
        "display(X_train.head(3))\n",
        "y_train.head(3)"
      ]
    },
    {
      "cell_type": "code",
      "execution_count": 4,
      "metadata": {
        "id": "FK4xO0LE1YKK"
      },
      "outputs": [
        {
          "data": {
            "text/plain": [
              "29304"
            ]
          },
          "execution_count": 4,
          "metadata": {},
          "output_type": "execute_result"
        }
      ],
      "source": [
        "# 타겟 수 확인\n",
        "y_train.shape[0]"
      ]
    },
    {
      "cell_type": "code",
      "execution_count": 5,
      "metadata": {
        "id": "akwh0k9B1YMO"
      },
      "outputs": [
        {
          "name": "stdout",
          "output_type": "stream",
          "text": [
            "<class 'pandas.core.frame.DataFrame'>\n",
            "RangeIndex: 29304 entries, 0 to 29303\n",
            "Data columns (total 15 columns):\n",
            " #   Column          Non-Null Count  Dtype  \n",
            "---  ------          --------------  -----  \n",
            " 0   id              29304 non-null  int64  \n",
            " 1   age             29292 non-null  float64\n",
            " 2   workclass       27642 non-null  object \n",
            " 3   fnlwgt          29304 non-null  int64  \n",
            " 4   education       29304 non-null  object \n",
            " 5   education.num   29304 non-null  int64  \n",
            " 6   marital.status  29304 non-null  object \n",
            " 7   occupation      27636 non-null  object \n",
            " 8   relationship    29304 non-null  object \n",
            " 9   race            29304 non-null  object \n",
            " 10  sex             29304 non-null  object \n",
            " 11  capital.gain    29304 non-null  int64  \n",
            " 12  capital.loss    29304 non-null  int64  \n",
            " 13  hours.per.week  29291 non-null  float64\n",
            " 14  native.country  28767 non-null  object \n",
            "dtypes: float64(2), int64(5), object(8)\n",
            "memory usage: 3.4+ MB\n"
          ]
        }
      ],
      "source": [
        "# type확인\n",
        "X_train.info()"
      ]
    },
    {
      "cell_type": "code",
      "execution_count": 6,
      "metadata": {
        "id": "OqC_5By41YOn"
      },
      "outputs": [],
      "source": [
        "# 수치형 데이터 \n",
        "cols =[\n",
        "       'age',\n",
        "       'fnlwgt',\n",
        "       'education.num',\n",
        "       'capital.gain',\n",
        "       'capital.loss',\n",
        "       'hours.per.week'\n",
        "]"
      ]
    },
    {
      "cell_type": "code",
      "execution_count": 7,
      "metadata": {
        "id": "bgVNkdlr1YQp"
      },
      "outputs": [
        {
          "data": {
            "text/html": [
              "<div>\n",
              "<style scoped>\n",
              "    .dataframe tbody tr th:only-of-type {\n",
              "        vertical-align: middle;\n",
              "    }\n",
              "\n",
              "    .dataframe tbody tr th {\n",
              "        vertical-align: top;\n",
              "    }\n",
              "\n",
              "    .dataframe thead th {\n",
              "        text-align: right;\n",
              "    }\n",
              "</style>\n",
              "<table border=\"1\" class=\"dataframe\">\n",
              "  <thead>\n",
              "    <tr style=\"text-align: right;\">\n",
              "      <th></th>\n",
              "      <th>age</th>\n",
              "      <th>fnlwgt</th>\n",
              "      <th>education.num</th>\n",
              "      <th>capital.gain</th>\n",
              "      <th>capital.loss</th>\n",
              "      <th>hours.per.week</th>\n",
              "    </tr>\n",
              "  </thead>\n",
              "  <tbody>\n",
              "    <tr>\n",
              "      <th>count</th>\n",
              "      <td>29292.000000</td>\n",
              "      <td>2.930400e+04</td>\n",
              "      <td>29304.000000</td>\n",
              "      <td>29304.000000</td>\n",
              "      <td>29304.000000</td>\n",
              "      <td>29291.000000</td>\n",
              "    </tr>\n",
              "    <tr>\n",
              "      <th>mean</th>\n",
              "      <td>38.553223</td>\n",
              "      <td>1.897488e+05</td>\n",
              "      <td>10.080842</td>\n",
              "      <td>1093.858722</td>\n",
              "      <td>86.744506</td>\n",
              "      <td>40.434229</td>\n",
              "    </tr>\n",
              "    <tr>\n",
              "      <th>std</th>\n",
              "      <td>13.628811</td>\n",
              "      <td>1.055250e+05</td>\n",
              "      <td>2.570824</td>\n",
              "      <td>7477.435640</td>\n",
              "      <td>401.518928</td>\n",
              "      <td>12.324036</td>\n",
              "    </tr>\n",
              "    <tr>\n",
              "      <th>min</th>\n",
              "      <td>-38.000000</td>\n",
              "      <td>1.228500e+04</td>\n",
              "      <td>1.000000</td>\n",
              "      <td>0.000000</td>\n",
              "      <td>0.000000</td>\n",
              "      <td>1.000000</td>\n",
              "    </tr>\n",
              "    <tr>\n",
              "      <th>25%</th>\n",
              "      <td>28.000000</td>\n",
              "      <td>1.177890e+05</td>\n",
              "      <td>9.000000</td>\n",
              "      <td>0.000000</td>\n",
              "      <td>0.000000</td>\n",
              "      <td>40.000000</td>\n",
              "    </tr>\n",
              "    <tr>\n",
              "      <th>50%</th>\n",
              "      <td>37.000000</td>\n",
              "      <td>1.783765e+05</td>\n",
              "      <td>10.000000</td>\n",
              "      <td>0.000000</td>\n",
              "      <td>0.000000</td>\n",
              "      <td>40.000000</td>\n",
              "    </tr>\n",
              "    <tr>\n",
              "      <th>75%</th>\n",
              "      <td>48.000000</td>\n",
              "      <td>2.370682e+05</td>\n",
              "      <td>12.000000</td>\n",
              "      <td>0.000000</td>\n",
              "      <td>0.000000</td>\n",
              "      <td>45.000000</td>\n",
              "    </tr>\n",
              "    <tr>\n",
              "      <th>max</th>\n",
              "      <td>90.000000</td>\n",
              "      <td>1.484705e+06</td>\n",
              "      <td>16.000000</td>\n",
              "      <td>99999.000000</td>\n",
              "      <td>4356.000000</td>\n",
              "      <td>99.000000</td>\n",
              "    </tr>\n",
              "  </tbody>\n",
              "</table>\n",
              "</div>"
            ],
            "text/plain": [
              "                age        fnlwgt  education.num  capital.gain  capital.loss  \\\n",
              "count  29292.000000  2.930400e+04   29304.000000  29304.000000  29304.000000   \n",
              "mean      38.553223  1.897488e+05      10.080842   1093.858722     86.744506   \n",
              "std       13.628811  1.055250e+05       2.570824   7477.435640    401.518928   \n",
              "min      -38.000000  1.228500e+04       1.000000      0.000000      0.000000   \n",
              "25%       28.000000  1.177890e+05       9.000000      0.000000      0.000000   \n",
              "50%       37.000000  1.783765e+05      10.000000      0.000000      0.000000   \n",
              "75%       48.000000  2.370682e+05      12.000000      0.000000      0.000000   \n",
              "max       90.000000  1.484705e+06      16.000000  99999.000000   4356.000000   \n",
              "\n",
              "       hours.per.week  \n",
              "count    29291.000000  \n",
              "mean        40.434229  \n",
              "std         12.324036  \n",
              "min          1.000000  \n",
              "25%         40.000000  \n",
              "50%         40.000000  \n",
              "75%         45.000000  \n",
              "max         99.000000  "
            ]
          },
          "execution_count": 7,
          "metadata": {},
          "output_type": "execute_result"
        }
      ],
      "source": [
        "# 수치형 데이처 통계\n",
        "X_train[cols].describe()"
      ]
    },
    {
      "cell_type": "code",
      "execution_count": 8,
      "metadata": {
        "id": "hSZ6jcZU2yNo"
      },
      "outputs": [
        {
          "data": {
            "text/plain": [
              "age               12\n",
              "fnlwgt             0\n",
              "education.num      0\n",
              "capital.gain       0\n",
              "capital.loss       0\n",
              "hours.per.week    13\n",
              "dtype: int64"
            ]
          },
          "execution_count": 8,
          "metadata": {},
          "output_type": "execute_result"
        }
      ],
      "source": [
        "# 결측값\n",
        "X_train[cols].isnull().sum()"
      ]
    },
    {
      "cell_type": "code",
      "execution_count": 9,
      "metadata": {
        "id": "OWcS86eM29Lu"
      },
      "outputs": [],
      "source": [
        "# 간단한 결측치 처리\n",
        "X_train['age'] = X_train['age'].fillna(X_train['age'].mean())\n",
        "X_train['hours.per.week'] = X_train['hours.per.week'].fillna(X_train['hours.per.week'].mean())\n",
        "\n",
        "X_test['age'] = X_test['age'].fillna(X_test['age'].mean())\n",
        "X_test['hours.per.week'] = X_test['hours.per.week'].fillna(X_test['hours.per.week'].mean())"
      ]
    },
    {
      "cell_type": "code",
      "execution_count": 10,
      "metadata": {
        "id": "A2Yg-pHb3DOt"
      },
      "outputs": [
        {
          "data": {
            "text/plain": [
              "age               0\n",
              "fnlwgt            0\n",
              "education.num     0\n",
              "capital.gain      0\n",
              "capital.loss      0\n",
              "hours.per.week    0\n",
              "dtype: int64"
            ]
          },
          "execution_count": 10,
          "metadata": {},
          "output_type": "execute_result"
        }
      ],
      "source": [
        "# 결측치 확인\n",
        "X_train[cols].isnull().sum()"
      ]
    },
    {
      "cell_type": "code",
      "execution_count": 11,
      "metadata": {},
      "outputs": [
        {
          "data": {
            "text/plain": [
              "age               0\n",
              "fnlwgt            0\n",
              "education.num     0\n",
              "capital.gain      0\n",
              "capital.loss      0\n",
              "hours.per.week    0\n",
              "dtype: int64"
            ]
          },
          "execution_count": 11,
          "metadata": {},
          "output_type": "execute_result"
        }
      ],
      "source": [
        "X_test[cols].isnull().sum()"
      ]
    },
    {
      "cell_type": "code",
      "execution_count": 12,
      "metadata": {
        "id": "gN2pZzjk3Eqk"
      },
      "outputs": [],
      "source": [
        "# 베이스 라인에서는 그외 전처리 및 피처 엔지니어링 생략"
      ]
    },
    {
      "cell_type": "code",
      "execution_count": 13,
      "metadata": {
        "id": "JWTc9gNQ3YTd"
      },
      "outputs": [],
      "source": [
        "# target값 변경\n",
        "# <=50K -> 0\n",
        "# >50K -> 1\n",
        "y = (y_train['income'] == '>50K').astype(int)"
      ]
    },
    {
      "cell_type": "code",
      "execution_count": 14,
      "metadata": {
        "id": "QigWJcUmlTf0"
      },
      "outputs": [
        {
          "data": {
            "text/plain": [
              "0        1\n",
              "1        0\n",
              "2        0\n",
              "3        1\n",
              "4        0\n",
              "        ..\n",
              "29299    0\n",
              "29300    0\n",
              "29301    0\n",
              "29302    0\n",
              "29303    0\n",
              "Name: income, Length: 29304, dtype: int64"
            ]
          },
          "execution_count": 14,
          "metadata": {},
          "output_type": "execute_result"
        }
      ],
      "source": [
        "# 데이터 확인\n",
        "y"
      ]
    },
    {
      "cell_type": "markdown",
      "metadata": {
        "id": "n8EH3M_AgD4k"
      },
      "source": [
        "## 머신러닝 모델"
      ]
    },
    {
      "cell_type": "code",
      "execution_count": 15,
      "metadata": {
        "id": "RFDeHJ3h3eer"
      },
      "outputs": [],
      "source": [
        "# 랜덤포레스트\n",
        "from sklearn.ensemble import RandomForestClassifier\n",
        "rf = RandomForestClassifier()\n",
        "rf.fit(X_train[cols], y)\n",
        "pred  = rf.predict(X_test[cols])\n"
      ]
    },
    {
      "cell_type": "code",
      "execution_count": 16,
      "metadata": {
        "id": "-9oS_eo1m9z7"
      },
      "outputs": [
        {
          "data": {
            "text/plain": [
              "3257"
            ]
          },
          "execution_count": 16,
          "metadata": {},
          "output_type": "execute_result"
        }
      ],
      "source": [
        "# 데이터 크기 확인\n",
        "len(X_test)"
      ]
    },
    {
      "cell_type": "code",
      "execution_count": 17,
      "metadata": {},
      "outputs": [
        {
          "data": {
            "text/html": [
              "<div>\n",
              "<style scoped>\n",
              "    .dataframe tbody tr th:only-of-type {\n",
              "        vertical-align: middle;\n",
              "    }\n",
              "\n",
              "    .dataframe tbody tr th {\n",
              "        vertical-align: top;\n",
              "    }\n",
              "\n",
              "    .dataframe thead th {\n",
              "        text-align: right;\n",
              "    }\n",
              "</style>\n",
              "<table border=\"1\" class=\"dataframe\">\n",
              "  <thead>\n",
              "    <tr style=\"text-align: right;\">\n",
              "      <th></th>\n",
              "      <th>id</th>\n",
              "      <th>income</th>\n",
              "    </tr>\n",
              "  </thead>\n",
              "  <tbody>\n",
              "    <tr>\n",
              "      <th>0</th>\n",
              "      <td>11574</td>\n",
              "      <td>&lt;=50K</td>\n",
              "    </tr>\n",
              "    <tr>\n",
              "      <th>1</th>\n",
              "      <td>15847</td>\n",
              "      <td>&lt;=50K</td>\n",
              "    </tr>\n",
              "    <tr>\n",
              "      <th>2</th>\n",
              "      <td>17655</td>\n",
              "      <td>&lt;=50K</td>\n",
              "    </tr>\n",
              "    <tr>\n",
              "      <th>3</th>\n",
              "      <td>19790</td>\n",
              "      <td>&gt;50K</td>\n",
              "    </tr>\n",
              "    <tr>\n",
              "      <th>4</th>\n",
              "      <td>31812</td>\n",
              "      <td>&lt;=50K</td>\n",
              "    </tr>\n",
              "    <tr>\n",
              "      <th>...</th>\n",
              "      <td>...</td>\n",
              "      <td>...</td>\n",
              "    </tr>\n",
              "    <tr>\n",
              "      <th>3252</th>\n",
              "      <td>20589</td>\n",
              "      <td>&lt;=50K</td>\n",
              "    </tr>\n",
              "    <tr>\n",
              "      <th>3253</th>\n",
              "      <td>5668</td>\n",
              "      <td>&lt;=50K</td>\n",
              "    </tr>\n",
              "    <tr>\n",
              "      <th>3254</th>\n",
              "      <td>27652</td>\n",
              "      <td>&lt;=50K</td>\n",
              "    </tr>\n",
              "    <tr>\n",
              "      <th>3255</th>\n",
              "      <td>14735</td>\n",
              "      <td>&lt;=50K</td>\n",
              "    </tr>\n",
              "    <tr>\n",
              "      <th>3256</th>\n",
              "      <td>4426</td>\n",
              "      <td>&lt;=50K</td>\n",
              "    </tr>\n",
              "  </tbody>\n",
              "</table>\n",
              "<p>3257 rows × 2 columns</p>\n",
              "</div>"
            ],
            "text/plain": [
              "         id income\n",
              "0     11574  <=50K\n",
              "1     15847  <=50K\n",
              "2     17655  <=50K\n",
              "3     19790   >50K\n",
              "4     31812  <=50K\n",
              "...     ...    ...\n",
              "3252  20589  <=50K\n",
              "3253   5668  <=50K\n",
              "3254  27652  <=50K\n",
              "3255  14735  <=50K\n",
              "3256   4426  <=50K\n",
              "\n",
              "[3257 rows x 2 columns]"
            ]
          },
          "execution_count": 17,
          "metadata": {},
          "output_type": "execute_result"
        }
      ],
      "source": [
        "y_test = pd.read_csv('data_atype_y/y_test.csv')\n",
        "y_test"
      ]
    },
    {
      "cell_type": "code",
      "execution_count": 18,
      "metadata": {
        "id": "bPW5x_lc5MXv"
      },
      "outputs": [],
      "source": [
        "# 예측 및 csv 파일 생성\n",
        "# pred[:10]\n",
        "df = pd.DataFrame(\n",
        "    {\n",
        "        'id': X_test['id'],\n",
        "        'income': pred\n",
        "    }\n",
        ")\n",
        "df.to_csv('4_피처엔지니어링_1.csv', index=False)"
      ]
    },
    {
      "cell_type": "code",
      "execution_count": 19,
      "metadata": {
        "id": "0Ea7gujvmmOt"
      },
      "outputs": [
        {
          "data": {
            "text/html": [
              "<div>\n",
              "<style scoped>\n",
              "    .dataframe tbody tr th:only-of-type {\n",
              "        vertical-align: middle;\n",
              "    }\n",
              "\n",
              "    .dataframe tbody tr th {\n",
              "        vertical-align: top;\n",
              "    }\n",
              "\n",
              "    .dataframe thead th {\n",
              "        text-align: right;\n",
              "    }\n",
              "</style>\n",
              "<table border=\"1\" class=\"dataframe\">\n",
              "  <thead>\n",
              "    <tr style=\"text-align: right;\">\n",
              "      <th></th>\n",
              "      <th>id</th>\n",
              "      <th>income</th>\n",
              "    </tr>\n",
              "  </thead>\n",
              "  <tbody>\n",
              "    <tr>\n",
              "      <th>0</th>\n",
              "      <td>3331</td>\n",
              "      <td>&gt;50K</td>\n",
              "    </tr>\n",
              "    <tr>\n",
              "      <th>1</th>\n",
              "      <td>19749</td>\n",
              "      <td>&lt;=50K</td>\n",
              "    </tr>\n",
              "    <tr>\n",
              "      <th>2</th>\n",
              "      <td>1157</td>\n",
              "      <td>&lt;=50K</td>\n",
              "    </tr>\n",
              "    <tr>\n",
              "      <th>3</th>\n",
              "      <td>693</td>\n",
              "      <td>&gt;50K</td>\n",
              "    </tr>\n",
              "    <tr>\n",
              "      <th>4</th>\n",
              "      <td>12522</td>\n",
              "      <td>&lt;=50K</td>\n",
              "    </tr>\n",
              "    <tr>\n",
              "      <th>...</th>\n",
              "      <td>...</td>\n",
              "      <td>...</td>\n",
              "    </tr>\n",
              "    <tr>\n",
              "      <th>29299</th>\n",
              "      <td>15999</td>\n",
              "      <td>&lt;=50K</td>\n",
              "    </tr>\n",
              "    <tr>\n",
              "      <th>29300</th>\n",
              "      <td>21604</td>\n",
              "      <td>&lt;=50K</td>\n",
              "    </tr>\n",
              "    <tr>\n",
              "      <th>29301</th>\n",
              "      <td>26839</td>\n",
              "      <td>&lt;=50K</td>\n",
              "    </tr>\n",
              "    <tr>\n",
              "      <th>29302</th>\n",
              "      <td>16681</td>\n",
              "      <td>&lt;=50K</td>\n",
              "    </tr>\n",
              "    <tr>\n",
              "      <th>29303</th>\n",
              "      <td>16069</td>\n",
              "      <td>&lt;=50K</td>\n",
              "    </tr>\n",
              "  </tbody>\n",
              "</table>\n",
              "<p>29304 rows × 2 columns</p>\n",
              "</div>"
            ],
            "text/plain": [
              "          id income\n",
              "0       3331   >50K\n",
              "1      19749  <=50K\n",
              "2       1157  <=50K\n",
              "3        693   >50K\n",
              "4      12522  <=50K\n",
              "...      ...    ...\n",
              "29299  15999  <=50K\n",
              "29300  21604  <=50K\n",
              "29301  26839  <=50K\n",
              "29302  16681  <=50K\n",
              "29303  16069  <=50K\n",
              "\n",
              "[29304 rows x 2 columns]"
            ]
          },
          "execution_count": 19,
          "metadata": {},
          "output_type": "execute_result"
        }
      ],
      "source": [
        "# 데이터 확인(y_train)\n",
        "y_train"
      ]
    },
    {
      "cell_type": "code",
      "execution_count": 21,
      "metadata": {
        "id": "DYWTioeQHxFB"
      },
      "outputs": [
        {
          "data": {
            "text/plain": [
              "0.8105618667485416"
            ]
          },
          "execution_count": 21,
          "metadata": {},
          "output_type": "execute_result"
        }
      ],
      "source": [
        "# 평가 (수험자는 알 수 없는 부분임) accuracy\n",
        "from sklearn.metrics import accuracy_score\n",
        "ans = (y_test['income'] == '>50K').astype(int)\n",
        "accuracy_score(ans, pred)"
      ]
    },
    {
      "cell_type": "code",
      "execution_count": 22,
      "metadata": {
        "id": "vewjbbWNoloZ"
      },
      "outputs": [
        {
          "data": {
            "text/html": [
              "<div>\n",
              "<style scoped>\n",
              "    .dataframe tbody tr th:only-of-type {\n",
              "        vertical-align: middle;\n",
              "    }\n",
              "\n",
              "    .dataframe tbody tr th {\n",
              "        vertical-align: top;\n",
              "    }\n",
              "\n",
              "    .dataframe thead th {\n",
              "        text-align: right;\n",
              "    }\n",
              "</style>\n",
              "<table border=\"1\" class=\"dataframe\">\n",
              "  <thead>\n",
              "    <tr style=\"text-align: right;\">\n",
              "      <th></th>\n",
              "      <th>id</th>\n",
              "      <th>income</th>\n",
              "    </tr>\n",
              "  </thead>\n",
              "  <tbody>\n",
              "    <tr>\n",
              "      <th>0</th>\n",
              "      <td>11574</td>\n",
              "      <td>&lt;=50K</td>\n",
              "    </tr>\n",
              "    <tr>\n",
              "      <th>1</th>\n",
              "      <td>15847</td>\n",
              "      <td>&lt;=50K</td>\n",
              "    </tr>\n",
              "    <tr>\n",
              "      <th>2</th>\n",
              "      <td>17655</td>\n",
              "      <td>&lt;=50K</td>\n",
              "    </tr>\n",
              "    <tr>\n",
              "      <th>3</th>\n",
              "      <td>19790</td>\n",
              "      <td>&gt;50K</td>\n",
              "    </tr>\n",
              "    <tr>\n",
              "      <th>4</th>\n",
              "      <td>31812</td>\n",
              "      <td>&lt;=50K</td>\n",
              "    </tr>\n",
              "    <tr>\n",
              "      <th>...</th>\n",
              "      <td>...</td>\n",
              "      <td>...</td>\n",
              "    </tr>\n",
              "    <tr>\n",
              "      <th>3252</th>\n",
              "      <td>20589</td>\n",
              "      <td>&lt;=50K</td>\n",
              "    </tr>\n",
              "    <tr>\n",
              "      <th>3253</th>\n",
              "      <td>5668</td>\n",
              "      <td>&lt;=50K</td>\n",
              "    </tr>\n",
              "    <tr>\n",
              "      <th>3254</th>\n",
              "      <td>27652</td>\n",
              "      <td>&lt;=50K</td>\n",
              "    </tr>\n",
              "    <tr>\n",
              "      <th>3255</th>\n",
              "      <td>14735</td>\n",
              "      <td>&lt;=50K</td>\n",
              "    </tr>\n",
              "    <tr>\n",
              "      <th>3256</th>\n",
              "      <td>4426</td>\n",
              "      <td>&lt;=50K</td>\n",
              "    </tr>\n",
              "  </tbody>\n",
              "</table>\n",
              "<p>3257 rows × 2 columns</p>\n",
              "</div>"
            ],
            "text/plain": [
              "         id income\n",
              "0     11574  <=50K\n",
              "1     15847  <=50K\n",
              "2     17655  <=50K\n",
              "3     19790   >50K\n",
              "4     31812  <=50K\n",
              "...     ...    ...\n",
              "3252  20589  <=50K\n",
              "3253   5668  <=50K\n",
              "3254  27652  <=50K\n",
              "3255  14735  <=50K\n",
              "3256   4426  <=50K\n",
              "\n",
              "[3257 rows x 2 columns]"
            ]
          },
          "execution_count": 22,
          "metadata": {},
          "output_type": "execute_result"
        }
      ],
      "source": [
        "y_test"
      ]
    },
    {
      "cell_type": "markdown",
      "metadata": {
        "id": "_BKWTzWkJQv2"
      },
      "source": [
        "## 문제2\n",
        "- \"<= 50K -> 0\"\n",
        "- \"> 50K -> 1\"\n",
        "- 평가: roc_auc 예측 해야할 값은 : 확률"
      ]
    },
    {
      "cell_type": "markdown",
      "metadata": {
        "id": "Nzej09MlJ8LK"
      },
      "source": [
        "## 검증용 데이터 분리"
      ]
    },
    {
      "cell_type": "code",
      "execution_count": 23,
      "metadata": {
        "id": "HVoBZvs1KIcX"
      },
      "outputs": [],
      "source": [
        "# 학습용 데이터와 검증용 데이터로 구분\n",
        "from sklearn.model_selection import train_test_split\n",
        "y = (y_train['income'] == '>50K').astype(int)\n",
        "X_tr, X_val, y_tr, y_val = train_test_split(X_train, y, test_size=0.1, random_state=42)"
      ]
    },
    {
      "cell_type": "code",
      "execution_count": 24,
      "metadata": {
        "id": "3FRR7dQsqGM5"
      },
      "outputs": [
        {
          "data": {
            "text/plain": [
              "((26373, 15), (2931, 15), (26373,), (2931,))"
            ]
          },
          "execution_count": 24,
          "metadata": {},
          "output_type": "execute_result"
        }
      ],
      "source": [
        "# 데이터 크기\n",
        "X_tr.shape, X_val.shape, y_tr.shape, y_val.shape"
      ]
    },
    {
      "cell_type": "code",
      "execution_count": 26,
      "metadata": {
        "id": "hgx0DBv0KUM9"
      },
      "outputs": [],
      "source": [
        "# 의사결정나무\n",
        "from sklearn.tree import DecisionTreeClassifier\n",
        "dt = DecisionTreeClassifier()\n",
        "dt.fit(X_tr[cols], y_tr)\n",
        "pred = dt.predict_proba(X_val[cols])"
      ]
    },
    {
      "cell_type": "code",
      "execution_count": 29,
      "metadata": {},
      "outputs": [
        {
          "data": {
            "text/plain": [
              "0.6893131820554703"
            ]
          },
          "execution_count": 29,
          "metadata": {},
          "output_type": "execute_result"
        }
      ],
      "source": [
        "from sklearn.metrics import roc_auc_score\n",
        "roc_auc_score(y_val, pred[:, 1])"
      ]
    },
    {
      "cell_type": "code",
      "execution_count": 30,
      "metadata": {
        "id": "MDQLbbrvKcby"
      },
      "outputs": [],
      "source": [
        "# 랜덤포레스트\n",
        "# 의사결정나무\n",
        "from sklearn.ensemble import RandomForestClassifier\n",
        "dt = RandomForestClassifier()\n",
        "dt.fit(X_tr[cols], y_tr)\n",
        "pred = dt.predict_proba(X_val[cols])"
      ]
    },
    {
      "cell_type": "code",
      "execution_count": 31,
      "metadata": {},
      "outputs": [
        {
          "data": {
            "text/plain": [
              "0.8203653244525179"
            ]
          },
          "execution_count": 31,
          "metadata": {},
          "output_type": "execute_result"
        }
      ],
      "source": [
        "from sklearn.metrics import roc_auc_score\n",
        "roc_auc_score(y_val, pred[:, 1])"
      ]
    },
    {
      "cell_type": "code",
      "execution_count": 36,
      "metadata": {
        "id": "F2z92oVuKcg3"
      },
      "outputs": [],
      "source": [
        "# XGBoost\n",
        "from xgboost import XGBClassifier\n",
        "dt = XGBClassifier()\n",
        "dt.fit(X_tr[cols], y_tr)\n",
        "pred = dt.predict_proba(X_val[cols])"
      ]
    },
    {
      "cell_type": "code",
      "execution_count": 33,
      "metadata": {},
      "outputs": [
        {
          "data": {
            "text/plain": [
              "0.8649952219518607"
            ]
          },
          "execution_count": 33,
          "metadata": {},
          "output_type": "execute_result"
        }
      ],
      "source": [
        "from sklearn.metrics import roc_auc_score\n",
        "roc_auc_score(y_val, pred[:, 1])"
      ]
    },
    {
      "cell_type": "code",
      "execution_count": 37,
      "metadata": {
        "id": "e-4HSC67MKK8"
      },
      "outputs": [],
      "source": [
        "# 평가 데이터로 예측 및 csv파일 생성\n",
        "# 평가 데이터로 예측 및 csv파일 생성\n",
        "from sklearn.metrics import roc_auc_score\n",
        "roc_auc_score(y_val,pred[:,1])\n",
        "pred = dt.predict_proba(X_test[cols])\n",
        "submit = pd.DataFrame(\n",
        "            {\n",
        "                'id':X_test['id'],\n",
        "                'income':pred[:,1]\n",
        "            }\n",
        "        )\n",
        "submit.to_csv(\"22222.csv\", index=False)"
      ]
    },
    {
      "cell_type": "markdown",
      "metadata": {
        "id": "Wmd5DkKbLibD"
      },
      "source": [
        "# 평가\n",
        "- 수험자는 알 수 없는 영역임"
      ]
    },
    {
      "cell_type": "code",
      "execution_count": 39,
      "metadata": {
        "id": "lFxaAAK3LZfw"
      },
      "outputs": [
        {
          "data": {
            "text/plain": [
              "0.8780026455026455"
            ]
          },
          "execution_count": 39,
          "metadata": {},
          "output_type": "execute_result"
        }
      ],
      "source": [
        "from sklearn.metrics import roc_auc_score\n",
        "y_test = pd.read_csv(\"data_atype_y/y_test.csv\")\n",
        "ans = (y_test['income'] != '<=50K').astype(int)\n",
        "roc_auc_score(ans, pred[:,1])"
      ]
    },
    {
      "cell_type": "code",
      "execution_count": null,
      "metadata": {
        "id": "HFjeBQBDtVxN"
      },
      "outputs": [],
      "source": []
    }
  ],
  "metadata": {
    "colab": {
      "provenance": []
    },
    "kernelspec": {
      "display_name": "Python 3",
      "name": "python3"
    },
    "language_info": {
      "codemirror_mode": {
        "name": "ipython",
        "version": 3
      },
      "file_extension": ".py",
      "mimetype": "text/x-python",
      "name": "python",
      "nbconvert_exporter": "python",
      "pygments_lexer": "ipython3",
      "version": "3.8.18"
    }
  },
  "nbformat": 4,
  "nbformat_minor": 0
}
